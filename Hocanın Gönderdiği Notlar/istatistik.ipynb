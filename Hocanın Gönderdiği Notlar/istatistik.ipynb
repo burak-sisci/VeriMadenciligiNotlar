{
 "cells": [
  {
   "cell_type": "markdown",
   "id": "5cbf480a-34e2-4dd6-bd3b-2e05ae241cfd",
   "metadata": {},
   "source": [
    "## İstatistik Nedir\n",
    "\n",
    "İstatistik, veri toplama ve analiz etme uygulama ve çalışmasıdır."
   ]
  },
  {
   "cell_type": "markdown",
   "id": "e4888510-8ce8-4ca5-8a78-8f061b3558d9",
   "metadata": {},
   "source": [
    "İki ana dala ayrılır\n",
    "<ul>\n",
    "  <li><b>Descriptive/Summary İstatistik</b> : Eldeki veriyi açıklar vey özetler</li>\n",
    "  <li><b>Inferential İstatistik :</b> Çıkarımsal istatistik, temsil edilen popülasyon hakkında sonuçlar çıkarmak için örneklemi kullanmayı içerir</li>\n",
    "</ul> "
   ]
  },
  {
   "cell_type": "markdown",
   "id": "a19db30b-7234-4cc1-86b4-925712233375",
   "metadata": {},
   "source": [
    "## İstatistik Neden Bu kadar Önemli?\n",
    "\n",
    "Spor İstatistikleri <img src=\"pictures/spor_statistic.JPG\" width=150 height=150 /> </br>\n",
    "Kişisel Finans <img src=\"pictures/personal_statistic.jpeg\" width=150 height=150 />"
   ]
  },
  {
   "cell_type": "markdown",
   "id": "97d20b88-586f-4dbf-8809-1a7fa09920aa",
   "metadata": {},
   "source": [
    "## İstatistik ne yapabilir?\n",
    "\n",
    "<b>Pratikte soruları cevaplamak için</b>\n",
    "<ul>\n",
    "  <li>Türkiye'de ortalama maaş nedir?</li>\n",
    "  <li>Bir şirketin haftada kaç müşteri sorgusu alması muhtemeldir?</li>\n",
    "</ul> \n",
    "\n",
    "<b>Toplum genelinde uygulamalar</b>\n",
    "\n",
    "<ul>\n",
    "  <li>Otomobil veya uçak gibi daha güvenli ürünler geliştirmek</li>\n",
    "  <li>Hükümetin nüfusunun ihtiyaçlarını anlamasına yardımcı olmak</li>\n",
    "\n",
    "</ul> \n",
    "\n",
    "<b>COVID-19 aşıları gibi bilimsel atılımları doğrular</b>"
   ]
  },
  {
   "cell_type": "markdown",
   "id": "bff3459b-4cd9-412a-b6a0-0d1f53e0f2e5",
   "metadata": {},
   "source": [
    "## İstatistik hangi sorulara cevap verebilir?\n",
    "\n",
    "<ul>\n",
    "    <li>Birinin bir ürünü alma olasılığı ne kadardır? İnsanlar farklı bir ödeme sistemi kullanabilselerdi, satın alma olasılıkları daha mı yüksek olurdu?</li>\n",
    "    <li>Otelinizde kaç kişi konaklayacak? Doluluk oranını nasıl optimize edersiniz?</li>\n",
    "    <li>Nüfusun %95'ine uyabilmesi için kaç beden kot üretilmesi gerekiyor? Her bedenden aynı sayıda mı üretilmeli?</li>\n",
    "    <li>Hangi reklam insanların bir ürünü satın almasını sağlamada daha etkilidir?(A/B Testi)</li>\n",
    "</ul>"
   ]
  },
  {
   "cell_type": "markdown",
   "id": "74e3230c-857e-4c31-b852-1eb15c329686",
   "metadata": {},
   "source": [
    "## İstatistiğin Sınırlamaları\n",
    "<b>İstatistikler; geniş, açık sorular yerine, spesifik, ölçülebilir sorular gerektirir.</b>\n",
    "<ul>\n",
    "  <li>Örneğin; istatistikler bize pop müziğin Türkiyede daha popüler olup olmadığını söyleyebilir.</li>\n",
    "</ul> \n",
    "\n",
    "<b>Ancak, ilişkilerin neden var olduğunu bulmak için istatistikleri kullanamayız</b>\n",
    "<ul>\n",
    "  <li>Örneğin; insanların neden farklı müzik türlerini sevdiğini veya kadınların neden erkeklerden fazla yaşadığını</li>\n",
    "</ul> \n"
   ]
  },
  {
   "cell_type": "markdown",
   "id": "9514ef54-3ca2-4c8d-a6a8-c748d5dcea12",
   "metadata": {},
   "source": [
    "## İstatistik hangi sorulara cevap veremez?\n",
    "\n",
    "<ul>\n",
    "    <li>Game of Thrones dizisi neden bu kadar popüler?: Herkese neden beğendikleri sorulabilir. Fakat yalan söyleyebilirler veya sebebini açıklamayabilirler </li>\n",
    "    <li>Daha fazla şiddet sahnesi içeren filmlerin daha çok izleyici çekip çekmediği görülebilir. Fakat, Game of Thrones'daki şiddetin bunun sebebi olup olmadığına karar verilemez.</li>\n",
    "\n",
    "</ul>"
   ]
  },
  {
   "cell_type": "markdown",
   "id": "f90211b2-bccb-4f7b-a9a9-1a27efcb0141",
   "metadata": {},
   "source": [
    "## Veri Türleri\n",
    "<ul>\n",
    "  <li>Nümerik/Nicel</li>\n",
    "    <ol>\n",
    "        <li>Sürekli Veriler : Hisse Senedi Fiyatı, Günlük Rüzgar Hızı, Ürün kutusu ölçüleri ve ağırlığı</li>\n",
    "        <li>Ayrık Veriler : Ürün incelemelerinin sayısı, Bir günde satılan bilet sayısı, Sınıftaki öğrenci sayısı</li>\n",
    "    </ol>\n",
    "</ul> \n"
   ]
  },
  {
   "cell_type": "markdown",
   "id": "c0b4e7d6-00b0-4bf8-abc3-bd291045273c",
   "metadata": {},
   "source": [
    "## Nümerik Verileri Görselleştirme\n",
    "\n",
    "Sayısal veriler arasındaki ilişkiyi görselleştirmenin en yaygın yolu dağılım grafiği kullanmaktır. \n",
    "\n",
    "<img src=\"pictures/scatter_example.png\" width=500 height=500 />"
   ]
  },
  {
   "cell_type": "markdown",
   "id": "33edf01b-3cfd-412c-9896-e7b75fc2bf16",
   "metadata": {},
   "source": [
    "<ul>\n",
    "  <li>Kategorik</li>\n",
    "    <ol>\n",
    "        <li>Nominal Veriler : Göz Rengi gibi sıralanmamış kategorileri tanımlayan veriler.</li>\n",
    "        <li>Ordinal Veriler : Kategorilerin sıralandığı veriler. Likert ölçeği(Seviyorum, sevmiyorum..), </li>\n",
    "    </ol>\n",
    "</ul> "
   ]
  },
  {
   "cell_type": "markdown",
   "id": "17c7e8ee-c19b-4e5c-8f1f-153c3e55ee63",
   "metadata": {},
   "source": [
    "## Kategorik Verileri Görselleştirme\n",
    "\n",
    "Kategorik verileri ve bunların sayıları arasındaki ilişki görselleştirilebilir.\n",
    "\n",
    "<img src=\"pictures/bar_example.png\" width=500 height=500 />"
   ]
  },
  {
   "cell_type": "markdown",
   "id": "b378c58f-8621-4007-8e34-952f29afa0cc",
   "metadata": {},
   "source": [
    "## Descriptive/Summary İstatistik\n",
    "<img src=\"pictures/descriptive_1.png\" width=500 height=500 /> </br>\n",
    "Dört arkadaşa işe nasıl gittikleri sorulduğunda; %50'si işe arabayla, %25'i otobüs %25'i ise bisikletle gittiğini belirtsin. Bunlar betimsel istatistiklerdir.\n",
    "<img src=\"pictures/descriptive.png\" width=500 height=500 /> "
   ]
  },
  {
   "cell_type": "markdown",
   "id": "ba69031c-7f4e-4037-9b43-0d61b4d6ebb6",
   "metadata": {},
   "source": [
    "## Inferential İstatistik\n",
    "Bir popülasyon hakkında sonuç çıkarmak için bir örneklem kullanılır.</br>\n",
    "Örneğin, 100 kişiye sosyal medya reklamlarını gördükten sonra kıyafet alıp almadıkları sorulabilir ve burdan elde edilen sonuç tüm insanların yüzde kaçının sosyal medya reklamı sonrası kıyafet aldığını anlamak için kullanılabilir.</br>\n"
   ]
  },
  {
   "cell_type": "markdown",
   "id": "a8b5e85e-cc8c-44c5-bede-7f7db1548e40",
   "metadata": {},
   "source": [
    "## Merkez Ölçümleri\n",
    "\n",
    "<b>Merkez ölçümleri neden faydalıdır?</b>\n",
    "<ul>\n",
    "    <li>Bir işyerinde aylık ortalama sipariş sayısının ne olduğu sorulabilir.</li>\n",
    "    <li>Bir evin tipik maliyeti öğrenilebilir</li>\n",
    "    <li>En yaygın saç rengi öğrenilebilir</li>\n",
    "</ul>\n",
    "\n",
    "Ortalama, tipik, en yaygın gibi termonolijilerin tümü merkez ölçümlerinin günlük yaşamda nasıl ifade edildiğine dair örneklerdir.</br>\n"
   ]
  },
  {
   "cell_type": "markdown",
   "id": "3da1085f-1489-45a8-81dd-31e777aa42ab",
   "metadata": {},
   "source": [
    "<b>Suç Verisi</b>\n",
    "\n",
    "<img src=\"pictures/crime_data.png\" width=500 height=500 />\n",
    "\n",
    "Bu veri setindeki verileri histogram yolu ile görselleştirelim.</br>\n",
    "Histogram, veri noktalarını alır ve bunları bölmelere veya değer aralıklarına ayırır. \n",
    "\n",
    "<img src=\"pictures/histogram_first.png\" width=500 height=500 />\n",
    "\n",
    "Yukarıda her biri ayrı yüksekliğe sahip sekiz kutulu araç suçlarının histogramı verilmiştir.Ortadaki zirve dokuz Londra ilçesinde son iki yılda 6000 ila 7300 arasında araç suçu işlendiğini göstermektedir. </br>\n",
    "\n",
    "Histogram sayısal verileri özetlemenin çok iyi bir yoludur ancak tanımlayıcı istatistikler de kullanılabilir."
   ]
  },
  {
   "cell_type": "markdown",
   "id": "3c51fd8c-65f1-421b-9673-b6a8a427c8b4",
   "metadata": {},
   "source": [
    "<b>Londra'da tipik araç suçu miktarı nedir?</b>\n",
    "\n",
    "Bu sorunun cevaplanabilmesi için verinin tipik veya merkez değerinin ne olduğunun belirlenmesi gerekir. Bunun histogram gibi veri görselleştirme yoluyla belirlenmesi zordur.\n",
    "\n",
    "<img src=\"pictures/histogram_center.png\" width=500 height=500 />\n",
    "\n",
    "Merkezi hesaplamanın üç yolu bulunmaktadır.\n",
    "<ul>\n",
    "    <li>Ortalama</li>\n",
    "    <li>Medyan</li>\n",
    "    <li>Mod</li>\n",
    "</ul>"
   ]
  },
  {
   "cell_type": "code",
   "execution_count": 1,
   "id": "24132c88-a15c-403e-8e5f-06aa982b2786",
   "metadata": {},
   "outputs": [
    {
     "data": {
      "text/html": [
       "<div>\n",
       "<style scoped>\n",
       "    .dataframe tbody tr th:only-of-type {\n",
       "        vertical-align: middle;\n",
       "    }\n",
       "\n",
       "    .dataframe tbody tr th {\n",
       "        vertical-align: top;\n",
       "    }\n",
       "\n",
       "    .dataframe thead th {\n",
       "        text-align: right;\n",
       "    }\n",
       "</style>\n",
       "<table border=\"1\" class=\"dataframe\">\n",
       "  <thead>\n",
       "    <tr style=\"text-align: right;\">\n",
       "      <th></th>\n",
       "      <th>name</th>\n",
       "      <th>genus</th>\n",
       "      <th>vore</th>\n",
       "      <th>order</th>\n",
       "      <th>conservation</th>\n",
       "      <th>sleep_total</th>\n",
       "      <th>sleep_rem</th>\n",
       "      <th>sleep_cycle</th>\n",
       "      <th>awake</th>\n",
       "      <th>brainwt</th>\n",
       "      <th>bodywt</th>\n",
       "    </tr>\n",
       "  </thead>\n",
       "  <tbody>\n",
       "    <tr>\n",
       "      <th>0</th>\n",
       "      <td>Cheetah</td>\n",
       "      <td>Acinonyx</td>\n",
       "      <td>carni</td>\n",
       "      <td>Carnivora</td>\n",
       "      <td>lc</td>\n",
       "      <td>12.1</td>\n",
       "      <td>NaN</td>\n",
       "      <td>NaN</td>\n",
       "      <td>11.9</td>\n",
       "      <td>NaN</td>\n",
       "      <td>50.000</td>\n",
       "    </tr>\n",
       "    <tr>\n",
       "      <th>1</th>\n",
       "      <td>Owl monkey</td>\n",
       "      <td>Aotus</td>\n",
       "      <td>omni</td>\n",
       "      <td>Primates</td>\n",
       "      <td>NaN</td>\n",
       "      <td>17.0</td>\n",
       "      <td>1.8</td>\n",
       "      <td>NaN</td>\n",
       "      <td>7.0</td>\n",
       "      <td>0.01550</td>\n",
       "      <td>0.480</td>\n",
       "    </tr>\n",
       "    <tr>\n",
       "      <th>2</th>\n",
       "      <td>Mountain beaver</td>\n",
       "      <td>Aplodontia</td>\n",
       "      <td>herbi</td>\n",
       "      <td>Rodentia</td>\n",
       "      <td>nt</td>\n",
       "      <td>14.4</td>\n",
       "      <td>2.4</td>\n",
       "      <td>NaN</td>\n",
       "      <td>9.6</td>\n",
       "      <td>NaN</td>\n",
       "      <td>1.350</td>\n",
       "    </tr>\n",
       "    <tr>\n",
       "      <th>3</th>\n",
       "      <td>Greater short-tailed shrew</td>\n",
       "      <td>Blarina</td>\n",
       "      <td>omni</td>\n",
       "      <td>Soricomorpha</td>\n",
       "      <td>lc</td>\n",
       "      <td>14.9</td>\n",
       "      <td>2.3</td>\n",
       "      <td>0.133333</td>\n",
       "      <td>9.1</td>\n",
       "      <td>0.00029</td>\n",
       "      <td>0.019</td>\n",
       "    </tr>\n",
       "    <tr>\n",
       "      <th>4</th>\n",
       "      <td>Cow</td>\n",
       "      <td>Bos</td>\n",
       "      <td>herbi</td>\n",
       "      <td>Artiodactyla</td>\n",
       "      <td>domesticated</td>\n",
       "      <td>4.0</td>\n",
       "      <td>0.7</td>\n",
       "      <td>0.666667</td>\n",
       "      <td>20.0</td>\n",
       "      <td>0.42300</td>\n",
       "      <td>600.000</td>\n",
       "    </tr>\n",
       "    <tr>\n",
       "      <th>...</th>\n",
       "      <td>...</td>\n",
       "      <td>...</td>\n",
       "      <td>...</td>\n",
       "      <td>...</td>\n",
       "      <td>...</td>\n",
       "      <td>...</td>\n",
       "      <td>...</td>\n",
       "      <td>...</td>\n",
       "      <td>...</td>\n",
       "      <td>...</td>\n",
       "      <td>...</td>\n",
       "    </tr>\n",
       "    <tr>\n",
       "      <th>78</th>\n",
       "      <td>Tree shrew</td>\n",
       "      <td>Tupaia</td>\n",
       "      <td>omni</td>\n",
       "      <td>Scandentia</td>\n",
       "      <td>NaN</td>\n",
       "      <td>8.9</td>\n",
       "      <td>2.6</td>\n",
       "      <td>0.233333</td>\n",
       "      <td>15.1</td>\n",
       "      <td>0.00250</td>\n",
       "      <td>0.104</td>\n",
       "    </tr>\n",
       "    <tr>\n",
       "      <th>79</th>\n",
       "      <td>Bottle-nosed dolphin</td>\n",
       "      <td>Tursiops</td>\n",
       "      <td>carni</td>\n",
       "      <td>Cetacea</td>\n",
       "      <td>NaN</td>\n",
       "      <td>5.2</td>\n",
       "      <td>NaN</td>\n",
       "      <td>NaN</td>\n",
       "      <td>18.8</td>\n",
       "      <td>NaN</td>\n",
       "      <td>173.330</td>\n",
       "    </tr>\n",
       "    <tr>\n",
       "      <th>80</th>\n",
       "      <td>Genet</td>\n",
       "      <td>Genetta</td>\n",
       "      <td>carni</td>\n",
       "      <td>Carnivora</td>\n",
       "      <td>NaN</td>\n",
       "      <td>6.3</td>\n",
       "      <td>1.3</td>\n",
       "      <td>NaN</td>\n",
       "      <td>17.7</td>\n",
       "      <td>0.01750</td>\n",
       "      <td>2.000</td>\n",
       "    </tr>\n",
       "    <tr>\n",
       "      <th>81</th>\n",
       "      <td>Arctic fox</td>\n",
       "      <td>Vulpes</td>\n",
       "      <td>carni</td>\n",
       "      <td>Carnivora</td>\n",
       "      <td>NaN</td>\n",
       "      <td>12.5</td>\n",
       "      <td>NaN</td>\n",
       "      <td>NaN</td>\n",
       "      <td>11.5</td>\n",
       "      <td>0.04450</td>\n",
       "      <td>3.380</td>\n",
       "    </tr>\n",
       "    <tr>\n",
       "      <th>82</th>\n",
       "      <td>Red fox</td>\n",
       "      <td>Vulpes</td>\n",
       "      <td>carni</td>\n",
       "      <td>Carnivora</td>\n",
       "      <td>NaN</td>\n",
       "      <td>9.8</td>\n",
       "      <td>2.4</td>\n",
       "      <td>0.350000</td>\n",
       "      <td>14.2</td>\n",
       "      <td>0.05040</td>\n",
       "      <td>4.230</td>\n",
       "    </tr>\n",
       "  </tbody>\n",
       "</table>\n",
       "<p>83 rows × 11 columns</p>\n",
       "</div>"
      ],
      "text/plain": [
       "                          name       genus   vore         order  conservation  \\\n",
       "0                      Cheetah    Acinonyx  carni     Carnivora            lc   \n",
       "1                   Owl monkey       Aotus   omni      Primates           NaN   \n",
       "2              Mountain beaver  Aplodontia  herbi      Rodentia            nt   \n",
       "3   Greater short-tailed shrew     Blarina   omni  Soricomorpha            lc   \n",
       "4                          Cow         Bos  herbi  Artiodactyla  domesticated   \n",
       "..                         ...         ...    ...           ...           ...   \n",
       "78                  Tree shrew      Tupaia   omni    Scandentia           NaN   \n",
       "79        Bottle-nosed dolphin    Tursiops  carni       Cetacea           NaN   \n",
       "80                       Genet     Genetta  carni     Carnivora           NaN   \n",
       "81                  Arctic fox      Vulpes  carni     Carnivora           NaN   \n",
       "82                     Red fox      Vulpes  carni     Carnivora           NaN   \n",
       "\n",
       "    sleep_total  sleep_rem  sleep_cycle  awake  brainwt   bodywt  \n",
       "0          12.1        NaN          NaN   11.9      NaN   50.000  \n",
       "1          17.0        1.8          NaN    7.0  0.01550    0.480  \n",
       "2          14.4        2.4          NaN    9.6      NaN    1.350  \n",
       "3          14.9        2.3     0.133333    9.1  0.00029    0.019  \n",
       "4           4.0        0.7     0.666667   20.0  0.42300  600.000  \n",
       "..          ...        ...          ...    ...      ...      ...  \n",
       "78          8.9        2.6     0.233333   15.1  0.00250    0.104  \n",
       "79          5.2        NaN          NaN   18.8      NaN  173.330  \n",
       "80          6.3        1.3          NaN   17.7  0.01750    2.000  \n",
       "81         12.5        NaN          NaN   11.5  0.04450    3.380  \n",
       "82          9.8        2.4     0.350000   14.2  0.05040    4.230  \n",
       "\n",
       "[83 rows x 11 columns]"
      ]
     },
     "execution_count": 1,
     "metadata": {},
     "output_type": "execute_result"
    }
   ],
   "source": [
    "import pandas as pd\n",
    "df_animal = pd.read_csv(\"data/msleep.csv\")\n",
    "df_animal"
   ]
  },
  {
   "cell_type": "code",
   "execution_count": null,
   "id": "85970dc5-ed99-48d8-8c89-958da4868326",
   "metadata": {},
   "outputs": [],
   "source": [
    "import matplotlib.pyplot as plt\n",
    "import seaborn as sns\n",
    "\n",
    "sns.histplot(df_animal.sleep_total)\n",
    "plt.title(\"Distribution of Sleep Times of Various Mammals\")\n",
    "plt.xlabel(\"Hours of Sleep\")"
   ]
  },
  {
   "cell_type": "markdown",
   "id": "14c0374b-2949-49d0-9269-d28163617bcc",
   "metadata": {},
   "source": [
    "**Ortalama**\n",
    "\n",
    "Verinin merkezini tanımlamanın en yaygın yollarından biridir.</br>\n",
    "\n",
    "<img src=\"pictures/mean_formula.png\" width=300 height=300 />\n",
    "\n",
    "<img src=\"pictures/mean_example.png\" width=300 height=300 />\n",
    "\n",
    "Burada hırsızlığın en büyük ortalamaya sahip olduğu görülmektedir."
   ]
  },
  {
   "cell_type": "code",
   "execution_count": null,
   "id": "9f23c9bd-ca1d-437d-872a-f1bc9122abf9",
   "metadata": {},
   "outputs": [],
   "source": [
    "import numpy as np\n",
    "\n",
    "# np.mean(df_animal.sleep_total)\n",
    "df_animal['sleep_total'].mean()"
   ]
  },
  {
   "cell_type": "markdown",
   "id": "60e15b3d-f28f-4ea5-b1e8-e6cca74f116f",
   "metadata": {},
   "source": [
    "**Medyan**\n",
    "\n",
    "Verinin merkezini tanımlamanın bir diğer ölçüsü medyandır. Verilerin orta değeridir</br>\n",
    "\n",
    "<img src=\"pictures/median_example.png\" width=500 height=500 />\n",
    "\n",
    "Yukarıda hırsızlık için gösterildiği gibi veriler küçükten büyüğe sıralanır. Verilerin %50'si medyandan büyük %50'si medyandan küçük olmalıdır. \n",
    "\n",
    "<img src=\"pictures/median_example_2.png\" width=500 height=500 />\n",
    "\n",
    "Çift sayıda veri olduğu için (32) ortaya en yakın iki değer alınır. \n",
    "\n",
    "<img src=\"pictures/median_formula.png\" width=300 height=300 />\n"
   ]
  },
  {
   "cell_type": "code",
   "execution_count": null,
   "id": "754e647c-7c42-4188-b708-5ed99c567385",
   "metadata": {},
   "outputs": [],
   "source": [
    "import numpy as np\n",
    "np.median(df_animal.sleep_total), df_animal.sleep_total.median()"
   ]
  },
  {
   "cell_type": "markdown",
   "id": "02032623-e880-4295-a991-e6401c747ef3",
   "metadata": {},
   "source": [
    "**Mod**\n",
    "\n",
    "Verideki en çok tekrar eden değerdir.</br>\n",
    "\n",
    "<img src=\"pictures/mode_example.png\" width=300 height=300 />\n",
    "\n",
    "En sık görülen değer hırsızlıktır. Kategorik verilerin beklenen değeri aranıyorsa mod en uygun ölçüdür."
   ]
  },
  {
   "cell_type": "code",
   "execution_count": null,
   "id": "bc6f98d2-a9d5-4cdc-b8ac-5766f6cc166e",
   "metadata": {},
   "outputs": [],
   "source": [
    "df_animal.sleep_total.value_counts()\n",
    "df_animal.vore.value_counts(dropna=False)"
   ]
  },
  {
   "cell_type": "code",
   "execution_count": null,
   "id": "da59a25f-52e0-42e2-8fec-55122478c62d",
   "metadata": {
    "scrolled": true
   },
   "outputs": [],
   "source": [
    "import statistics as stat\n",
    "\n",
    "stat.mode(df_animal.vore), df_animal.vore.mode()\n"
   ]
  },
  {
   "cell_type": "code",
   "execution_count": 2,
   "id": "e9065de7-d90b-4893-b200-b21d4705c0c5",
   "metadata": {},
   "outputs": [
    {
     "data": {
      "text/html": [
       "<div>\n",
       "<style scoped>\n",
       "    .dataframe tbody tr th:only-of-type {\n",
       "        vertical-align: middle;\n",
       "    }\n",
       "\n",
       "    .dataframe tbody tr th {\n",
       "        vertical-align: top;\n",
       "    }\n",
       "\n",
       "    .dataframe thead th {\n",
       "        text-align: right;\n",
       "    }\n",
       "</style>\n",
       "<table border=\"1\" class=\"dataframe\">\n",
       "  <thead>\n",
       "    <tr style=\"text-align: right;\">\n",
       "      <th></th>\n",
       "      <th>name</th>\n",
       "      <th>genus</th>\n",
       "      <th>vore</th>\n",
       "      <th>order</th>\n",
       "      <th>conservation</th>\n",
       "      <th>sleep_total</th>\n",
       "      <th>sleep_rem</th>\n",
       "      <th>sleep_cycle</th>\n",
       "      <th>awake</th>\n",
       "      <th>brainwt</th>\n",
       "      <th>bodywt</th>\n",
       "    </tr>\n",
       "  </thead>\n",
       "  <tbody>\n",
       "    <tr>\n",
       "      <th>21</th>\n",
       "      <td>Big brown bat</td>\n",
       "      <td>Eptesicus</td>\n",
       "      <td>insecti</td>\n",
       "      <td>Chiroptera</td>\n",
       "      <td>lc</td>\n",
       "      <td>19.7</td>\n",
       "      <td>3.9</td>\n",
       "      <td>0.116667</td>\n",
       "      <td>4.3</td>\n",
       "      <td>0.00030</td>\n",
       "      <td>0.023</td>\n",
       "    </tr>\n",
       "    <tr>\n",
       "      <th>42</th>\n",
       "      <td>Little brown bat</td>\n",
       "      <td>Myotis</td>\n",
       "      <td>insecti</td>\n",
       "      <td>Chiroptera</td>\n",
       "      <td>NaN</td>\n",
       "      <td>19.9</td>\n",
       "      <td>2.0</td>\n",
       "      <td>0.200000</td>\n",
       "      <td>4.1</td>\n",
       "      <td>0.00025</td>\n",
       "      <td>0.010</td>\n",
       "    </tr>\n",
       "    <tr>\n",
       "      <th>61</th>\n",
       "      <td>Giant armadillo</td>\n",
       "      <td>Priodontes</td>\n",
       "      <td>insecti</td>\n",
       "      <td>Cingulata</td>\n",
       "      <td>en</td>\n",
       "      <td>18.1</td>\n",
       "      <td>6.1</td>\n",
       "      <td>NaN</td>\n",
       "      <td>5.9</td>\n",
       "      <td>0.08100</td>\n",
       "      <td>60.000</td>\n",
       "    </tr>\n",
       "    <tr>\n",
       "      <th>66</th>\n",
       "      <td>Eastern american mole</td>\n",
       "      <td>Scalopus</td>\n",
       "      <td>insecti</td>\n",
       "      <td>Soricomorpha</td>\n",
       "      <td>lc</td>\n",
       "      <td>8.4</td>\n",
       "      <td>2.1</td>\n",
       "      <td>0.166667</td>\n",
       "      <td>15.6</td>\n",
       "      <td>0.00120</td>\n",
       "      <td>0.075</td>\n",
       "    </tr>\n",
       "    <tr>\n",
       "      <th>74</th>\n",
       "      <td>Short-nosed echidna</td>\n",
       "      <td>Tachyglossus</td>\n",
       "      <td>insecti</td>\n",
       "      <td>Monotremata</td>\n",
       "      <td>NaN</td>\n",
       "      <td>8.6</td>\n",
       "      <td>NaN</td>\n",
       "      <td>NaN</td>\n",
       "      <td>15.4</td>\n",
       "      <td>0.02500</td>\n",
       "      <td>4.500</td>\n",
       "    </tr>\n",
       "  </tbody>\n",
       "</table>\n",
       "</div>"
      ],
      "text/plain": [
       "                     name         genus     vore         order conservation  \\\n",
       "21          Big brown bat     Eptesicus  insecti    Chiroptera           lc   \n",
       "42       Little brown bat        Myotis  insecti    Chiroptera          NaN   \n",
       "61        Giant armadillo    Priodontes  insecti     Cingulata           en   \n",
       "66  Eastern american mole      Scalopus  insecti  Soricomorpha           lc   \n",
       "74    Short-nosed echidna  Tachyglossus  insecti   Monotremata          NaN   \n",
       "\n",
       "    sleep_total  sleep_rem  sleep_cycle  awake  brainwt  bodywt  \n",
       "21         19.7        3.9     0.116667    4.3  0.00030   0.023  \n",
       "42         19.9        2.0     0.200000    4.1  0.00025   0.010  \n",
       "61         18.1        6.1          NaN    5.9  0.08100  60.000  \n",
       "66          8.4        2.1     0.166667   15.6  0.00120   0.075  \n",
       "74          8.6        NaN          NaN   15.4  0.02500   4.500  "
      ]
     },
     "execution_count": 2,
     "metadata": {},
     "output_type": "execute_result"
    }
   ],
   "source": [
    "df_animal[df_animal.vore == \"insecti\"]"
   ]
  },
  {
   "cell_type": "code",
   "execution_count": 3,
   "id": "c4772ab7-fc35-4987-b95f-bfd2591bb560",
   "metadata": {},
   "outputs": [
    {
     "data": {
      "text/plain": [
       "mean      3.525\n",
       "median    3.000\n",
       "Name: sleep_rem, dtype: float64"
      ]
     },
     "execution_count": 3,
     "metadata": {},
     "output_type": "execute_result"
    }
   ],
   "source": [
    "df_animal[df_animal.vore == \"insecti\"][\"sleep_rem\"].agg([\"mean\", \"median\"])"
   ]
  },
  {
   "cell_type": "code",
   "execution_count": null,
   "id": "315ac67e-f811-41f7-ace6-9015137c133c",
   "metadata": {},
   "outputs": [],
   "source": [
    "# add outlier\n",
    "df_animal.loc[len(df_animal.index)] = [\"New Insect\", \"\", \"insecti\", \"\", \"\", 0.0, 0.0, 0.0, 0.0, 0.0, 0.0]\n",
    "df_animal"
   ]
  },
  {
   "cell_type": "code",
   "execution_count": null,
   "id": "51c8ce07-66ed-41b2-81e7-40c8a04ce4e2",
   "metadata": {},
   "outputs": [],
   "source": [
    "df_animal[df_animal.vore == \"insecti\"][\"sleep_rem\"].agg([\"mean\", \"median\"])\n",
    "# mean 3.525 -> 2.82 \n",
    "# median 3 -> 2.1\n",
    "\n",
    "# Ortalama uç değerlere karşı daha hassastır. Bu nedenle bu tip durumlarda medyan kullanılır. \n",
    "# Yine çarpık verilerde de medyan kullanmak daha iyidir. "
   ]
  },
  {
   "cell_type": "markdown",
   "id": "d906d6df-3166-44a1-ab1d-e43427b3fbbc",
   "metadata": {},
   "source": [
    "## Hangi merkez ölçüsü kullanılmalıdır?\n",
    "\n",
    "<img src=\"pictures/decision_center_metric.png\" width=500 height=500 />\n",
    "\n",
    "Yukarıdaki histogram incelendiğinde simetrik olduğu görülmektedir. Ortada zirve yapmakta ve her iki tarafa doğru azalmaktadır. </br>\n",
    "\n",
    "**Veriler simetrik olduğunda ortalama ve medaynın her ikisin de kullanımı uygundur**\n",
    "\n",
    "<img src=\"pictures/decision_center_metric_2.png\" width=500 height=500 />\n",
    "\n",
    "Görüldüğü veriler simetrik değildir. Bir değer diğerinden önemli ölçüde farklı olduğunda bu değere aykırı değer (outlier) denir.</br> \n",
    "\n",
    "**Bu aykırı değer ortalamayı kendisine doğru çekerken, medyan daha az etkilenir. Bunun nedeni, ortalama hesaplamanın tüm değerleri toplamayı gerektirmesidir. Daha büyük değerler sonucu etkiler, medyan ise sadece ortadaki değer bakar. Bu nedenler veriler simetrik olmadığında medyan kullanmak en iyi seçimdir.** \n"
   ]
  },
  {
   "cell_type": "markdown",
   "id": "9fe4628a-5c85-405f-8205-f84164705e5f",
   "metadata": {},
   "source": [
    "## Yayılım Ölçüleri"
   ]
  },
  {
   "cell_type": "markdown",
   "id": "4ccf2015-98f1-4fee-98ee-f9e73c01d5e5",
   "metadata": {},
   "source": [
    "Özet istatistiğinin başka bir konusudur. </b>\n",
    "Yayılım,  veri noktalarının birbirinden ne kadar uzak olduğunu açıklar.</br>\n",
    "\n",
    "<img src=\"pictures/spread_1.png\" width=500 height=500 />\n",
    "<img src=\"pictures/spread_2.png\" width=500 height=500 />\n",
    "\n",
    "\n",
    "İlk histogram Londra ilçeleri genelinde araç suçlarının histogramını göstermektedir. İkinic histogram ise,  Londra ilçeleri genelinde hırsızlık suçlarının histogramını göstermektedir. İkinci histogramda yayılımın dar olduğunu görmekteyiz.</br>  \n",
    "\n",
    "Yayılma önemlidir çünkü, bize verilerimizde ne kadar çeşitlilik olabileceğini gösterir. </br>\n",
    "Örneğin, kazakların maliyeti 30 TL ise ancak 10-200 TL aralığında başka yerlerden alınabiliyorsa, 30 TL'den bir tane bulma olasılığımız nedir?</br>\n",
    "Kazak fiyatları 20-50 TL arasında olursa bu olasılık değişir mi?"
   ]
  },
  {
   "cell_type": "code",
   "execution_count": null,
   "id": "809ffc7c-8a04-41c0-ae32-e611115575cc",
   "metadata": {},
   "outputs": [],
   "source": [
    "range_sleep_total = df_animal['sleep_total'].max() - \\\n",
    "df_animal['sleep_total'].min()\n",
    "range_sleep_total"
   ]
  },
  {
   "cell_type": "markdown",
   "id": "8238e1d3-045e-45df-a41b-ea1defb1bc4d",
   "metadata": {},
   "source": [
    "**Hangi yayılım ölçüleri vardır**</br>\n",
    "\n",
    "<ul>\n",
    "    <li> <b>Range</b> </br>\n",
    "        range = maximum - minimum  </br>\n",
    "        <img src=\"pictures/range_example.png\" width=300 height=300 /> </br>   \n",
    "        range(Burglaries) = 5183 - 1432 </br>\n",
    "        range(Burglaries) = 3751 </br>\n",
    "        Thames'de son iki yılda Tower Hamlets'ten 3751 daha az hırsızlık olayı gerçekleşti.\n",
    "    </li>\n",
    "    <li> <b>Varyans</b> </br>\n",
    "        Varyans, her bir veri noktasının ortalamaya olan ortalama uzaklığını hesaplar. Varyans ne kadar büyükse veriler o kadar dağılmış demektir.  </br>\n",
    "        <img src=\"pictures/variance_1.png\" width=500 height=500 /></br>\n",
    "        Yukarıdaki grafik, ortadaki dikey çizgi ortalamayı göstermek üzere, Londra'sa ilçe başına suçların dağılımını göstermektedir.</br>\n",
    "        Bir ilçenin ortalamadan çok uzakta olduğu görülmektedir.</br>\n",
    "        Varyansı hesaplamak için, her bir veri noktasının ortalama değere olan mesafesi hesaplanır. </br>\n",
    "        <img src=\"pictures/variance_2.png\" width=400 height=400 /></br>\n",
    "        Bu her bir veri noktası için tekrarlanır. Eğer hepsi toplanırsa toplamın sıfır olduğu görülür. Bu nedenle mesafelerin kareleri   toplanır ve toplamı alınır.</br>\n",
    "        <img src=\"pictures/variance_3.png\" width=400 height=400 /></br>\n",
    "        variance(total crime) = 7.509.750.824 / 32(ilçe sayısı) = 234.769.713\n",
    "    </li>\n",
    "    <li> <b>Standart Sapma</b> </br>\n",
    "        Varyansı anlamak zordur. Bu nedenle standart sapma kullanılır  </br>\n",
    "        Standart sapma varyansın karekökü alınarak hesaplanır.</br>\n",
    "        standart sapma = √234.769.713 = 15.319, 26 </br>\n",
    "        Standart sapma sıfıra ne kadar yakınsa verilerin ortalama etrafında o kadar yakın kümlendiği anlaşılır.</br>\n",
    "        <img src=\"pictures/stddev.png\" width=500 height=500 /></br>\n",
    "        Yukarıda da görüldüğü gibi, ortalamadan bir veya iki standart sapma uzaklık işaretlenerek verilerin ne kadar dağınık olduğu görülebilir. \n",
    "    </li>\n",
    "    <li> <b>Quartiles</b> </br>\n",
    "        Yayılım, verileri dört eşit parçaya bölmenin bir yolu olan çeyrekler kullanılarak da ölçülebilir.  </br>\n",
    "        <img src=\"pictures/quartiles.png\" width=500 height=500 /></br>    \n",
    "        Yukarıdaki tabloda Londra'daki çeşitli suçlar ve bunların minimum değerleri bulunmaktadır (%25, %50, %75, %100)  </br>\n",
    "        Her çeyrek için değer, o sayıdan küçük veya ona eşit olan değerlerin yüzdesini temsil eder. Londra ilçelerinin %75'inde son iki yılda 4392'den az hırsızlık olduğu görülmektedir.</br>\n",
    "        İkinci çeyrek ortadaki değerdir ve medyana eşittir.</br>\n",
    "        <b>Boxplots</b></br>\n",
    "        Bir boxplot kullanılarak çeyrekler görselleştirilebilir.</br>\n",
    "        <img src=\"pictures/boxplot_spread.png\" width=300 height=300 /></br>    \n",
    "        Aykırı değerler 4000'in üzerindeki nokta gibi yatay çizgilerin ötesinde gösterilir.\n",
    "    </li>\n",
    "    <li> <b>Interquartile Range (IQR)</b> </br>\n",
    "        Çeyrekler arası aralık olarak da tanımlanır. IQR = Q3 - Q1  </br>\n",
    "        <img src=\"pictures/iqr.png\" width=300 height=300 /> </br>   \n",
    "        IQR = 1976.5 - 895.75 </br>\n",
    "        IQR = 1080.75 </br>\n",
    "        IQR, aşırı koşullardan daha az etkilenir. Standart sapmadan daha değerlidir.\n",
    "    </li>\n",
    "</ul>"
   ]
  },
  {
   "cell_type": "code",
   "execution_count": 4,
   "id": "993cab3d-66b4-403b-b44c-2a634483cc46",
   "metadata": {},
   "outputs": [
    {
     "data": {
      "text/plain": [
       "19.805677343520422"
      ]
     },
     "execution_count": 4,
     "metadata": {},
     "output_type": "execute_result"
    }
   ],
   "source": [
    "import numpy as np\n",
    "np.var(df_animal.sleep_total, ddof=1)"
   ]
  },
  {
   "cell_type": "code",
   "execution_count": 5,
   "id": "f4e848f6-3707-4e76-a763-7afcdb47042d",
   "metadata": {},
   "outputs": [
    {
     "data": {
      "text/plain": [
       "4.4503569905705795"
      ]
     },
     "execution_count": 5,
     "metadata": {},
     "output_type": "execute_result"
    }
   ],
   "source": [
    "np.sqrt(np.var(df_animal.sleep_total, ddof=1))"
   ]
  },
  {
   "cell_type": "code",
   "execution_count": 6,
   "id": "bfc876e2-04df-462f-b5a3-12a5696e32a4",
   "metadata": {},
   "outputs": [
    {
     "data": {
      "text/plain": [
       "4.4503569905705795"
      ]
     },
     "execution_count": 6,
     "metadata": {},
     "output_type": "execute_result"
    }
   ],
   "source": [
    "np.std(df_animal.sleep_total, ddof=1)"
   ]
  },
  {
   "cell_type": "code",
   "execution_count": null,
   "id": "302232ef-4869-47cf-80c4-8f8fafb5bc98",
   "metadata": {},
   "outputs": [],
   "source": [
    "# Mean Absolute Deviation\n",
    "\n",
    "dists = df_animal.sleep_total - \\\n",
    "np.mean(df_animal.sleep_total)\n",
    "np.mean(np.abs(dists))"
   ]
  },
  {
   "cell_type": "markdown",
   "id": "aa6aee9d-9b17-4f2e-af2b-d0848d269d43",
   "metadata": {},
   "source": [
    "<ul>\n",
    "    <li>Standart sapmada uzaklıkların karesi alınır, bu nedenle daha uzun mesafeler daha uzun cezalandırılır.</li>\n",
    "    <li>Mean Absolute Deviation'da, her uzaklık eşit ceza alır.</li>\n",
    "    <li>Biri diğerinden daha iyi değildir ama SD MAD'den daha yaygındır.</li>\n",
    "</ul>"
   ]
  },
  {
   "cell_type": "code",
   "execution_count": 2,
   "id": "c9fc0a6e-93ef-43d4-9e98-78cb5afd09c2",
   "metadata": {},
   "outputs": [
    {
     "data": {
      "text/plain": [
       "10.1"
      ]
     },
     "execution_count": 2,
     "metadata": {},
     "output_type": "execute_result"
    }
   ],
   "source": [
    "import numpy as np\n",
    "np.quantile(df_animal.sleep_total, 0.5)"
   ]
  },
  {
   "cell_type": "code",
   "execution_count": 3,
   "id": "00b94688-74d0-47e4-957b-0ef8ae893e0c",
   "metadata": {},
   "outputs": [
    {
     "data": {
      "text/plain": [
       "array([ 1.9 ,  7.85, 10.1 , 13.75, 19.9 ])"
      ]
     },
     "execution_count": 3,
     "metadata": {},
     "output_type": "execute_result"
    }
   ],
   "source": [
    "np.quantile(df_animal.sleep_total, [0, 0.25, 0.50, 0.75, 1])"
   ]
  },
  {
   "cell_type": "code",
   "execution_count": 4,
   "id": "fdebd65e-3b17-4c31-ba60-0ae2bf9c809e",
   "metadata": {},
   "outputs": [
    {
     "data": {
      "text/plain": [
       "{'whiskers': [<matplotlib.lines.Line2D at 0x7a1e9f46c110>,\n",
       "  <matplotlib.lines.Line2D at 0x7a1e9f46c890>],\n",
       " 'caps': [<matplotlib.lines.Line2D at 0x7a1e9f46cbc0>,\n",
       "  <matplotlib.lines.Line2D at 0x7a1e9f46cec0>],\n",
       " 'boxes': [<matplotlib.lines.Line2D at 0x7a1e9f46c2c0>],\n",
       " 'medians': [<matplotlib.lines.Line2D at 0x7a1e9f46d190>],\n",
       " 'fliers': [<matplotlib.lines.Line2D at 0x7a1e9f46d490>],\n",
       " 'means': []}"
      ]
     },
     "execution_count": 4,
     "metadata": {},
     "output_type": "execute_result"
    },
    {
     "data": {
      "image/png": "[encoded data removed]",
      "text/plain": [
       "<Figure size 640x480 with 1 Axes>"
      ]
     },
     "metadata": {},
     "output_type": "display_data"
    }
   ],
   "source": [
    "import  matplotlib.pyplot as plt\n",
    "plt.boxplot(df_animal.sleep_total)"
   ]
  },
  {
   "cell_type": "code",
   "execution_count": 5,
   "id": "0d1b087b-89a1-4ca3-8004-dfd025aa36f3",
   "metadata": {},
   "outputs": [
    {
     "data": {
      "text/plain": [
       "array([ 1.9 ,  6.24,  9.48, 11.14, 14.4 , 19.9 ])"
      ]
     },
     "execution_count": 5,
     "metadata": {},
     "output_type": "execute_result"
    }
   ],
   "source": [
    "np.quantile(df_animal.sleep_total, \\\n",
    "            [0, 0.2, 0.4, 0.6, 0.8, 1])"
   ]
  },
  {
   "cell_type": "code",
   "execution_count": 7,
   "id": "66649292-ba90-4da5-891d-a63b0529d2b5",
   "metadata": {},
   "outputs": [
    {
     "data": {
      "text/plain": [
       "array([0.  , 0.25, 0.5 , 0.75, 1.  ])"
      ]
     },
     "execution_count": 7,
     "metadata": {},
     "output_type": "execute_result"
    }
   ],
   "source": [
    "np.linspace(0, 1, 5)"
   ]
  },
  {
   "cell_type": "code",
   "execution_count": 6,
   "id": "f4a91f4d-90a7-4a46-bab2-b488bdaca358",
   "metadata": {},
   "outputs": [
    {
     "data": {
      "text/plain": [
       "array([ 1.9 ,  7.85, 10.1 , 13.75, 19.9 ])"
      ]
     },
     "execution_count": 6,
     "metadata": {},
     "output_type": "execute_result"
    }
   ],
   "source": [
    "# np.linspace(start, stop, num)\n",
    "\n",
    "np.quantile(df_animal.sleep_total, np.linspace(0, 1, 5))"
   ]
  },
  {
   "cell_type": "code",
   "execution_count": 7,
   "id": "bf214fb8-66b8-45c8-a2ff-ed5fe82e5ee0",
   "metadata": {},
   "outputs": [
    {
     "data": {
      "text/plain": [
       "5.9"
      ]
     },
     "execution_count": 7,
     "metadata": {},
     "output_type": "execute_result"
    }
   ],
   "source": [
    "np.quantile(df_animal.sleep_total, 0.75) - \\\n",
    "np.quantile(df_animal.sleep_total, 0.25)"
   ]
  },
  {
   "cell_type": "code",
   "execution_count": 8,
   "id": "ce09ea6c-d51f-4501-a819-e68b79e4eb4e",
   "metadata": {},
   "outputs": [
    {
     "data": {
      "text/plain": [
       "5.9"
      ]
     },
     "execution_count": 8,
     "metadata": {},
     "output_type": "execute_result"
    }
   ],
   "source": [
    "from scipy.stats import iqr\n",
    "iqr(df_animal.sleep_total)"
   ]
  },
  {
   "cell_type": "markdown",
   "id": "46632b96-6319-4157-b4a0-9465b1196822",
   "metadata": {},
   "source": [
    "## Outliers (Aykırı Değerler)\n",
    "\n",
    "Diğerlerinden önemli ölçüde farklı olan veri noktalarıdır. Peki öenmli bir fark olduğuna nasıl karar verilir?</br>\n",
    "\n",
    "**Q1 - 1.5IQR < data < Q3 + 1.5IQR** </br>"
   ]
  },
  {
   "cell_type": "code",
   "execution_count": 9,
   "id": "283f7bb0-e059-45a9-897c-4e0683aa093d",
   "metadata": {},
   "outputs": [
    {
     "data": {
      "text/html": [
       "<div>\n",
       "<style scoped>\n",
       "    .dataframe tbody tr th:only-of-type {\n",
       "        vertical-align: middle;\n",
       "    }\n",
       "\n",
       "    .dataframe tbody tr th {\n",
       "        vertical-align: top;\n",
       "    }\n",
       "\n",
       "    .dataframe thead th {\n",
       "        text-align: right;\n",
       "    }\n",
       "</style>\n",
       "<table border=\"1\" class=\"dataframe\">\n",
       "  <thead>\n",
       "    <tr style=\"text-align: right;\">\n",
       "      <th></th>\n",
       "      <th>name</th>\n",
       "      <th>genus</th>\n",
       "      <th>vore</th>\n",
       "      <th>order</th>\n",
       "      <th>conservation</th>\n",
       "      <th>sleep_total</th>\n",
       "      <th>sleep_rem</th>\n",
       "      <th>sleep_cycle</th>\n",
       "      <th>awake</th>\n",
       "      <th>brainwt</th>\n",
       "      <th>bodywt</th>\n",
       "    </tr>\n",
       "  </thead>\n",
       "  <tbody>\n",
       "    <tr>\n",
       "      <th>4</th>\n",
       "      <td>Cow</td>\n",
       "      <td>Bos</td>\n",
       "      <td>herbi</td>\n",
       "      <td>Artiodactyla</td>\n",
       "      <td>domesticated</td>\n",
       "      <td>4.0</td>\n",
       "      <td>0.7</td>\n",
       "      <td>0.666667</td>\n",
       "      <td>20.00</td>\n",
       "      <td>0.423</td>\n",
       "      <td>600.000</td>\n",
       "    </tr>\n",
       "    <tr>\n",
       "      <th>20</th>\n",
       "      <td>Asian elephant</td>\n",
       "      <td>Elephas</td>\n",
       "      <td>herbi</td>\n",
       "      <td>Proboscidea</td>\n",
       "      <td>en</td>\n",
       "      <td>3.9</td>\n",
       "      <td>NaN</td>\n",
       "      <td>NaN</td>\n",
       "      <td>20.10</td>\n",
       "      <td>4.603</td>\n",
       "      <td>2547.000</td>\n",
       "    </tr>\n",
       "    <tr>\n",
       "      <th>22</th>\n",
       "      <td>Horse</td>\n",
       "      <td>Equus</td>\n",
       "      <td>herbi</td>\n",
       "      <td>Perissodactyla</td>\n",
       "      <td>domesticated</td>\n",
       "      <td>2.9</td>\n",
       "      <td>0.6</td>\n",
       "      <td>1.000000</td>\n",
       "      <td>21.10</td>\n",
       "      <td>0.655</td>\n",
       "      <td>521.000</td>\n",
       "    </tr>\n",
       "    <tr>\n",
       "      <th>23</th>\n",
       "      <td>Donkey</td>\n",
       "      <td>Equus</td>\n",
       "      <td>herbi</td>\n",
       "      <td>Perissodactyla</td>\n",
       "      <td>domesticated</td>\n",
       "      <td>3.1</td>\n",
       "      <td>0.4</td>\n",
       "      <td>NaN</td>\n",
       "      <td>20.90</td>\n",
       "      <td>0.419</td>\n",
       "      <td>187.000</td>\n",
       "    </tr>\n",
       "    <tr>\n",
       "      <th>29</th>\n",
       "      <td>Giraffe</td>\n",
       "      <td>Giraffa</td>\n",
       "      <td>herbi</td>\n",
       "      <td>Artiodactyla</td>\n",
       "      <td>cd</td>\n",
       "      <td>1.9</td>\n",
       "      <td>0.4</td>\n",
       "      <td>NaN</td>\n",
       "      <td>22.10</td>\n",
       "      <td>NaN</td>\n",
       "      <td>899.995</td>\n",
       "    </tr>\n",
       "    <tr>\n",
       "      <th>30</th>\n",
       "      <td>Pilot whale</td>\n",
       "      <td>Globicephalus</td>\n",
       "      <td>carni</td>\n",
       "      <td>Cetacea</td>\n",
       "      <td>cd</td>\n",
       "      <td>2.7</td>\n",
       "      <td>0.1</td>\n",
       "      <td>NaN</td>\n",
       "      <td>21.35</td>\n",
       "      <td>NaN</td>\n",
       "      <td>800.000</td>\n",
       "    </tr>\n",
       "    <tr>\n",
       "      <th>35</th>\n",
       "      <td>African elephant</td>\n",
       "      <td>Loxodonta</td>\n",
       "      <td>herbi</td>\n",
       "      <td>Proboscidea</td>\n",
       "      <td>vu</td>\n",
       "      <td>3.3</td>\n",
       "      <td>NaN</td>\n",
       "      <td>NaN</td>\n",
       "      <td>20.70</td>\n",
       "      <td>5.712</td>\n",
       "      <td>6654.000</td>\n",
       "    </tr>\n",
       "    <tr>\n",
       "      <th>50</th>\n",
       "      <td>Tiger</td>\n",
       "      <td>Panthera</td>\n",
       "      <td>carni</td>\n",
       "      <td>Carnivora</td>\n",
       "      <td>en</td>\n",
       "      <td>15.8</td>\n",
       "      <td>NaN</td>\n",
       "      <td>NaN</td>\n",
       "      <td>8.20</td>\n",
       "      <td>NaN</td>\n",
       "      <td>162.564</td>\n",
       "    </tr>\n",
       "    <tr>\n",
       "      <th>52</th>\n",
       "      <td>Lion</td>\n",
       "      <td>Panthera</td>\n",
       "      <td>carni</td>\n",
       "      <td>Carnivora</td>\n",
       "      <td>vu</td>\n",
       "      <td>13.5</td>\n",
       "      <td>NaN</td>\n",
       "      <td>NaN</td>\n",
       "      <td>10.50</td>\n",
       "      <td>NaN</td>\n",
       "      <td>161.499</td>\n",
       "    </tr>\n",
       "    <tr>\n",
       "      <th>76</th>\n",
       "      <td>Brazilian tapir</td>\n",
       "      <td>Tapirus</td>\n",
       "      <td>herbi</td>\n",
       "      <td>Perissodactyla</td>\n",
       "      <td>vu</td>\n",
       "      <td>4.4</td>\n",
       "      <td>1.0</td>\n",
       "      <td>0.900000</td>\n",
       "      <td>19.60</td>\n",
       "      <td>0.169</td>\n",
       "      <td>207.501</td>\n",
       "    </tr>\n",
       "    <tr>\n",
       "      <th>79</th>\n",
       "      <td>Bottle-nosed dolphin</td>\n",
       "      <td>Tursiops</td>\n",
       "      <td>carni</td>\n",
       "      <td>Cetacea</td>\n",
       "      <td>NaN</td>\n",
       "      <td>5.2</td>\n",
       "      <td>NaN</td>\n",
       "      <td>NaN</td>\n",
       "      <td>18.80</td>\n",
       "      <td>NaN</td>\n",
       "      <td>173.330</td>\n",
       "    </tr>\n",
       "  </tbody>\n",
       "</table>\n",
       "</div>"
      ],
      "text/plain": [
       "                    name          genus   vore           order  conservation  \\\n",
       "4                    Cow            Bos  herbi    Artiodactyla  domesticated   \n",
       "20        Asian elephant        Elephas  herbi     Proboscidea            en   \n",
       "22                 Horse          Equus  herbi  Perissodactyla  domesticated   \n",
       "23                Donkey          Equus  herbi  Perissodactyla  domesticated   \n",
       "29               Giraffe        Giraffa  herbi    Artiodactyla            cd   \n",
       "30           Pilot whale  Globicephalus  carni         Cetacea            cd   \n",
       "35      African elephant      Loxodonta  herbi     Proboscidea            vu   \n",
       "50                 Tiger       Panthera  carni       Carnivora            en   \n",
       "52                  Lion       Panthera  carni       Carnivora            vu   \n",
       "76       Brazilian tapir        Tapirus  herbi  Perissodactyla            vu   \n",
       "79  Bottle-nosed dolphin       Tursiops  carni         Cetacea           NaN   \n",
       "\n",
       "    sleep_total  sleep_rem  sleep_cycle  awake  brainwt    bodywt  \n",
       "4           4.0        0.7     0.666667  20.00    0.423   600.000  \n",
       "20          3.9        NaN          NaN  20.10    4.603  2547.000  \n",
       "22          2.9        0.6     1.000000  21.10    0.655   521.000  \n",
       "23          3.1        0.4          NaN  20.90    0.419   187.000  \n",
       "29          1.9        0.4          NaN  22.10      NaN   899.995  \n",
       "30          2.7        0.1          NaN  21.35      NaN   800.000  \n",
       "35          3.3        NaN          NaN  20.70    5.712  6654.000  \n",
       "50         15.8        NaN          NaN   8.20      NaN   162.564  \n",
       "52         13.5        NaN          NaN  10.50      NaN   161.499  \n",
       "76          4.4        1.0     0.900000  19.60    0.169   207.501  \n",
       "79          5.2        NaN          NaN  18.80      NaN   173.330  "
      ]
     },
     "execution_count": 9,
     "metadata": {},
     "output_type": "execute_result"
    }
   ],
   "source": [
    "# Finding Outliers\n",
    "\n",
    "from scipy.stats import iqr\n",
    "\n",
    "iqr = iqr(df_animal.bodywt)\n",
    "\n",
    "lower_thereshold = np.quantile(df_animal.bodywt, 0.25) \\\n",
    "- 1.5 * iqr\n",
    "upper_thereshold = np.quantile(df_animal.bodywt, 0.75) \\\n",
    "+ 1.5 * iqr\n",
    "\n",
    "df_animal[(df_animal.bodywt < lower_thereshold) | (df_animal.bodywt > upper_thereshold)]"
   ]
  },
  {
   "cell_type": "code",
   "execution_count": 11,
   "id": "ad4f9883-33f9-4b24-ad6d-39d4184a5e52",
   "metadata": {},
   "outputs": [
    {
     "data": {
      "text/html": [
       "<div>\n",
       "<style scoped>\n",
       "    .dataframe tbody tr th:only-of-type {\n",
       "        vertical-align: middle;\n",
       "    }\n",
       "\n",
       "    .dataframe tbody tr th {\n",
       "        vertical-align: top;\n",
       "    }\n",
       "\n",
       "    .dataframe thead th {\n",
       "        text-align: right;\n",
       "    }\n",
       "</style>\n",
       "<table border=\"1\" class=\"dataframe\">\n",
       "  <thead>\n",
       "    <tr style=\"text-align: right;\">\n",
       "      <th></th>\n",
       "      <th>name</th>\n",
       "      <th>genus</th>\n",
       "      <th>vore</th>\n",
       "      <th>order</th>\n",
       "      <th>conservation</th>\n",
       "      <th>sleep_total</th>\n",
       "      <th>sleep_rem</th>\n",
       "      <th>sleep_cycle</th>\n",
       "      <th>awake</th>\n",
       "      <th>brainwt</th>\n",
       "      <th>bodywt</th>\n",
       "    </tr>\n",
       "  </thead>\n",
       "  <tbody>\n",
       "    <tr>\n",
       "      <th>20</th>\n",
       "      <td>Asian elephant</td>\n",
       "      <td>Elephas</td>\n",
       "      <td>herbi</td>\n",
       "      <td>Proboscidea</td>\n",
       "      <td>en</td>\n",
       "      <td>3.9</td>\n",
       "      <td>NaN</td>\n",
       "      <td>NaN</td>\n",
       "      <td>20.1</td>\n",
       "      <td>4.603</td>\n",
       "      <td>2547.0</td>\n",
       "    </tr>\n",
       "    <tr>\n",
       "      <th>35</th>\n",
       "      <td>African elephant</td>\n",
       "      <td>Loxodonta</td>\n",
       "      <td>herbi</td>\n",
       "      <td>Proboscidea</td>\n",
       "      <td>vu</td>\n",
       "      <td>3.3</td>\n",
       "      <td>NaN</td>\n",
       "      <td>NaN</td>\n",
       "      <td>20.7</td>\n",
       "      <td>5.712</td>\n",
       "      <td>6654.0</td>\n",
       "    </tr>\n",
       "  </tbody>\n",
       "</table>\n",
       "</div>"
      ],
      "text/plain": [
       "                name      genus   vore        order conservation  sleep_total  \\\n",
       "20    Asian elephant    Elephas  herbi  Proboscidea           en          3.9   \n",
       "35  African elephant  Loxodonta  herbi  Proboscidea           vu          3.3   \n",
       "\n",
       "    sleep_rem  sleep_cycle  awake  brainwt  bodywt  \n",
       "20        NaN          NaN   20.1    4.603  2547.0  \n",
       "35        NaN          NaN   20.7    5.712  6654.0  "
      ]
     },
     "execution_count": 11,
     "metadata": {},
     "output_type": "execute_result"
    }
   ],
   "source": [
    "sp_lower = np.mean(df_animal.bodywt) - 3 * np.std(df_animal.bodywt, ddof=1) \n",
    "sp_upper = np.mean(df_animal.bodywt) + 3 * np.std(df_animal.bodywt, ddof=1)\n",
    "\n",
    "df_animal[(df_animal.bodywt < sp_lower) | (df_animal.bodywt > sp_upper)]"
   ]
  },
  {
   "cell_type": "code",
   "execution_count": 12,
   "id": "c6cf0299-c94e-464f-9f7f-00f9fecb88dc",
   "metadata": {},
   "outputs": [
    {
     "data": {
      "text/plain": [
       "<Axes: ylabel='bodywt'>"
      ]
     },
     "execution_count": 12,
     "metadata": {},
     "output_type": "execute_result"
    },
    {
     "data": {
      "image/png": "[encoded data removed]",
      "text/plain": [
       "<Figure size 640x480 with 1 Axes>"
      ]
     },
     "metadata": {},
     "output_type": "display_data"
    }
   ],
   "source": [
    "import seaborn as sns\n",
    "\n",
    "sns.boxplot(data=df_animal, y='bodywt')"
   ]
  },
  {
   "cell_type": "code",
   "execution_count": 13,
   "id": "3e373ca5-5afb-4dfc-9946-14b2aa0601bd",
   "metadata": {},
   "outputs": [
    {
     "data": {
      "application/vnd.plotly.v1+json": {
       "config": {
        "plotlyServerURL": "https://plot.ly"
       },
       "data": [
        {
         "alignmentgroup": "True",
         "hovertemplate": "bodywt=%{x}<extra></extra>",
         "legendgroup": "",
         "marker": {
          "color": "#636efa"
         },
         "name": "",
         "notched": false,
         "offsetgroup": "",
         "orientation": "h",
         "showlegend": false,
         "type": "box",
         "x": {
          "bdata": "AAAAAAAASUC4HoXrUbjeP5qZmZmZmfU/2/l+arx0kz8AAAAAAMCCQM3MzMzMzA5APQrXo3B9NEAK16NwPQqnPwAAAAAAACxAmpmZmZmZLUAAAAAAAMBAQLKd76fGS+c/AAAAAAAAE0DhehSuR+HaP7gehetRuK4/AAAAAAAA8D97FK5H4Xp0PwAAAAAAAAxAmpmZmZmZB0AzMzMzMzP7PwAAAAAA5qNAWmQ730+Nlz8AAAAAAEiAQAAAAAAAYGdApHA9Ctej6D8AAAAAAAAkQJMYBFYOLbI/ZmZmZmZmCkCamZmZmZnJPylcj8L1H4xAAAAAAAAAiUAAAAAAAEBVQAAAAAAAAAVAAAAAAAAAT0C4HoXrUbj6PwAAAAAA/rlArkfhehSu1z8zMzMzMzMbQIlBYOXQIqs/uB6F61G4vj/sUbgeheuhP7pJDAIrh5Y/exSuR+F6hD+gGi/dJAbRP2ZmZmZmZvY/4XoUrkfhyj956SYxCKycPwAAAAAAAARAAAAAAADAS0CamZmZmRlKQDVeukkMUmRAAAAAAAAAWUCHFtnO9y9kQFyPwvUoPDlAmpmZmZmZ4T+amZmZmZnxPxsv3SQGgZU/7FG4HoXr+T8AAAAAAIBVQNejcD0Kl0pAmpmZmZmZ8T8AAAAAAABOQM3MzMzMzAxAexSuR+F61D+6SQwCK4emPy2yne+nxuc/MzMzMzMzsz+LbOf7qfHCPwisHFpkO78/cT0K16Nw7T9CYOXQItu5Pz0K16NwPco/+n5qvHSTqD8AAAAAAJBVQAAAAAAAABJAeekmMQisvD956SYxCPBpQM3MzMzMzOw/ObTIdr6fuj/D9Shcj6plQAAAAAAAAABACtejcD0KC0DsUbgehesQQA==",
          "dtype": "f8"
         },
         "x0": " ",
         "xaxis": "x",
         "y0": " ",
         "yaxis": "y"
        }
       ],
       "layout": {
        "boxmode": "group",
        "legend": {
         "tracegroupgap": 0
        },
        "margin": {
         "t": 60
        },
        "template": {
         "data": {
          "bar": [
           {
            "error_x": {
             "color": "#2a3f5f"
            },
            "error_y": {
             "color": "#2a3f5f"
            },
            "marker": {
             "line": {
              "color": "#E5ECF6",
              "width": 0.5
             },
             "pattern": {
              "fillmode": "overlay",
              "size": 10,
              "solidity": 0.2
             }
            },
            "type": "bar"
           }
          ],
          "barpolar": [
           {
            "marker": {
             "line": {
              "color": "#E5ECF6",
              "width": 0.5
             },
             "pattern": {
              "fillmode": "overlay",
              "size": 10,
              "solidity": 0.2
             }
            },
            "type": "barpolar"
           }
          ],
          "carpet": [
           {
            "aaxis": {
             "endlinecolor": "#2a3f5f",
             "gridcolor": "white",
             "linecolor": "white",
             "minorgridcolor": "white",
             "startlinecolor": "#2a3f5f"
            },
            "baxis": {
             "endlinecolor": "#2a3f5f",
             "gridcolor": "white",
             "linecolor": "white",
             "minorgridcolor": "white",
             "startlinecolor": "#2a3f5f"
            },
            "type": "carpet"
           }
          ],
          "choropleth": [
           {
            "colorbar": {
             "outlinewidth": 0,
             "ticks": ""
            },
            "type": "choropleth"
           }
          ],
          "contour": [
           {
            "colorbar": {
             "outlinewidth": 0,
             "ticks": ""
            },
            "colorscale": [
             [
              0,
              "#0d0887"
             ],
             [
              0.1111111111111111,
              "#46039f"
             ],
             [
              0.2222222222222222,
              "#7201a8"
             ],
             [
              0.3333333333333333,
              "#9c179e"
             ],
             [
              0.4444444444444444,
              "#bd3786"
             ],
             [
              0.5555555555555556,
              "#d8576b"
             ],
             [
              0.6666666666666666,
              "#ed7953"
             ],
             [
              0.7777777777777778,
              "#fb9f3a"
             ],
             [
              0.8888888888888888,
              "#fdca26"
             ],
             [
              1,
              "#f0f921"
             ]
            ],
            "type": "contour"
           }
          ],
          "contourcarpet": [
           {
            "colorbar": {
             "outlinewidth": 0,
             "ticks": ""
            },
            "type": "contourcarpet"
           }
          ],
          "heatmap": [
           {
            "colorbar": {
             "outlinewidth": 0,
             "ticks": ""
            },
            "colorscale": [
             [
              0,
              "#0d0887"
             ],
             [
              0.1111111111111111,
              "#46039f"
             ],
             [
              0.2222222222222222,
              "#7201a8"
             ],
             [
              0.3333333333333333,
              "#9c179e"
             ],
             [
              0.4444444444444444,
              "#bd3786"
             ],
             [
              0.5555555555555556,
              "#d8576b"
             ],
             [
              0.6666666666666666,
              "#ed7953"
             ],
             [
              0.7777777777777778,
              "#fb9f3a"
             ],
             [
              0.8888888888888888,
              "#fdca26"
             ],
             [
              1,
              "#f0f921"
             ]
            ],
            "type": "heatmap"
           }
          ],
          "histogram": [
           {
            "marker": {
             "pattern": {
              "fillmode": "overlay",
              "size": 10,
              "solidity": 0.2
             }
            },
            "type": "histogram"
           }
          ],
          "histogram2d": [
           {
            "colorbar": {
             "outlinewidth": 0,
             "ticks": ""
            },
            "colorscale": [
             [
              0,
              "#0d0887"
             ],
             [
              0.1111111111111111,
              "#46039f"
             ],
             [
              0.2222222222222222,
              "#7201a8"
             ],
             [
              0.3333333333333333,
              "#9c179e"
             ],
             [
              0.4444444444444444,
              "#bd3786"
             ],
             [
              0.5555555555555556,
              "#d8576b"
             ],
             [
              0.6666666666666666,
              "#ed7953"
             ],
             [
              0.7777777777777778,
              "#fb9f3a"
             ],
             [
              0.8888888888888888,
              "#fdca26"
             ],
             [
              1,
              "#f0f921"
             ]
            ],
            "type": "histogram2d"
           }
          ],
          "histogram2dcontour": [
           {
            "colorbar": {
             "outlinewidth": 0,
             "ticks": ""
            },
            "colorscale": [
             [
              0,
              "#0d0887"
             ],
             [
              0.1111111111111111,
              "#46039f"
             ],
             [
              0.2222222222222222,
              "#7201a8"
             ],
             [
              0.3333333333333333,
              "#9c179e"
             ],
             [
              0.4444444444444444,
              "#bd3786"
             ],
             [
              0.5555555555555556,
              "#d8576b"
             ],
             [
              0.6666666666666666,
              "#ed7953"
             ],
             [
              0.7777777777777778,
              "#fb9f3a"
             ],
             [
              0.8888888888888888,
              "#fdca26"
             ],
             [
              1,
              "#f0f921"
             ]
            ],
            "type": "histogram2dcontour"
           }
          ],
          "mesh3d": [
           {
            "colorbar": {
             "outlinewidth": 0,
             "ticks": ""
            },
            "type": "mesh3d"
           }
          ],
          "parcoords": [
           {
            "line": {
             "colorbar": {
              "outlinewidth": 0,
              "ticks": ""
             }
            },
            "type": "parcoords"
           }
          ],
          "pie": [
           {
            "automargin": true,
            "type": "pie"
           }
          ],
          "scatter": [
           {
            "fillpattern": {
             "fillmode": "overlay",
             "size": 10,
             "solidity": 0.2
            },
            "type": "scatter"
           }
          ],
          "scatter3d": [
           {
            "line": {
             "colorbar": {
              "outlinewidth": 0,
              "ticks": ""
             }
            },
            "marker": {
             "colorbar": {
              "outlinewidth": 0,
              "ticks": ""
             }
            },
            "type": "scatter3d"
           }
          ],
          "scattercarpet": [
           {
            "marker": {
             "colorbar": {
              "outlinewidth": 0,
              "ticks": ""
             }
            },
            "type": "scattercarpet"
           }
          ],
          "scattergeo": [
           {
            "marker": {
             "colorbar": {
              "outlinewidth": 0,
              "ticks": ""
             }
            },
            "type": "scattergeo"
           }
          ],
          "scattergl": [
           {
            "marker": {
             "colorbar": {
              "outlinewidth": 0,
              "ticks": ""
             }
            },
            "type": "scattergl"
           }
          ],
          "scattermap": [
           {
            "marker": {
             "colorbar": {
              "outlinewidth": 0,
              "ticks": ""
             }
            },
            "type": "scattermap"
           }
          ],
          "scattermapbox": [
           {
            "marker": {
             "colorbar": {
              "outlinewidth": 0,
              "ticks": ""
             }
            },
            "type": "scattermapbox"
           }
          ],
          "scatterpolar": [
           {
            "marker": {
             "colorbar": {
              "outlinewidth": 0,
              "ticks": ""
             }
            },
            "type": "scatterpolar"
           }
          ],
          "scatterpolargl": [
           {
            "marker": {
             "colorbar": {
              "outlinewidth": 0,
              "ticks": ""
             }
            },
            "type": "scatterpolargl"
           }
          ],
          "scatterternary": [
           {
            "marker": {
             "colorbar": {
              "outlinewidth": 0,
              "ticks": ""
             }
            },
            "type": "scatterternary"
           }
          ],
          "surface": [
           {
            "colorbar": {
             "outlinewidth": 0,
             "ticks": ""
            },
            "colorscale": [
             [
              0,
              "#0d0887"
             ],
             [
              0.1111111111111111,
              "#46039f"
             ],
             [
              0.2222222222222222,
              "#7201a8"
             ],
             [
              0.3333333333333333,
              "#9c179e"
             ],
             [
              0.4444444444444444,
              "#bd3786"
             ],
             [
              0.5555555555555556,
              "#d8576b"
             ],
             [
              0.6666666666666666,
              "#ed7953"
             ],
             [
              0.7777777777777778,
              "#fb9f3a"
             ],
             [
              0.8888888888888888,
              "#fdca26"
             ],
             [
              1,
              "#f0f921"
             ]
            ],
            "type": "surface"
           }
          ],
          "table": [
           {
            "cells": {
             "fill": {
              "color": "#EBF0F8"
             },
             "line": {
              "color": "white"
             }
            },
            "header": {
             "fill": {
              "color": "#C8D4E3"
             },
             "line": {
              "color": "white"
             }
            },
            "type": "table"
           }
          ]
         },
         "layout": {
          "annotationdefaults": {
           "arrowcolor": "#2a3f5f",
           "arrowhead": 0,
           "arrowwidth": 1
          },
          "autotypenumbers": "strict",
          "coloraxis": {
           "colorbar": {
            "outlinewidth": 0,
            "ticks": ""
           }
          },
          "colorscale": {
           "diverging": [
            [
             0,
             "#8e0152"
            ],
            [
             0.1,
             "#c51b7d"
            ],
            [
             0.2,
             "#de77ae"
            ],
            [
             0.3,
             "#f1b6da"
            ],
            [
             0.4,
             "#fde0ef"
            ],
            [
             0.5,
             "#f7f7f7"
            ],
            [
             0.6,
             "#e6f5d0"
            ],
            [
             0.7,
             "#b8e186"
            ],
            [
             0.8,
             "#7fbc41"
            ],
            [
             0.9,
             "#4d9221"
            ],
            [
             1,
             "#276419"
            ]
           ],
           "sequential": [
            [
             0,
             "#0d0887"
            ],
            [
             0.1111111111111111,
             "#46039f"
            ],
            [
             0.2222222222222222,
             "#7201a8"
            ],
            [
             0.3333333333333333,
             "#9c179e"
            ],
            [
             0.4444444444444444,
             "#bd3786"
            ],
            [
             0.5555555555555556,
             "#d8576b"
            ],
            [
             0.6666666666666666,
             "#ed7953"
            ],
            [
             0.7777777777777778,
             "#fb9f3a"
            ],
            [
             0.8888888888888888,
             "#fdca26"
            ],
            [
             1,
             "#f0f921"
            ]
           ],
           "sequentialminus": [
            [
             0,
             "#0d0887"
            ],
            [
             0.1111111111111111,
             "#46039f"
            ],
            [
             0.2222222222222222,
             "#7201a8"
            ],
            [
             0.3333333333333333,
             "#9c179e"
            ],
            [
             0.4444444444444444,
             "#bd3786"
            ],
            [
             0.5555555555555556,
             "#d8576b"
            ],
            [
             0.6666666666666666,
             "#ed7953"
            ],
            [
             0.7777777777777778,
             "#fb9f3a"
            ],
            [
             0.8888888888888888,
             "#fdca26"
            ],
            [
             1,
             "#f0f921"
            ]
           ]
          },
          "colorway": [
           "#636efa",
           "#EF553B",
           "#00cc96",
           "#ab63fa",
           "#FFA15A",
           "#19d3f3",
           "#FF6692",
           "#B6E880",
           "#FF97FF",
           "#FECB52"
          ],
          "font": {
           "color": "#2a3f5f"
          },
          "geo": {
           "bgcolor": "white",
           "lakecolor": "white",
           "landcolor": "#E5ECF6",
           "showlakes": true,
           "showland": true,
           "subunitcolor": "white"
          },
          "hoverlabel": {
           "align": "left"
          },
          "hovermode": "closest",
          "mapbox": {
           "style": "light"
          },
          "paper_bgcolor": "white",
          "plot_bgcolor": "#E5ECF6",
          "polar": {
           "angularaxis": {
            "gridcolor": "white",
            "linecolor": "white",
            "ticks": ""
           },
           "bgcolor": "#E5ECF6",
           "radialaxis": {
            "gridcolor": "white",
            "linecolor": "white",
            "ticks": ""
           }
          },
          "scene": {
           "xaxis": {
            "backgroundcolor": "#E5ECF6",
            "gridcolor": "white",
            "gridwidth": 2,
            "linecolor": "white",
            "showbackground": true,
            "ticks": "",
            "zerolinecolor": "white"
           },
           "yaxis": {
            "backgroundcolor": "#E5ECF6",
            "gridcolor": "white",
            "gridwidth": 2,
            "linecolor": "white",
            "showbackground": true,
            "ticks": "",
            "zerolinecolor": "white"
           },
           "zaxis": {
            "backgroundcolor": "#E5ECF6",
            "gridcolor": "white",
            "gridwidth": 2,
            "linecolor": "white",
            "showbackground": true,
            "ticks": "",
            "zerolinecolor": "white"
           }
          },
          "shapedefaults": {
           "line": {
            "color": "#2a3f5f"
           }
          },
          "ternary": {
           "aaxis": {
            "gridcolor": "white",
            "linecolor": "white",
            "ticks": ""
           },
           "baxis": {
            "gridcolor": "white",
            "linecolor": "white",
            "ticks": ""
           },
           "bgcolor": "#E5ECF6",
           "caxis": {
            "gridcolor": "white",
            "linecolor": "white",
            "ticks": ""
           }
          },
          "title": {
           "x": 0.05
          },
          "xaxis": {
           "automargin": true,
           "gridcolor": "white",
           "linecolor": "white",
           "ticks": "",
           "title": {
            "standoff": 15
           },
           "zerolinecolor": "white",
           "zerolinewidth": 2
          },
          "yaxis": {
           "automargin": true,
           "gridcolor": "white",
           "linecolor": "white",
           "ticks": "",
           "title": {
            "standoff": 15
           },
           "zerolinecolor": "white",
           "zerolinewidth": 2
          }
         }
        },
        "xaxis": {
         "anchor": "y",
         "domain": [
          0,
          1
         ],
         "title": {
          "text": "bodywt"
         }
        },
        "yaxis": {
         "anchor": "x",
         "domain": [
          0,
          1
         ]
        }
       }
      },
      "image/png": "[encoded data removed]"
     },
     "metadata": {},
     "output_type": "display_data"
    }
   ],
   "source": [
    "import plotly.express as px\n",
    "\n",
    "px.box(df_animal, x='bodywt')"
   ]
  },
  {
   "cell_type": "code",
   "execution_count": 14,
   "id": "5d16c672-6d67-453d-bbd4-e9c7a0dd2284",
   "metadata": {},
   "outputs": [
    {
     "data": {
      "text/html": [
       "<div>\n",
       "<style scoped>\n",
       "    .dataframe tbody tr th:only-of-type {\n",
       "        vertical-align: middle;\n",
       "    }\n",
       "\n",
       "    .dataframe tbody tr th {\n",
       "        vertical-align: top;\n",
       "    }\n",
       "\n",
       "    .dataframe thead th {\n",
       "        text-align: right;\n",
       "    }\n",
       "</style>\n",
       "<table border=\"1\" class=\"dataframe\">\n",
       "  <thead>\n",
       "    <tr style=\"text-align: right;\">\n",
       "      <th></th>\n",
       "      <th>count</th>\n",
       "      <th>mean</th>\n",
       "      <th>std</th>\n",
       "      <th>min</th>\n",
       "      <th>25%</th>\n",
       "      <th>50%</th>\n",
       "      <th>75%</th>\n",
       "      <th>max</th>\n",
       "    </tr>\n",
       "  </thead>\n",
       "  <tbody>\n",
       "    <tr>\n",
       "      <th>sleep_total</th>\n",
       "      <td>83.0</td>\n",
       "      <td>10.433735</td>\n",
       "      <td>4.450357</td>\n",
       "      <td>1.900000</td>\n",
       "      <td>7.850000</td>\n",
       "      <td>10.100000</td>\n",
       "      <td>13.750000</td>\n",
       "      <td>19.900</td>\n",
       "    </tr>\n",
       "    <tr>\n",
       "      <th>sleep_rem</th>\n",
       "      <td>61.0</td>\n",
       "      <td>1.875410</td>\n",
       "      <td>1.298288</td>\n",
       "      <td>0.100000</td>\n",
       "      <td>0.900000</td>\n",
       "      <td>1.500000</td>\n",
       "      <td>2.400000</td>\n",
       "      <td>6.600</td>\n",
       "    </tr>\n",
       "    <tr>\n",
       "      <th>sleep_cycle</th>\n",
       "      <td>32.0</td>\n",
       "      <td>0.439583</td>\n",
       "      <td>0.358680</td>\n",
       "      <td>0.116667</td>\n",
       "      <td>0.183333</td>\n",
       "      <td>0.333333</td>\n",
       "      <td>0.579167</td>\n",
       "      <td>1.500</td>\n",
       "    </tr>\n",
       "    <tr>\n",
       "      <th>awake</th>\n",
       "      <td>83.0</td>\n",
       "      <td>13.567470</td>\n",
       "      <td>4.452085</td>\n",
       "      <td>4.100000</td>\n",
       "      <td>10.250000</td>\n",
       "      <td>13.900000</td>\n",
       "      <td>16.150000</td>\n",
       "      <td>22.100</td>\n",
       "    </tr>\n",
       "    <tr>\n",
       "      <th>brainwt</th>\n",
       "      <td>56.0</td>\n",
       "      <td>0.281581</td>\n",
       "      <td>0.976414</td>\n",
       "      <td>0.000140</td>\n",
       "      <td>0.002900</td>\n",
       "      <td>0.012400</td>\n",
       "      <td>0.125500</td>\n",
       "      <td>5.712</td>\n",
       "    </tr>\n",
       "    <tr>\n",
       "      <th>bodywt</th>\n",
       "      <td>83.0</td>\n",
       "      <td>166.136349</td>\n",
       "      <td>786.839732</td>\n",
       "      <td>0.005000</td>\n",
       "      <td>0.174000</td>\n",
       "      <td>1.670000</td>\n",
       "      <td>41.750000</td>\n",
       "      <td>6654.000</td>\n",
       "    </tr>\n",
       "  </tbody>\n",
       "</table>\n",
       "</div>"
      ],
      "text/plain": [
       "             count        mean         std       min        25%        50%  \\\n",
       "sleep_total   83.0   10.433735    4.450357  1.900000   7.850000  10.100000   \n",
       "sleep_rem     61.0    1.875410    1.298288  0.100000   0.900000   1.500000   \n",
       "sleep_cycle   32.0    0.439583    0.358680  0.116667   0.183333   0.333333   \n",
       "awake         83.0   13.567470    4.452085  4.100000  10.250000  13.900000   \n",
       "brainwt       56.0    0.281581    0.976414  0.000140   0.002900   0.012400   \n",
       "bodywt        83.0  166.136349  786.839732  0.005000   0.174000   1.670000   \n",
       "\n",
       "                   75%       max  \n",
       "sleep_total  13.750000    19.900  \n",
       "sleep_rem     2.400000     6.600  \n",
       "sleep_cycle   0.579167     1.500  \n",
       "awake        16.150000    22.100  \n",
       "brainwt       0.125500     5.712  \n",
       "bodywt       41.750000  6654.000  "
      ]
     },
     "execution_count": 14,
     "metadata": {},
     "output_type": "execute_result"
    }
   ],
   "source": [
    "df_animal.describe().T"
   ]
  },
  {
   "cell_type": "code",
   "execution_count": 15,
   "id": "b2aa34a4-6368-409f-b88f-c1fd5fcd7d13",
   "metadata": {},
   "outputs": [
    {
     "data": {
      "text/plain": [
       "count      83.000000\n",
       "mean      166.136349\n",
       "std       786.839732\n",
       "min         0.005000\n",
       "25%         0.174000\n",
       "50%         1.670000\n",
       "75%        41.750000\n",
       "max      6654.000000\n",
       "Name: bodywt, dtype: float64"
      ]
     },
     "execution_count": 15,
     "metadata": {},
     "output_type": "execute_result"
    }
   ],
   "source": [
    "df_animal.bodywt.describe()"
   ]
  },
  {
   "cell_type": "markdown",
   "id": "e7eac206-87db-4ead-9c83-cd3db870904b",
   "metadata": {},
   "source": [
    "## Şans Nedir"
   ]
  },
  {
   "cell_type": "markdown",
   "id": "eff717cf-6cf8-4a98-be58-4e79f10a2bfc",
   "metadata": {},
   "source": [
    "İnsanlar genellikle şanstan bahsederler. Örneğin; bir satışın bitme, yarın yağmur yağma ve oyunu kazanma gibi.</br>\n",
    "\n",
    "Bir olayın sonucunun olma olasılığını tahmin edebilmek, birçok yönden faydalı olabilmektedir.</br>\n",
    "\n",
    "**Peki, şansı nasıl ölçebiliriz**\n",
    "\n",
    "Bir olayın gerçekleşme olasılığı nedir?</br>\n",
    "\n",
    "P(Olay) = olayın gerçekleşebileceği yollar / Olası çıktıların toplam sayısı </br>\n",
    "\n",
    "Örneğin; bir yazı tura oyununda tura gelme olasılığı;</br>\n",
    "\n",
    "P(Tura) = 1 / 2 = 0.5 </br>\n",
    "\n",
    "Olasılık her zaman 0 ile 100 arasındadır.</br>\n",
    "\n",
    "<img src=\"pictures/probability.png\" width=500 height=500 /> </br>   \n",
    "\n",
    "Bir başka örnek verirsek; Potansiyel bir müşteri ile yaklaşan bir toplantınız var ve siz de katılması için satış ekibinden birini göndermek istiyorsunuz. Her kişinin adını bir kutuya koyup, toplantıya kimin katılacağını belirlemek için rastgele birini seçeceksiniz.</br>\n",
    "\n",
    "<img src=\"pictures/probability_1.png\" width=500 height=500 /> </br>   \n",
    "\n",
    "Brian'ı seçme olasılığı 1/4 = 0.25'tir.</br>\n",
    "\n",
    "Peki, farklı zamanlarda iki toplantı yaparsak ne olur?</br>\n",
    "\n",
    "Her toplantı için dört ekip üyesinden birini rastgele seçebiliriz. İlk toplantı için seçilen kişinin, ikinci toplantı için seçilme şansını etkilenmez. </br>\n",
    "\n",
    "Örenğin ilk toplantı için Brain seçilmişse, Brain'ın öğleden sonraki toplantı için seçilme şansı yine %25'tir. </br>\n",
    "\n",
    "Örnek yerine geri yerleştirildiğinden ve tekrar seçilebildiğinden buna **değiştirmeli örnekleme (sampling with replacement)** denir.</br>\n",
    "\n",
    "Bu bağımsız olasılığın bir örneğidir. </br>\n",
    "\n",
    "**Bağımsız Olasılık**</br>\n",
    "\n",
    "İkinci olayın olasılığı ilk olayın sonucuna bağlı olarak değişmiyorsa iki olay bağımsızdır.</br>\n",
    "\n",
    "Online Perakende Satış Veri Seti</br>\n",
    "\n",
    "<img src=\"pictures/probability_2.png\" width=500 height=500 /> </br>   \n",
    "\n",
    "Bu veri setini kullanarak bir sonraki siparişin mücevher olam olasılığı bulunmak istenirse. Bu durumda, tüm ürünleri sipariş tipine göre gruplayarak her bir ürün için verilen toplam sipariş sayısını bulabiliriz. </br>\n",
    "\n",
    "<img src=\"pictures/probability_3.png\" width=300 height=300 /> </br> \n",
    "\n",
    "P(Mücevher) = Mücevher sipariş sayısı / Toplam Sipariş Sayısı</br> \n",
    "\n",
    "P(Mücevher) = 210 / 1767 = % 11.88"
   ]
  },
  {
   "cell_type": "code",
   "execution_count": 2,
   "id": "0dcfe3ed-3095-4f2e-ba0c-8b42d95326ae",
   "metadata": {},
   "outputs": [
    {
     "data": {
      "text/html": [
       "<div>\n",
       "<style scoped>\n",
       "    .dataframe tbody tr th:only-of-type {\n",
       "        vertical-align: middle;\n",
       "    }\n",
       "\n",
       "    .dataframe tbody tr th {\n",
       "        vertical-align: top;\n",
       "    }\n",
       "\n",
       "    .dataframe thead th {\n",
       "        text-align: right;\n",
       "    }\n",
       "</style>\n",
       "<table border=\"1\" class=\"dataframe\">\n",
       "  <thead>\n",
       "    <tr style=\"text-align: right;\">\n",
       "      <th></th>\n",
       "      <th>sum</th>\n",
       "    </tr>\n",
       "    <tr>\n",
       "      <th>num_users</th>\n",
       "      <th></th>\n",
       "    </tr>\n",
       "  </thead>\n",
       "  <tbody>\n",
       "    <tr>\n",
       "      <th>1</th>\n",
       "      <td>13624.50</td>\n",
       "    </tr>\n",
       "    <tr>\n",
       "      <th>2</th>\n",
       "      <td>40732.68</td>\n",
       "    </tr>\n",
       "    <tr>\n",
       "      <th>3</th>\n",
       "      <td>24858.82</td>\n",
       "    </tr>\n",
       "    <tr>\n",
       "      <th>4</th>\n",
       "      <td>3880.07</td>\n",
       "    </tr>\n",
       "    <tr>\n",
       "      <th>5</th>\n",
       "      <td>12428.48</td>\n",
       "    </tr>\n",
       "    <tr>\n",
       "      <th>...</th>\n",
       "      <td>...</td>\n",
       "    </tr>\n",
       "    <tr>\n",
       "      <th>92</th>\n",
       "      <td>4509.96</td>\n",
       "    </tr>\n",
       "    <tr>\n",
       "      <th>94</th>\n",
       "      <td>4171.76</td>\n",
       "    </tr>\n",
       "    <tr>\n",
       "      <th>96</th>\n",
       "      <td>8180.81</td>\n",
       "    </tr>\n",
       "    <tr>\n",
       "      <th>98</th>\n",
       "      <td>5992.86</td>\n",
       "    </tr>\n",
       "    <tr>\n",
       "      <th>99</th>\n",
       "      <td>16750.45</td>\n",
       "    </tr>\n",
       "  </tbody>\n",
       "</table>\n",
       "<p>79 rows × 1 columns</p>\n",
       "</div>"
      ],
      "text/plain": [
       "                sum\n",
       "num_users          \n",
       "1          13624.50\n",
       "2          40732.68\n",
       "3          24858.82\n",
       "4           3880.07\n",
       "5          12428.48\n",
       "...             ...\n",
       "92          4509.96\n",
       "94          4171.76\n",
       "96          8180.81\n",
       "98          5992.86\n",
       "99         16750.45\n",
       "\n",
       "[79 rows x 1 columns]"
      ]
     },
     "execution_count": 2,
     "metadata": {},
     "output_type": "execute_result"
    }
   ],
   "source": [
    "import pandas as pd\n",
    "\n",
    "df_sales = pd.read_csv(\"data/amir_deals.csv\")\n",
    "df_sales_users = df_sales.groupby(\"num_users\")[\"amount\"].\\\n",
    "agg(sum=\"sum\")\n",
    "\n",
    "# select num_users, sum(amount) from amir_deals group by num_users\n",
    "\n",
    "df_sales_users\n"
   ]
  },
  {
   "cell_type": "code",
   "execution_count": 3,
   "id": "689cfd13-97c0-4a3e-9da2-7bcbfae753ef",
   "metadata": {},
   "outputs": [
    {
     "data": {
      "text/html": [
       "<div>\n",
       "<style scoped>\n",
       "    .dataframe tbody tr th:only-of-type {\n",
       "        vertical-align: middle;\n",
       "    }\n",
       "\n",
       "    .dataframe tbody tr th {\n",
       "        vertical-align: top;\n",
       "    }\n",
       "\n",
       "    .dataframe thead th {\n",
       "        text-align: right;\n",
       "    }\n",
       "</style>\n",
       "<table border=\"1\" class=\"dataframe\">\n",
       "  <thead>\n",
       "    <tr style=\"text-align: right;\">\n",
       "      <th></th>\n",
       "      <th>sum</th>\n",
       "    </tr>\n",
       "    <tr>\n",
       "      <th>num_users</th>\n",
       "      <th></th>\n",
       "    </tr>\n",
       "  </thead>\n",
       "  <tbody>\n",
       "    <tr>\n",
       "      <th>92</th>\n",
       "      <td>4509.96</td>\n",
       "    </tr>\n",
       "  </tbody>\n",
       "</table>\n",
       "</div>"
      ],
      "text/plain": [
       "               sum\n",
       "num_users         \n",
       "92         4509.96"
      ]
     },
     "execution_count": 3,
     "metadata": {},
     "output_type": "execute_result"
    }
   ],
   "source": [
    "df_sales_users.sample()"
   ]
  },
  {
   "cell_type": "code",
   "execution_count": 4,
   "id": "a46c4f42-ca7f-45e3-9004-9a86335da1b4",
   "metadata": {},
   "outputs": [
    {
     "data": {
      "text/html": [
       "<div>\n",
       "<style scoped>\n",
       "    .dataframe tbody tr th:only-of-type {\n",
       "        vertical-align: middle;\n",
       "    }\n",
       "\n",
       "    .dataframe tbody tr th {\n",
       "        vertical-align: top;\n",
       "    }\n",
       "\n",
       "    .dataframe thead th {\n",
       "        text-align: right;\n",
       "    }\n",
       "</style>\n",
       "<table border=\"1\" class=\"dataframe\">\n",
       "  <thead>\n",
       "    <tr style=\"text-align: right;\">\n",
       "      <th></th>\n",
       "      <th>sum</th>\n",
       "    </tr>\n",
       "    <tr>\n",
       "      <th>num_users</th>\n",
       "      <th></th>\n",
       "    </tr>\n",
       "  </thead>\n",
       "  <tbody>\n",
       "    <tr>\n",
       "      <th>82</th>\n",
       "      <td>13927.5</td>\n",
       "    </tr>\n",
       "  </tbody>\n",
       "</table>\n",
       "</div>"
      ],
      "text/plain": [
       "               sum\n",
       "num_users         \n",
       "82         13927.5"
      ]
     },
     "execution_count": 4,
     "metadata": {},
     "output_type": "execute_result"
    }
   ],
   "source": [
    "df_sales_users.sample()"
   ]
  },
  {
   "cell_type": "code",
   "execution_count": 5,
   "id": "698b8052-58ee-4c46-89c0-25213368674e",
   "metadata": {},
   "outputs": [],
   "source": [
    "import numpy as np\n",
    "\n",
    "np.random.seed(42)"
   ]
  },
  {
   "cell_type": "code",
   "execution_count": 6,
   "id": "9e11734b-1ae8-4533-981a-07e44436c742",
   "metadata": {},
   "outputs": [
    {
     "data": {
      "text/html": [
       "<div>\n",
       "<style scoped>\n",
       "    .dataframe tbody tr th:only-of-type {\n",
       "        vertical-align: middle;\n",
       "    }\n",
       "\n",
       "    .dataframe tbody tr th {\n",
       "        vertical-align: top;\n",
       "    }\n",
       "\n",
       "    .dataframe thead th {\n",
       "        text-align: right;\n",
       "    }\n",
       "</style>\n",
       "<table border=\"1\" class=\"dataframe\">\n",
       "  <thead>\n",
       "    <tr style=\"text-align: right;\">\n",
       "      <th></th>\n",
       "      <th>sum</th>\n",
       "    </tr>\n",
       "    <tr>\n",
       "      <th>num_users</th>\n",
       "      <th></th>\n",
       "    </tr>\n",
       "  </thead>\n",
       "  <tbody>\n",
       "    <tr>\n",
       "      <th>33</th>\n",
       "      <td>7077.48</td>\n",
       "    </tr>\n",
       "  </tbody>\n",
       "</table>\n",
       "</div>"
      ],
      "text/plain": [
       "               sum\n",
       "num_users         \n",
       "33         7077.48"
      ]
     },
     "execution_count": 6,
     "metadata": {},
     "output_type": "execute_result"
    }
   ],
   "source": [
    "df_sales_users.sample()"
   ]
  },
  {
   "cell_type": "code",
   "execution_count": 7,
   "id": "186f9d2b-9519-401a-a523-e10fcca60864",
   "metadata": {},
   "outputs": [
    {
     "data": {
      "text/html": [
       "<div>\n",
       "<style scoped>\n",
       "    .dataframe tbody tr th:only-of-type {\n",
       "        vertical-align: middle;\n",
       "    }\n",
       "\n",
       "    .dataframe tbody tr th {\n",
       "        vertical-align: top;\n",
       "    }\n",
       "\n",
       "    .dataframe thead th {\n",
       "        text-align: right;\n",
       "    }\n",
       "</style>\n",
       "<table border=\"1\" class=\"dataframe\">\n",
       "  <thead>\n",
       "    <tr style=\"text-align: right;\">\n",
       "      <th></th>\n",
       "      <th>sum</th>\n",
       "    </tr>\n",
       "    <tr>\n",
       "      <th>num_users</th>\n",
       "      <th></th>\n",
       "    </tr>\n",
       "  </thead>\n",
       "  <tbody>\n",
       "    <tr>\n",
       "      <th>33</th>\n",
       "      <td>7077.48</td>\n",
       "    </tr>\n",
       "  </tbody>\n",
       "</table>\n",
       "</div>"
      ],
      "text/plain": [
       "               sum\n",
       "num_users         \n",
       "33         7077.48"
      ]
     },
     "execution_count": 7,
     "metadata": {},
     "output_type": "execute_result"
    }
   ],
   "source": [
    "np.random.seed(42)\n",
    "df_sales_users.sample()"
   ]
  },
  {
   "cell_type": "markdown",
   "id": "9b33b012-b245-4656-aad9-52340bfe08d7",
   "metadata": {},
   "source": [
    " **Koşullu Olasılık (Conditional Probability)**</br>\n",
    "\n",
    " Bir olayın sonucunun başka bir olayı etkilemesi durumudur. </br>\n",
    "\n",
    " <img src=\"pictures/probability_4.png\" height=500 width=500/> </br> \n",
    "\n",
    "Önceki örnekten devaö edelim. Brain'ın ismi seçildi ve adı artık kutusa yer almıyor. Aynı anda başka bir toplantımız var ve başka bir temsilci seçmek zorundayız. Brain olmadığı içib geri klan üç kişiden birini seçmek zorundasınız. </br>\n",
    "\n",
    "Daha önce çıkardığımız kişiyi tekrar yerine koymadığımız için buna **değiştirmeden örnekleme (sampling without replacement)** denir. </br>\n",
    "\n",
    "Bu sefer de Clair seçilsin. Bu drumda olasılık %33.3'tür. Bu ilk olayın sonucunun ikinci olayın olasılığını değiştirdiği bağıölı olaylara bir örnektir.</br>\n",
    "\n",
    "**Bağımlı Olasılık**\n",
    "\n",
    "İlk olayın sonucunun ikinci olayın sonucunu etkilediği durumdur.</br>\n",
    "\n",
    "Örneğim ilk seçimde Claire çekilseydi, ikinci çekilişte Claire'in seçilme olasılığı %0'dır. Eğer başka biri ilk seçilirse Claire'in ikinci seçilme olasılığı %33.3'tür.</br>\n",
    "\n",
    "Koşullu olasılık, bağımlı olayların olasılığını hesaplamak için kullanılır. </br>\n",
    "<ul>\n",
    "    <li>Bir olayın olasılığı diğerinin sonucuna bağlıdır. Örneğin, bir önceki tren göz önüne alındığında, bir trenin zamanında varma olasılığı.</li>\n",
    "</ul>\n",
    "\n",
    "**Venn Diagram**</br>\n",
    "\n",
    " <img src=\"pictures/probability_5.png\" height=500 width=500/> </br> \n",
    "\n",
    " <img src=\"pictures/probability_6.png\" height=600 width=600/> </br>\n",
    "\n",
    " <img src=\"pictures/probability_7.png\" height=600 width=600/> </br> \n",
    "\n",
    "  <img src=\"pictures/probability_8.png\" height=600 width=600/> </br> "
   ]
  },
  {
   "cell_type": "code",
   "execution_count": 10,
   "id": "bf2e41e7-6402-4a9e-8b65-f109753e0a54",
   "metadata": {},
   "outputs": [
    {
     "data": {
      "text/html": [
       "<div>\n",
       "<style scoped>\n",
       "    .dataframe tbody tr th:only-of-type {\n",
       "        vertical-align: middle;\n",
       "    }\n",
       "\n",
       "    .dataframe tbody tr th {\n",
       "        vertical-align: top;\n",
       "    }\n",
       "\n",
       "    .dataframe thead th {\n",
       "        text-align: right;\n",
       "    }\n",
       "</style>\n",
       "<table border=\"1\" class=\"dataframe\">\n",
       "  <thead>\n",
       "    <tr style=\"text-align: right;\">\n",
       "      <th></th>\n",
       "      <th>sum</th>\n",
       "    </tr>\n",
       "    <tr>\n",
       "      <th>num_users</th>\n",
       "      <th></th>\n",
       "    </tr>\n",
       "  </thead>\n",
       "  <tbody>\n",
       "    <tr>\n",
       "      <th>73</th>\n",
       "      <td>9299.91</td>\n",
       "    </tr>\n",
       "    <tr>\n",
       "      <th>11</th>\n",
       "      <td>3240.63</td>\n",
       "    </tr>\n",
       "    <tr>\n",
       "      <th>8</th>\n",
       "      <td>20224.18</td>\n",
       "    </tr>\n",
       "    <tr>\n",
       "      <th>37</th>\n",
       "      <td>4409.89</td>\n",
       "    </tr>\n",
       "    <tr>\n",
       "      <th>37</th>\n",
       "      <td>4409.89</td>\n",
       "    </tr>\n",
       "  </tbody>\n",
       "</table>\n",
       "</div>"
      ],
      "text/plain": [
       "                sum\n",
       "num_users          \n",
       "73          9299.91\n",
       "11          3240.63\n",
       "8          20224.18\n",
       "37          4409.89\n",
       "37          4409.89"
      ]
     },
     "execution_count": 10,
     "metadata": {},
     "output_type": "execute_result"
    }
   ],
   "source": [
    "df_sales_users.sample(5, replace=True)"
   ]
  },
  {
   "cell_type": "markdown",
   "id": "4658a44f-3f09-4233-a40b-9572d3414190",
   "metadata": {},
   "source": [
    "## Ayrık Dağılımlar"
   ]
  },
  {
   "cell_type": "markdown",
   "id": "a3b995c3-6e2e-4077-bfc2-9a32cf0a43d7",
   "metadata": {},
   "source": [
    "Standart altı yüzlü bir zarın atıldığını düşünelim. Alto olası sonuç vardır ve her birinin gerçekleşme şansı altıda birdir.</br>\n",
    "\n",
    "\n",
    " Bu daha önceki senaryoya benzemektedir ve burada sayıların yerini isimler almaktadır. Tıpkı zarın atılması gibi, her sonucun veya ismin seçilme şansı eşittir.ir"
   ]
  },
  {
   "cell_type": "markdown",
   "id": "e06a2bc6-6923-4d90-9d68-c2eb92460ecd",
   "metadata": {},
   "source": [
    "**Olasılık Dağılımı**</br>\n",
    "\n",
    "Bir senaryodaki her olası sonucun olasılığını açıklar.</br>\n",
    "\n",
    "Bir dağılımın ortalaması olan beklenen değeri de bulunabilir.</br>\n",
    "\n",
    "Bu, her değeri olasılığıyla (bu durumda altıda biri) çarpıp toplayarak hesaplanır.</br>\n",
    "\n",
    " <img src=\"pictures/discrete_dist_3.png\" height=500 width=500/> </br> \n",
    "\n",
    "**Olasılık Dağılımları Neden Önemlidir?** </br>\n",
    "<ul>\n",
    "    <li>Riski ölçmeye ve karar alma sürecini bilgilendirmeyi sağlar.</li>\n",
    "    <li>Hipotez testlerinde sonuçların şans eseri çıkıp çıkmadığını anlamak için</li>\n",
    "    <li></li>\n",
    "</ul>\n"
   ]
  },
  {
   "cell_type": "markdown",
   "id": "797d7771-5283-4aac-976e-7c04fb1e8447",
   "metadata": {},
   "source": [
    "**Olasılık Dağılımlarının Görselleştirilmesi**</br>\n",
    "\n",
    "Histogram kullanarak olasılık dağılımları görselleştirilebilir. Burada her çubuk bir sonucu temsil eder ve her çubuğun yüksekliği bu sonucun olasılığını temsil eder.</br>\n",
    "\n",
    " <img src=\"pictures/discrete_dist_4.png\" height=500 width=500/> </br> "
   ]
  },
  {
   "cell_type": "markdown",
   "id": "9906447a-f137-4bd3-a516-d7692ca87e62",
   "metadata": {},
   "source": [
    "Olasılık = Alan </br>\n",
    "\n",
    "Olasılık dağılımının alanlarını bularak farklı sonuçların olasılıkları hesaplanabilir.</br>\n",
    "\n",
    "Örneğin, atılan zarın ikiye eşit veya ikiden düşük olma olasılığı nedir? P(zar atışı) ≤ 2 = ? </br>\n",
    "\n",
    " <img src=\"pictures/discrete_dist_5.png\" height=500 width=500/> </br> \n",
    "\n",
    " P(zar atışı) ≤ 2 = 1/3 </br>\n",
    "\n",
    " Aşağıdaki şekilde de görüldüğü gibi zardaki iki kısmının üçe dönüştüğünü varsayalım.</br>\n",
    "\n",
    "  <img src=\"pictures/discrete_dist_6.png\" height=500 width=500/> </br> \n",
    "\n",
    " Bu durumda, artık zarın iki gelme şansı 0, 3 gelme şansı %33'dür.</br>\n",
    "\n",
    " Böyle bir zarın beklenen değeri ise: </br>\n",
    "\n",
    "  <img src=\"pictures/discrete_dist_7.png\" height=500 width=500/> </br> \n",
    "\n",
    " Bu yeni olasılıklara ait dağılım grafiği çizildiğinde çubukların yükseklikleri eşit olmayacaktır.</br>\n",
    "\n",
    "   <img src=\"pictures/discrete_dist_8.png\" height=500 width=500/> </br> \n",
    "\n",
    " Böyle bir durumda P(zar atışı) ≤ 2 = ? </br>\n",
    "\n",
    "  <img src=\"pictures/discrete_dist_9.png\" height=500 width=500/> </br> \n",
    "\n",
    "  Şu ana kadar gördüğümüz olasılık dağılımları ayrık sonuçları olan durumları temsil ettikleri için ayrıktır. Bu nedenle sayım ve aralık verilerini temsil ederler. Örneğin, zar durumunda noktaları sayıyoruz. 1.5 veya 4.3 atılamaz.</br>\n",
    "\n",
    "  <img src=\"pictures/discrete_dist_10.png\" height=500 width=500/> </br> \n",
    "\n",
    "  Adil bir zar kullanılması durumu gibi, tüm sonuçların aynı olasılığa sahip olamsı durumuna discrete uniform distrubition adı verilir. </br>"
   ]
  },
  {
   "cell_type": "markdown",
   "id": "dd33a039-3999-46ff-a831-9c6dda557221",
   "metadata": {},
   "source": [
    "**Ayrık bir dağılımdan örneklem alma**\n",
    "\n",
    "Adil bir zar atışında potansityel sonuçlar aşağıdaki gibi olsun.</br>\n",
    "\n",
    "  <img src=\"pictures/discrete_dist_11.png\" height=100 width=100/> </br> \n",
    "\n",
    "Aynı zar 10 kez atılırsa, aynı sonuç birden fazla kez alınabileceği için yerine koyarak örnekleme yapılmış olur. \n",
    "\n",
    "  <img src=\"pictures/discrete_dist_12.png\" height=100 width=100/> </br> \n",
    "\n",
    "  <img src=\"pictures/discrete_dist_13.png\" height=500 width=500/> </br> \n",
    "\n",
    "  Örnekleme rastgele olduğundan, her sayının gelme olasılığı aynı olmasına rağmen, farklı sayıda elde edilmiştir.</br>\n",
    "\n",
    "  <img src=\"pictures/discrete_dist_14.png\" height=500 width=500/> </br> \n",
    "\n",
    "Burada örneğin ortalaması 3'tür ve beklenen değer olan 3.5'e pek yakın değildir. </br>\n",
    "\n",
    "Zarı 100 kere atarsak dağılım:</br>\n",
    "\n",
    "  <img src=\"pictures/discrete_dist_15.png\" height=500 width=500/> </br> \n",
    "\n",
    "Görüldüğü gibi gelen sayılar biraz daha eşit görünüyor ve ortalama 3.5'e biraz daha yakındır.\n",
    "\n",
    "1000 defa atılırsa sonuç şuan benzer.</br>\n",
    "\n",
    "  <img src=\"pictures/discrete_dist_16.png\" height=500 width=500/> </br> \n",
    "\n",
    "Burada teorik olasılık dağılımı ve 3.5 ile daha yakın eşleşiyor. Buna büyük sayılar kanunu (Law of Large Numbers) adı verilir.</br>\n",
    "\n",
    "Örnek boyutu artılırsa ortalanma teorik ortalamaya yaklaşacaktır. "
   ]
  },
  {
   "cell_type": "markdown",
   "id": "14123cdc-b3b2-4646-bcea-2ebcfb66b27d",
   "metadata": {},
   "source": [
    "## Sürekli Dağılımlar "
   ]
  },
  {
   "cell_type": "markdown",
   "id": "712cc4aa-df7b-4977-a785-80e4d1aaa9b1",
   "metadata": {},
   "source": [
    "**Şu durumlarda sürekli dağılımlar kullanılır**\n",
    "\n",
    "Otobüs bekliyorsunuz</br>\n",
    "\n",
    "  <img src=\"pictures/continuous_dist.png\" height=500 width=500/> </br> \n",
    "\n",
    "  Belediye otobüsü her 12 dakikada bir geliyor. yani rastgele bir saatte gelirseniz bir süre bekleyebilirsiniz. Otobüs tam durağa gelirken gelinirse sıfır dakikadan, otobüs kalkarken gelinirse 12 dakikaya kadar beklenebilir.</br>\n",
    "\n",
    "  Bu olay bir olasılık dağılımı ile modellenebilir. Durakta, beklenebilecek sonsuz sayıda dakika vardır (5 dk., 1.5 dk, 1.53 dk. vb.). Bu nedenle sayım ve aralık verileriyle yapıldığı gibi bireysel bloklar oluşturulamaz.</br>\n",
    "\n",
    "  Bunun yerine olasılığı temsil etmek için sürekli bir çizgi kullanılır. 0'dan 12'ye kadar herhangi bir süre bekleme olasılığı olduğu aynı olduğundan çizgi düzdür. Buna sürekli düzgün dağılım adı verilir (Continuous Uniform Disttibutions).</br>\n",
    "\n",
    "   <img src=\"pictures/continuous_dist_2.png\" height=500 width=500/> </br> \n",
    "\n",
    " Olasılık = Alan </br>\n",
    "\n",
    " P(4 ≤ bekleme zamanı ≤ 7) = ?\n",
    "\n",
    "   <img src=\"pictures/continuous_dist_3.png\" height=500 width=500/> </br> \n",
    "\n",
    " P(bekleme zamanı ≤ 7) = ?\n",
    "\n",
    "   <img src=\"pictures/continuous_dist_4.png\" height=500 width=500/> </br> \n",
    "\n",
    " \n",
    "  P(0 ≤ bekleme zamanı ≤ 12) = ?\n",
    "  \n",
    "   <img src=\"pictures/continuous_dist_5.png\" height=500 width=500/> </br> \n",
    "\n",
    "  P(bekleme zamanı ≥ 7) = ?\n",
    "\n",
    "   <img src=\"pictures/continuous_dist_6.png\" height=500 width=500/> </br> \n",
    "\n",
    "**Bimodal Distributions**</br>\n",
    "\n",
    "Sürekli dağılımlar, bazı değerlerin diğerlerinden daha yüksek olasılığa sahip olduğu tekdüze olmayan biçimler alabilir.</br>\n",
    "\n",
    "<img src=\"pictures/continuous_dist_7.png\" height=500 width=500/> </br> \n",
    "\n",
    "Örneğin yukarıda en sık ortaya çıkan iki değrin olduğu bir dağılım görülmektedir. İki modu olduğundan, iki modlu dağılım (bimodal distribution) olarak adlandırılır. İki modlu dağılama verilebilecek örneklerden bir tanesi, farklı özelliklere sahip kitap fiyatlarıdır. Kitabın ciltli veya ciltsiz olmasına göre ortaya çıkan değerler.</br>\n",
    "\n",
    "\n",
    "**Normal Dağılım**</br>\n",
    "\n",
    "   <img src=\"pictures/normal_dist.png\" height=500 width=500/> </br> \n",
    "\n",
    "Tansiyon ve emeklilik yaşı gibi verilerde bu dağılımı gözlemlemek çok yaygındır.\n",
    "\n",
    "   <img src=\"pictures/total_area.png\" height=500 width=500/> </br> \n"
   ]
  },
  {
   "cell_type": "code",
   "execution_count": 34,
   "id": "3b61ae72-3c73-4ca8-a605-eabfdc054fab",
   "metadata": {},
   "outputs": [
    {
     "data": {
      "text/plain": [
       "0.5833333333333334"
      ]
     },
     "execution_count": 34,
     "metadata": {},
     "output_type": "execute_result"
    }
   ],
   "source": [
    "'''\n",
    "scipy.stats.uniform.cdf(x, loc=0, scale=1)\n",
    "\n",
    "x = Değeri x'e kadar olan olasılığı hesaplamak istediğiniz noktadır. Yani, P(X≤x)P(X≤x) olasılığını hesaplar.\n",
    "\n",
    "loc = Dağılımın başlangıç (lokasyon) parametresidir. Yani, uniform dağılımın başladığı noktadır. \n",
    "Default (varsayılan) değeri 0'dır, ancak farklı bir aralıkta bir uniform dağılımı modellemek isterseniz, burayı değiştirirsiniz.\n",
    "Örnek: Eğer loc=2loc=2 ise, dağılım 2'den başlar.\n",
    "\n",
    "scale =  Dağılımın uzunluğunu (aralığını) belirleyen bir parametredir. \n",
    "scale, dağılımın genişliğini gösterir ve bu aralık [loc,loc+scale] aralığına yayılır. \n",
    "Varsayılan değer 1'dir, yani loc'dan 1 birim sağa doğru genişler.\n",
    "Örnek: Eğer scale=3 ise, uniform dağılım loc'dan loc+3'e kadar uzanır.\n",
    "\n",
    "'''\n",
    "\n",
    "# P(wait_time ≤ 7) \n",
    "from scipy.stats import uniform\n",
    "uniform.cdf(7, 0, 12)"
   ]
  },
  {
   "cell_type": "code",
   "execution_count": 35,
   "id": "19aac4f4-b712-492c-b64d-959f7612cbc2",
   "metadata": {},
   "outputs": [
    {
     "data": {
      "text/plain": [
       "0.41666666666666663"
      ]
     },
     "execution_count": 35,
     "metadata": {},
     "output_type": "execute_result"
    }
   ],
   "source": [
    "# P(wait_time ≥ 7) = 1 - P(wait_time ≤ 7) \n",
    "1 - uniform.cdf(7, 0, 12)"
   ]
  },
  {
   "cell_type": "code",
   "execution_count": 36,
   "id": "3fe3f704-f6c9-48a4-9e12-3547470bac8b",
   "metadata": {},
   "outputs": [
    {
     "data": {
      "text/plain": [
       "0.25000000000000006"
      ]
     },
     "execution_count": 36,
     "metadata": {},
     "output_type": "execute_result"
    }
   ],
   "source": [
    "# P(4 ≤ wait_time ≤ 7)\n",
    "# P(4 ≤ wait_time ≤ 7) = P(wait_time ≤ 7) - P(wait_time ≤ 4)\n",
    "\n",
    "uniform.cdf(7, 0, 12) - uniform.cdf(4, 0, 12)"
   ]
  },
  {
   "cell_type": "code",
   "execution_count": 37,
   "id": "4636c94b-1cd5-4ae2-a38c-deeab71f68fd",
   "metadata": {},
   "outputs": [
    {
     "data": {
      "text/plain": [
       "1.0"
      ]
     },
     "execution_count": 37,
     "metadata": {},
     "output_type": "execute_result"
    }
   ],
   "source": [
    "# P(0 ≤ wait_time ≤ 12)\n",
    "\n",
    "uniform.cdf(12, 0, 12)"
   ]
  },
  {
   "cell_type": "markdown",
   "id": "8c58ef38-6847-4996-8e7f-ac567e41b216",
   "metadata": {},
   "source": [
    "## Uniform Dağılıma Göre Rastgele Sayılar Üretme"
   ]
  },
  {
   "cell_type": "code",
   "execution_count": 38,
   "id": "2865e7ea-ca5c-4226-9cf9-227d3b81ae97",
   "metadata": {},
   "outputs": [
    {
     "data": {
      "text/plain": [
       "array([3.85635173, 0.37022326, 1.79232864, 0.5793453 , 4.31551713,\n",
       "       3.11649063, 1.65449012, 0.31779175, 1.55491161, 1.62591661])"
      ]
     },
     "execution_count": 38,
     "metadata": {},
     "output_type": "execute_result"
    }
   ],
   "source": [
    "uniform.rvs(0, 5, size=10)"
   ]
  },
  {
   "cell_type": "markdown",
   "id": "80063e4e-937c-40ca-b3bb-40a412cdbbcd",
   "metadata": {},
   "source": [
    "scipy.stats.uniform.rvs(loc=0, scale=1, size=1, random_state=None) </br>\n",
    "\n",
    "loc (default = 0):\n",
    "\n",
    "    Açıklama: Bu parametre, dağılımın başlangıç noktasını (lokasyonunu) belirler. Dağılım, bu değerden itibaren başlar. Varsayılan değer 0'dır.\n",
    "    Örnek: Eğer loc = 5 verilirse, uniform dağılım 5'ten başlar ve rastgele sayılar bu aralıktan üretilir.\n",
    "    Dağılım Aralığı: [loc,loc+scale][loc,loc+scale] aralığında değerler üretir.\n",
    "\n",
    "scale (default = 1):\n",
    "\n",
    "    Açıklama: Bu parametre, dağılımın genişliğini belirler. Uniform dağılım bu aralık içinde rastgele değerler üretir. Varsayılan değer 1'dir.\n",
    "    Örnek: Eğer scale = 10 verilirse, dağılım locloc'dan loc+10loc+10'a kadar uzanır. Yani, üretilen rastgele değerler bu aralıktan gelir.\n",
    "    Dağılım Aralığı: [loc,loc+scale][loc,loc+scale].\n",
    "\n",
    "size (default = 1):\n",
    "\n",
    "    Açıklama: Üretilmesini istediğiniz rastgele sayıların sayısını belirtir. Eğer bir sayı verirseniz, o kadar rastgele değer üretilir. Bu parametre bir tamsayı ya da bir tuple olabilir.\n",
    "    Örnek:\n",
    "        size=1 ise, tek bir rastgele sayı üretilir.\n",
    "        size=5 ise, beş tane rastgele sayı üretilir.\n",
    "        size=(3, 4) ise, 3x4 boyutunda bir matris şeklinde rastgele sayılar üretilir.\n",
    "\n",
    "random_state (default = None):\n",
    "\n",
    "    Açıklama: Rastgele sayı üretiminde kullanılan seed (tohum) değerini belirler. Eğer belirli bir seed verilirse, aynı sonuçların tekrar üretilebilmesi sağlanır. Eğer random_state=None verilirse, her çalıştırmada farklı rastgele sayılar üretilir.\n",
    "    Örnek:\n",
    "        random_state=42 verilirse, aynı koşullar altında aynı rastgele sayılar üretilir.\n",
    "        Eğer bu parametreye herhangi bir değer verilmezse (None), sonuçlar her çalıştırmada farklı olur."
   ]
  },
  {
   "cell_type": "markdown",
   "id": "f4414e8c-09ca-4271-ab62-dda6a7efc6f4",
   "metadata": {},
   "source": [
    "# Binomial (Binom) Distribution"
   ]
  },
  {
   "cell_type": "markdown",
   "id": "f35c4733-a558-41ed-9b61-81c84a3e94a2",
   "metadata": {},
   "source": [
    "Binom dağılımı, bir dizi bağımsız denemedeki başarı sayısının olasılığını tanımlar.\n",
    "\n",
    "   <img src=\"pictures/binom_dist.png\" height=300 width=300/> </br> \n",
    "\n",
    "Bir yazı tura oyunu oyanayalım. İki olasığığa sahiptir. Her birinin olasılığı %50'dir. Bu iki olası değerin oluşabileceği ikili duruma örnektir.</br>\n",
    "\n",
    "   <img src=\"pictures/binom_dist_2.png\" height=300 width=300/> </br> \n",
    "\n",
    "Bu sonuçlar yukarıdaki gibi farklı şekillerde ifade edilebilir. </br>\n",
    "\n",
    "   <img src=\"pictures/binom_dist_3.png\" height=150 width=150/> </br> \n",
    "\n",
    "Aynı madeni parayı birden fazla kez havaya atıp sonuçları kaydedebiliriz, örneğin burada yazı gelirse 1, tura gelirse 0 olarak gösterilir.</br>\n",
    "\n",
    "<ul>\n",
    "    <li>Binom dağılımı, bir dizi bağımsız olaydaki başarı sayısının olasılığını tanımlar. Örneğin, bir dizi yazı-tura atışında belirli sayıda tura gelme olasılığını söyleyebilir.</li>\n",
    "    <li>Sayılabilir bir sonuçla çalışıldığı için, ayrık bir dağılımdır.</li>\n",
    "    <li>Binom dağılımındaki iki parametre n ve p olarak tanımlanabilir.</br>\n",
    "         n : gerçekleştirilen etkinlik sayısı</br>\n",
    "         p : başarı olasılığı \n",
    "    </li>\n",
    "</ul>\n",
    "\n",
    "   <img src=\"pictures/binom_dist_4.png\" height=500 width=500/> </br> \n",
    "\n",
    "Yukarıda 10 atış için dağılımın nasıl görünmektedir. Burada en yüksek olasılık beş tura gelme, sıfır veya 10 tura gelme şansı ise çok daha düşüktür.</br>\n",
    "\n",
    "10 atışta 7 veya daha az tura gelme olasılığı:</br>\n",
    "\n",
    "   <img src=\"pictures/binom_dist_5.png\" height=500 width=500/> </br>\n",
    "   \n",
    "10 atışta 8 veya daha fazla tura gelme olasılığı:</br>\n",
    "\n",
    "   <img src=\"pictures/binom_dist_6.png\" height=500 width=500/> </br>\n",
    "\n",
    "**Expected Value = n * p** </br> \n",
    "\n",
    "Yukarıdaki örnek için; </br>\n",
    "\n",
    "Expected Value = 10 * 0.5 = 5</br>\n",
    "\n",
    "Binom dağılımının uygulanabilmesi için her olayın bağımsız olması yani bir olayın sonucunun bir sonrakini etkilememesi gerekir. </br>\n",
    "\n",
    "   <img src=\"pictures/binom_dist_7.png\" height=500 width=500/> </br>\n",
    "\n",
    "Örneğin, yukarıdaki kartlardan rastgele seçim yapılıyorsa, sıfır veya bir seçme şansı %50 - %50'dir. Olasılıkların önceki bir olayın sonucuna göre değişmesi durumunda binom dağılımı uygulanmaz.</br>\n",
    "\n",
    "   <img src=\"pictures/binom_dist_8.png\" height=500 width=500/> </br>\n",
    "\n",
    "Ancak, yukarıda oldupu gibi yerine koymadan seçim yapılıyorsa, olasılıklar ilk olayın sonucuna bağlı olarak farklıdır. Yani burada, binom dağılımı uygulanamaz.</br>\n",
    "\n",
    "Binom dağılımı bağımsız olayların ikili sonuçlar ürettiği ve her sonuç için eşit olasılık gerektirmeyen senaryolarda kullanılabilir. Örnek olarak, bir ilacın etkili olup olmadığı durumu gösterilebilir. \n"
   ]
  },
  {
   "cell_type": "markdown",
   "id": "3e18b32f-04d1-4906-be1c-2d4940f959c2",
   "metadata": {},
   "source": [
    "from scipy.stats import binom</br>\n",
    "\n",
    "binom.rvs(n, p, loc=0, size=1, random_state=None) </br>\n",
    "\n",
    "n:\n",
    "\n",
    "    Açıklama: Bu parametre, deneme sayısını (yani binom dağılımında yapılacak toplam deney sayısını) ifade eder.\n",
    "    Örnek: Eğer n = 10 verilirse, 10 denemeden oluşan bir binom dağılımı üzerinde rastgele sayılar üretilir. Her bir deneme bağımsızdır ve p olasılığına göre başarı veya başarısızlıkla sonuçlanır.\n",
    "\n",
    "p:\n",
    "\n",
    "    Açıklama: Her bir denemenin başarı olasılığını ifade eder. Bu değer 0 ile 1 arasında olmalıdır.\n",
    "    Örnek: Eğer p = 0.5 ise, her bir denemenin başarı olasılığı %50'dir. Yani, bir madeni paranın yazı-tura atışında yazı gelme olasılığı gibi düşünülebilir.\n",
    "\n",
    "loc (default = 0):\n",
    "\n",
    "    Açıklama: Sonuçta elde edilen rastgele sayılara bir kayma (offset) ekleyen parametredir. Varsayılan değeri 0'dır. Bu parametre, dağılımdan üretilen değerlere toplamsal bir kayma ekleyerek sonuçları değiştirir.\n",
    "    Örnek: Eğer loc = 2 verilirse, üretilen her rastgele sayı üzerine 2 eklenir.\n",
    "\n",
    "size (default = 1):\n",
    "\n",
    "    Açıklama: Üretilmesini istediğiniz rastgele sayıların miktarını belirtir. Bu parametre, kaç tane binom dağılımına göre değer üretilmesi gerektiğini gösterir.\n",
    "    Örnek:\n",
    "        size=1 ise, tek bir rastgele sayı üretir.\n",
    "        size=5 ise, beş tane rastgele sayı üretir.\n",
    "        size=(3, 4) ise, 3x4 boyutunda bir matris şeklinde rastgele sayılar üretir.\n",
    "\n",
    "random_state (default = None):\n",
    "\n",
    "    Açıklama: Rastgele sayı üretiminde kullanılan seed değerini belirler. Eğer belirli bir seed verilirse, aynı sonuçların tekrar üretilebilmesi sağlanır. Eğer random_state=None verilirse, her çalıştırmada farklı rastgele sayılar üretilir.\n",
    "    Örnek:\n",
    "        random_state=42 verilirse, aynı koşullar altında aynı rastgele sayılar üretilir.\n",
    "        Eğer bu parametreye herhangi bir değer verilmezse, sonuçlar her çalıştırmada farklı olur."
   ]
  },
  {
   "cell_type": "code",
   "execution_count": 1,
   "id": "aa787fa3-3210-4331-ad15-224304618774",
   "metadata": {},
   "outputs": [
    {
     "data": {
      "text/plain": [
       "array([1])"
      ]
     },
     "execution_count": 1,
     "metadata": {},
     "output_type": "execute_result"
    }
   ],
   "source": [
    "from scipy.stats import binom\n",
    "\n",
    "binom.rvs(1, 0.5, size=1)"
   ]
  },
  {
   "cell_type": "code",
   "execution_count": 12,
   "id": "2af5c687-f671-459b-ac3f-e138157847a3",
   "metadata": {},
   "outputs": [
    {
     "data": {
      "text/plain": [
       "array([0, 0, 0, 1, 1, 0, 0, 0])"
      ]
     },
     "execution_count": 12,
     "metadata": {},
     "output_type": "execute_result"
    }
   ],
   "source": [
    "binom.rvs(1, 0.5, size=8)"
   ]
  },
  {
   "cell_type": "code",
   "execution_count": 13,
   "id": "a228297a-51bb-4deb-bab4-934e23168ebd",
   "metadata": {},
   "outputs": [
    {
     "data": {
      "text/plain": [
       "array([3])"
      ]
     },
     "execution_count": 13,
     "metadata": {},
     "output_type": "execute_result"
    }
   ],
   "source": [
    "# 8 para aynı anda havaya atılıyor\n",
    "binom.rvs(8, 0.5, size=1)"
   ]
  },
  {
   "cell_type": "code",
   "execution_count": 14,
   "id": "2769da9e-d93f-4a85-b353-69feca58cd97",
   "metadata": {},
   "outputs": [
    {
     "data": {
      "text/plain": [
       "array([2, 2, 3, 1, 0, 2, 2, 2, 2, 1])"
      ]
     },
     "execution_count": 14,
     "metadata": {},
     "output_type": "execute_result"
    }
   ],
   "source": [
    "binom.rvs(3, 0.5, size=10)"
   ]
  },
  {
   "cell_type": "code",
   "execution_count": 15,
   "id": "e8a135b4-3d97-40c8-b611-20d5d5ff3783",
   "metadata": {},
   "outputs": [
    {
     "data": {
      "text/plain": [
       "array([1, 1, 0, 0, 0, 1, 0, 1, 2, 0])"
      ]
     },
     "execution_count": 15,
     "metadata": {},
     "output_type": "execute_result"
    }
   ],
   "source": [
    "# örneğin elimizde bir tarafı ağır bir para olsun. \n",
    "# Bu parada %25 yazı %75 tura gelme olasılığı olsun.\n",
    "binom.rvs(3, 0.25, size=10)"
   ]
  },
  {
   "cell_type": "markdown",
   "id": "420c3b7d-99fb-40d8-91d3-38024e654ce7",
   "metadata": {},
   "source": [
    "scipy.stats.pmf(k, n, p, loc=0) </br>\n",
    "\n",
    "olasılık kütle fonksiyonu (PMF) hesaplamak için kullanılır. PMF, bir dağılımın belirli bir olasılıkta kesikli bir değer alma ihtimalini hesaplar.</br>\n",
    "\n",
    "    k:\n",
    "        Açıklama: Başarı sayısını temsil eder. Yani, bu parametre, yapılan denemelerde kaç kez başarı elde etmeyi beklediğinizi gösterir.\n",
    "        Örnek: Eğer 3 deneme yapıyorsanız (n=3) ve bu denemelerde 2 başarı elde etmenin olasılığını hesaplamak istiyorsanız, k = 2 olur.\n",
    "\n",
    "    n:\n",
    "        Açıklama: Deneme sayısını ifade eder. Bu parametre, toplam kaç bağımsız deneme yapılacağını belirtir. Binom dağılımında her bir deneme başarı ya da başarısızlıkla sonuçlanır.\n",
    "        Örnek: Eğer bir madeni para 5 kez atılıyorsa, her bir atış bağımsız bir deneme sayılır. Bu durumda n = 5 olur.\n",
    "\n",
    "    p:\n",
    "        Açıklama: Başarı olasılığıdır. Her bir denemenin başarıyla sonuçlanma olasılığını gösterir. Bu, 0 ile 1 arasında bir değer olmalıdır.\n",
    "        Örnek: Eğer bir madeni paranın yazı gelme olasılığı %50 ise, p = 0.5 olur.\n",
    "\n",
    "    loc (default = 0):\n",
    "        Açıklama: Kayma (lokasyon) parametresidir. Binom dağılımı genellikle 0'dan başlar, ancak bu parametreyi kullanarak dağılımın başlangıç noktasını değiştirebilirsiniz.\n",
    "        Örnek: Varsayılan olarak loc = 0 dır, yani başarı sayısı 0'dan başlayarak hesaplanır. Eğer loc = 1 ise, başarı sayıları 1'den itibaren sayılmaya başlanır.\n",
    "\n",
    "**Olasılık Kütle Fonksiyonu (PMF) Nedir?**</br>\n",
    "\n",
    "Olasılık kütle fonksiyonu (PMF), kesikli bir rastgele değişkenin belirli bir değeri alma olasılığını hesaplar. Binom dağılımı gibi kesikli dağılımlarda, belirli bir başarı sayısının olasılığını verir. Örneğin, 10 madeni para atışında tam 5 kez yazı gelme olasılığını hesaplamak için kullanılır.\n",
    "\n"
   ]
  },
  {
   "cell_type": "code",
   "execution_count": 2,
   "id": "bee1db15-c489-43b7-ab4f-38928d2fc42d",
   "metadata": {},
   "outputs": [
    {
     "data": {
      "text/plain": [
       "0.11718749999999999"
      ]
     },
     "execution_count": 2,
     "metadata": {},
     "output_type": "execute_result"
    }
   ],
   "source": [
    "from scipy.stats import binom\n",
    "# 10 jetondan 7 sinin yazı gelme olasılığı\n",
    "binom.pmf(7, 10, 0.5)"
   ]
  },
  {
   "cell_type": "code",
   "execution_count": null,
   "id": "70547e31-824c-4b92-b2a4-a7a615efb47e",
   "metadata": {},
   "outputs": [],
   "source": [
    "# 7 ve daha az yazı gelme olasılığı\n",
    "\n",
    "binom.cdf(7, 10, 0.5)"
   ]
  },
  {
   "cell_type": "code",
   "execution_count": null,
   "id": "355d7a36-9835-4cec-aabb-338b8523b2b9",
   "metadata": {},
   "outputs": [],
   "source": [
    "# 7'den fazla yazı gelme olasılığı\n",
    "\n",
    "1 - binom.cdf(7, 10, 0.5)"
   ]
  },
  {
   "cell_type": "markdown",
   "id": "946d0a18-a6b3-47c2-91fe-4629bffb50e2",
   "metadata": {},
   "source": [
    "## Normal Distribution"
   ]
  },
  {
   "cell_type": "markdown",
   "id": "5b6b0a85-bca2-4e88-98c4-f57f6616b1e6",
   "metadata": {},
   "source": [
    "Sürekli bir olasılık dağılımıdır. Diğer olasılık dağılımlarından daha fazla gerçek dünya durumu için geçerlidir.</br>\n",
    "\n",
    "   <img src=\"pictures/normal_dist_2.png\" height=500 width=500/> </br>\n",
    "\n",
    "Çan eğrisi şeklindedir. \n",
    "<ul>\n",
    "    <li> Simetriktir. Dolayısıyla sol taraf sağ tarafın ayna görüntüsüdür.</li>\n",
    "    <li>Herhangi bir olasılık dağılımı gibi, eğrinin altındaki alan 1'e eşittir.</li>\n",
    "    <li>Uçların öyle görünse bile olasılık hiçbir zaman sıfıra ulaşmaz.</li>\n",
    "</ul>\n",
    "\n",
    "   <img src=\"pictures/normal_dist_3.png\" height=500 width=500/> </br>\n",
    "   <img src=\"pictures/normal_dist_4.png\" height=500 width=500/> </br>\n",
    "\n",
    "Örneğin bu dağılımda, 10'un üzerinde değer alma şansı 0.5'den az ama mümkündür. </br>\n",
    "\n",
    "Normal Dağılım, ortalaması ve standart sapması ile tamamlanır.</br>\n",
    "\n",
    "   <img src=\"pictures/normal_dist_5.png\" height=500 width=500/> </br>\n",
    "\n",
    "   <img src=\"pictures/normal_dist_6.png\" height=500 width=500/> </br>\n",
    "\n",
    "   <img src=\"pictures/normal_dist_7.png\" height=500 width=500/> </br>\n",
    "\n",
    "   <img src=\"pictures/normal_dist_8.png\" height=500 width=500/> </br>\n",
    "\n",
    "Bu duruma bazen 68-95-99.7 kuralı denmektedir. </br>\n",
    "\n",
    "Ortalaması 0 ve standart sapması 1 olan dağılıma standart normal dağılım denir.</br>\n",
    "\n",
    "**Normal Dağılım Neden Önemlidir**</br>\n",
    "\n",
    "<ul>\n",
    "    <li>Birçok gerçek dünya verisi normal dağılıma çok benzemektedir.</br>\n",
    "        <img src=\"pictures/normal_dist_9.png\" height=600 width=600/> </br>\n",
    "    </li>\n",
    "    <li> Hipotez testinde, bir örneğin ortalamasını temsil ettiği popülasyonla karşılaştırmak gibi birçok istatistiksel testi gerçekleştirmek için verilerin normal bir dağılıma uyması gerekir. </li>\n",
    "    <li>Uçların öyle görünse bile olasılık hiçbir zaman sıfıra ulaşmaz.</li>\n",
    "</ul>"
   ]
  },
  {
   "cell_type": "markdown",
   "id": "d5d25832-2d8a-4ef8-b62c-c9a619a7b3b6",
   "metadata": {},
   "source": [
    "scipy.stats.norm.cdf(x, loc=0, scale=1) fonksiyonu, normal dağılımın kümülatif dağılım fonksiyonunu (CDF) hesaplamak için kullanılır. Şimdi bu fonksiyonun parametrelerini detaylıca inceleyelim:\n",
    "Parametreler:\n",
    "\n",
    "    x:\n",
    "        Açıklama: Bu, CDF'nin hesaplandığı noktadır. Yani, belirli bir xx değerine kadar olan olasılığı bulmak için kullanılır.\n",
    "        Fonksiyonun Anlamı: P(X≤x)P(X≤x), yani rastgele değişkenin xx'e kadar olan kısmındaki kümülatif olasılığı hesaplar.\n",
    "        Örnek: Eğer x=1.5x=1.5 ise, P(X≤1.5)P(X≤1.5) hesaplanır, yani normal dağılımın 1.5'e kadar olan kısmındaki olasılık bulunur.\n",
    "\n",
    "    loc (default = 0):\n",
    "        Açıklama: Lokasyon parametresidir ve normal dağılımın ortalamasını temsil eder. Varsayılan değeri 0'dır.\n",
    "        Fonksiyonun Anlamı: Bu parametre, dağılımın merkezini kaydırır. Normal dağılımın ortalaması, verilen locloc değeriyle belirlenir.\n",
    "        Örnek: Eğer loc = 2 ise, dağılımın ortalaması 2 olur. Bu durumda, xx değerinin 2'den küçük veya eşit olma olasılığı hesaplanır.\n",
    "\n",
    "    scale (default = 1):\n",
    "        Açıklama: Scale parametresi, normal dağılımın standart sapmasını temsil eder. Varsayılan olarak 1'dir.\n",
    "        Fonksiyonun Anlamı: Standart sapma, dağılımın genişliğini belirler. Daha büyük scale değerleri dağılımı yayarken, daha küçük scale değerleri dağılımı daraltır.\n",
    "        Örnek: Eğer scale = 3 ise, normal dağılımın standart sapması 3 olur. Bu, dağılımın yayılma genişliğini belirler.\n",
    "\n",
    "Normal Dağılım ve CDF Nedir?\n",
    "\n",
    "    Normal dağılım (ya da Gauss dağılımı), birçok doğal olayın dağılımını modellemek için kullanılan bir olasılık dağılımıdır. Ortalama değerin etrafında simetriktir ve bir çan eğrisi şeklindedir.\n",
    "    CDF (Cumulative Distribution Function), bir rastgele değişkenin belirli bir değerin altında kalma olasılığını toplar. Normal dağılımda, bu xx değerine kadar olan toplam olasılığı verir."
   ]
  },
  {
   "cell_type": "code",
   "execution_count": 3,
   "id": "1110f9ae-280a-427d-a973-3c7b765c6630",
   "metadata": {},
   "outputs": [
    {
     "data": {
      "text/plain": [
       "0.15865525393145707"
      ]
     },
     "execution_count": 3,
     "metadata": {},
     "output_type": "execute_result"
    }
   ],
   "source": [
    "# örneğin ortalaması 161cm ve standart sapması 7 olan bir normal dağılım \n",
    "# düşünelim. Bu kadınların boylarına ait dağılım olsun.\n",
    "# kadınların % kaçının 154 cm'den kısa olduğunu bulmak isteyelim.\n",
    "\n",
    "from scipy.stats import norm\n",
    "norm.cdf(154, 161, 7)"
   ]
  },
  {
   "cell_type": "code",
   "execution_count": 4,
   "id": "4c00d675-14cf-4b7a-9825-9a301ebcc4f1",
   "metadata": {},
   "outputs": [
    {
     "data": {
      "text/plain": [
       "0.8413447460685429"
      ]
     },
     "execution_count": 4,
     "metadata": {},
     "output_type": "execute_result"
    }
   ],
   "source": [
    "# 154 cm'den uzun olanların yüzdesi\n",
    "\n",
    "1 - norm.cdf(154, 161, 7)"
   ]
  },
  {
   "cell_type": "code",
   "execution_count": 5,
   "id": "e37c3002-27df-4647-ba85-f24ee7667615",
   "metadata": {},
   "outputs": [
    {
     "data": {
      "text/plain": [
       "0.1251993291672192"
      ]
     },
     "execution_count": 5,
     "metadata": {},
     "output_type": "execute_result"
    }
   ],
   "source": [
    "# 154 ile 157 cm arasındaki kadınların yüzdesi\n",
    "\n",
    "norm.cdf(157, 161, 7) - norm.cdf(154, 161, 7)"
   ]
  },
  {
   "cell_type": "markdown",
   "id": "6343b9b0-747b-4501-b37c-c5148842b04a",
   "metadata": {},
   "source": [
    "norm.ppf kullanılarak da yüzde hesaplanabilir </br>\n",
    "\n",
    "scipy.stats.norm.ppf(q, loc=0, scale=1) fonksiyonu, normal dağılımın ters kümülatif dağılım fonksiyonunu (percent-point function, PPF) hesaplar. PPF, kümülatif dağılım fonksiyonunun (CDF) tersidir. Yani, verilen bir olasılığa (q) karşılık gelen kritik değeri (x) hesaplar. Başka bir deyişle, belirli bir olasılığa karşılık gelen kesim noktasını verir.\n",
    "\n",
    "Şimdi bu fonksiyonun parametrelerini açıklayalım:\n",
    "Parametreler:\n",
    "\n",
    "    q:\n",
    "        Açıklama: Bu, kümülatif olasılığı (CDF'deki olasılık) temsil eder. PPF fonksiyonu, bu olasılığa karşılık gelen kritik değeri bulur. qq, 0 ile 1 arasında bir değer alır, çünkü kümülatif olasılık 0 ile 1 arasında olur.\n",
    "        Fonksiyonun Anlamı: qq, normal dağılımda bu kadar olasılığı kapsayan değeri bulmanızı sağlar. Örneğin, q=0.95q=0.95 ise, PPF, normal dağılımda %95'lik kısmın altında kalan değeri verir.\n",
    "        Örnek: Eğer q=0.95q=0.95 ise, dağılımın altında kalan %95’lik kısmı kapsayan xx değerini verir.\n",
    "\n",
    "    loc (default = 0):\n",
    "        Açıklama: Lokasyon parametresi, normal dağılımın ortalamasını belirler. Varsayılan olarak 0'dır.\n",
    "        Fonksiyonun Anlamı: Bu parametre dağılımın merkezini belirler. Yani, PPF fonksiyonu tarafından döndürülen kritik değer, bu ortalama etrafında kaydırılır.\n",
    "        Örnek: Eğer loc = 2 verilirse, dağılımın ortalaması 2 olarak kabul edilir ve sonuç buna göre kaydırılır.\n",
    "\n",
    "    scale (default = 1):\n",
    "        Açıklama: Scale parametresi, normal dağılımın standart sapmasını belirler. Varsayılan olarak 1'dir.\n",
    "        Fonksiyonun Anlamı: Standart sapma, dağılımın yayılımını belirler. Daha büyük scale değerleri, dağılımı yayarken, daha küçük scale değerleri dağılımı daraltır. Bulunan kritik değer, bu yayılma ile ölçeklendirilir.\n",
    "        Örnek: Eğer scale = 3 verilirse, standart sapma 3 olarak kabul edilir ve bu, PPF fonksiyonu tarafından döndürülen kritik değeri etkiler.\n",
    "\n",
    "PPF'nin Anlamı:\n",
    "\n",
    "PPF (percent-point function), belirli bir olasılığa karşılık gelen değeri hesaplar. PPF, CDF'nin tersidir:\n",
    "\n",
    "    CDF: Belirli bir değerin altında kalma olasılığını bulur.\n",
    "    PPF: Verilen bir olasılığa karşılık gelen değeri bulur.\n"
   ]
  },
  {
   "cell_type": "code",
   "execution_count": 3,
   "id": "d58ec80f-96a9-4ca8-beca-4627c6098965",
   "metadata": {},
   "outputs": [
    {
     "data": {
      "text/plain": [
       "169.9708609588122"
      ]
     },
     "execution_count": 3,
     "metadata": {},
     "output_type": "execute_result"
    }
   ],
   "source": [
    "from scipy.stats import norm\n",
    "norm.ppf(0.9, 161, 7)\n",
    "# kadınların %90'ı 169.97 cm'den kısadır"
   ]
  },
  {
   "cell_type": "code",
   "execution_count": 4,
   "id": "768be9f3-d701-4e57-bb29-8f32b4a5417b",
   "metadata": {},
   "outputs": [
    {
     "data": {
      "text/plain": [
       "152.0291390411878"
      ]
     },
     "execution_count": 4,
     "metadata": {},
     "output_type": "execute_result"
    }
   ],
   "source": [
    "# kadınların %90'ı şu boydan uzundur\n",
    "norm.ppf((1 - 0.9), 161, 7)"
   ]
  },
  {
   "cell_type": "markdown",
   "id": "7a8e407e-52a3-4f30-b296-d6b943ab48db",
   "metadata": {},
   "source": [
    "scipy.stats.norm.rvs(loc=0, scale=1, size=1, random_state=None) fonksiyonu, normal dağılımdan rastgele örnekler (random variates) üretmek için kullanılır. Normal dağılım, ortalaması loc ve standart sapması scale olan bir dağılımdır. Bu fonksiyon, belirtilen normal dağılımdan rastgele değerler üretir. Şimdi parametreleri detaylı olarak inceleyelim:\n",
    "Parametreler:\n",
    "\n",
    "    loc (default = 0):\n",
    "        Açıklama: Bu parametre, dağılımın ortalamasını belirtir. Varsayılan olarak 0'dır. Bu, normal dağılımın merkez noktasıdır.\n",
    "        Örnek: Eğer loc = 5 ise, üretilen değerler, ortalaması 5 olan bir normal dağılımdan gelir. Yani, dağılım 5 etrafında merkezlenir.\n",
    "\n",
    "    scale (default = 1):\n",
    "        Açıklama: Bu parametre, dağılımın standart sapmasını belirtir. Varsayılan olarak 1'dir. Standart sapma, dağılımın yayılımını gösterir.\n",
    "        Örnek: Eğer scale = 2 ise, dağılımın standart sapması 2 olur, yani dağılım 2 birim genişler. Standart sapma büyüdükçe, üretilen değerler dağılımın ortalama etrafında daha geniş bir aralığa dağılır.\n",
    "\n",
    "    size (default = 1):\n",
    "        Açıklama: Üretilmesini istediğiniz rastgele sayıların sayısını belirtir. Eğer bir sayı verirseniz, o kadar rastgele sayı üretilir. Bu parametre bir tamsayı ya da bir tuple olabilir.\n",
    "        Örnek:\n",
    "            size=1: Tek bir rastgele sayı üretir.\n",
    "            size=5: Beş tane rastgele sayı üretir.\n",
    "            size=(2, 3): 2x3 boyutunda bir matris şeklinde rastgele sayılar üretir.\n",
    "\n",
    "    random_state (default = None):\n",
    "        Açıklama: Rastgele sayı üretiminde kullanılan seed (tohum) değerini belirler. Eğer belirli bir seed verilirse, aynı koşullar altında tekrar çalıştırıldığında aynı sonuçlar üretilir. Bu, yeniden üretilebilir sonuçlar elde etmek için kullanılır.\n",
    "        Örnek:\n",
    "            random_state=42: Aynı koşullar altında aynı rastgele sayıları üretir.\n",
    "            Eğer random_state=None ise, her çalıştırmada farklı rastgele sayılar üretilir."
   ]
  },
  {
   "cell_type": "code",
   "execution_count": 5,
   "id": "b18d1488-4760-4210-9cc6-be976dacbb91",
   "metadata": {},
   "outputs": [
    {
     "data": {
      "text/plain": [
       "array([160.38269823, 153.38682633, 159.06325788, 150.50315155,\n",
       "       159.20234513, 161.83368275, 153.080613  , 176.74723586,\n",
       "       169.06802644, 152.73262967])"
      ]
     },
     "execution_count": 5,
     "metadata": {},
     "output_type": "execute_result"
    }
   ],
   "source": [
    "norm.rvs(161, 7, size=10)"
   ]
  },
  {
   "cell_type": "markdown",
   "id": "ecf3af4a-98fe-4020-a3ab-4689c9a905f9",
   "metadata": {},
   "source": [
    "**Skewness (Çarpıklık)**</br>\n",
    "\n",
    "Veri dağılımını yorumlarken verilerin sona erdiği yönü tanımlayan çarpıklık terimi kullanılır. </br>\n",
    "\n",
    "   <img src=\"pictures/skewness_1.png\" height=500 width=500/> </br>\n",
    "\n",
    "Yukarıdaki çizim solda zirve yapar ve sağa doğru biter; dolayısıyla kuyruk daha büyük pozitif değerlerin olduğu yerde sağda olduğundan dağılım pozitif çarpık veya sağa çarpıktır.</br>\n",
    "\n",
    "Tersine negatif çarpık veya sola çarpık dağılım sağda zirve yapar ve sola doğru sona erer.</br>\n",
    "\n",
    "   <img src=\"pictures/skewness_2.png\" height=500 width=500/> </br>\n",
    "\n",
    "Hane halkı geliri gibi gerçek dünya verilerinde çarpıklık gözlenmesi çok yaygın bir durumdur. Bazı hanelerin normal gelirden çok fazla kazanması nedeniyle genellikle pozitif çarpıktır.</br>"
   ]
  },
  {
   "cell_type": "markdown",
   "id": "a2741184-47be-4e70-bcc3-f616f96994dc",
   "metadata": {},
   "source": [
    "**Kurtosis (Basıklık)**</br>\n",
    "\n",
    "Bir dağılım basıklığıyla da yorumlanabilir. Kurtosis, dağılımdaki aşırı değerlerin oluşumunu açıklamanın bir yoludur. </br>\n",
    "Üç tür basıklık vardır.</br>\n",
    "\n",
    "   <img src=\"pictures/kurtosis.png\" height=500 width=500/> </br>\n",
    "\n",
    "<ul>\n",
    "    <li>Pozitif Basıklık (Leptokurtic) : Grafikte kırmızıyla gösterilmiştir. Ortalama etrafında, büyük bir tepe noktası ve daha küçük standart sapma ile karakterize edilir.</li>\n",
    "    <li>Mesokurtic Basıklık, çizimde mavi olarak gösterilen normal dağılımdır.</li>\n",
    "    <li>Negatif Basıklık (Platykurtic) : Çizimde yeşil renkle gösterilmiştir. Daha düşük zirveye ve daha büyük standart sapmaya sahip bir dağılımdır. </li>\n",
    "</ul>"
   ]
  },
  {
   "cell_type": "markdown",
   "id": "5a26f856-fd40-4395-8235-17c787ebc1a5",
   "metadata": {},
   "source": [
    "## The Central Limit Theorem"
   ]
  },
  {
   "cell_type": "markdown",
   "id": "29cc5c10-59e2-4249-8eae-34e5ae62ba74",
   "metadata": {},
   "source": [
    "Normal dağılım hakkında bilgi edindik. Şimdi bunu bu kadar önemli kılan teorem hakkında bilgi verelim.</br>\n",
    "\n",
    "Adil bir zar beş defa atılsın ve elde edilen sonuçlar kaydedilsin.</br>\n",
    "\n",
    "   <img src=\"pictures/clt.png\" height=500 width=500/> </br>\n",
    "\n",
    "Aynı işlem farklı zamanlarda tekrar edilirse farklı ortalamalar elde edilir.</br>\n",
    "\n",
    "   <img src=\"pictures/clt_2.png\" height=500 width=500/> </br>\n",
    "\n",
    "Bu 10 kez tekrar edilsin. Yani zar 5 kez atılsın, bu 5 atışın ortalaması alınsın ve bu işlem 10 kez tekrar edilsin.</br>\n",
    "\n",
    "   <img src=\"pictures/clt_3.png\" height=100 width=100/> </br>\n",
    "\n",
    "   <img src=\"pictures/clt_4.png\" height=500 width=500/> </br>\n",
    "\n",
    "Ortalama gibi bir özet istatistiğinin dağılımına örneklem dağılımı denir.</br>\n",
    "\n",
    "Bu dağılım, özellikle, örnek ortalamasının bir örnekleme dağılımıdır.</br>\n",
    "\n",
    "100 örnek ortalama almak için bu işlem 100 defa tekrarlanabilir.</br>\n",
    "\n",
    "   <img src=\"pictures/clt_5.png\" height=500 width=500/> </br>\n",
    "\n",
    "Yeni örneklem dağılımına baklırısa, her bir zar atımı için sonuçların dağılımı uniform olsa bile, şeklinin biraz normal dağılıma benzediği görülür.</br>\n",
    "\n",
    "   <img src=\"pictures/clt_6.png\" height=500 width=500/> </br>\n",
    "\n",
    "Bu örneklem dağılımı normal dağılıma daha çok benzemektedir.</br>\n",
    "\n",
    "   <img src=\"pictures/clt_7.png\" height=500 width=500/> </br>\n",
    "\n",
    "Şekil on bin örnekte tutarlı kalır.\n",
    "\n",
    "   <img src=\"pictures/clt_8.png\" height=500 width=500/> </br>\n",
    "\n",
    "   <img src=\"pictures/clt_9.png\" height=500 width=500/> </br>\n",
    "\n",
    "Bu olay merkezi limit teoremi olarak bilinir ve örneklemin şu şekilde olduğunu belirtir. </br>\n",
    "\n",
    "Bir istatistiğin örnekleme dağılım, örneklem büyüklüğü arttıkça normal dağılıma yaklaşır.</br>\n",
    "\n",
    "   <img src=\"pictures/clt_10.png\" height=500 width=500/> </br>\n",
    "   \n",
    "Merkezi limit teoreminin yalnızca örnekler rastgele alındığında ve bağımsız olduğunda geçerli olduğunu belirtmek önemlidir. </br>\n",
    "\n",
    "Genel olarak merkezi limit teoreminin uygulanabilmesi için örneklem büyüklüğünün en az 30 olması önemlidir. </br>\n",
    "\n",
    "MLT diğer özet istatistikler için de geçerlidir. </br>\n",
    "\n",
    "   <img src=\"pictures/clt_11.png\" height=500 width=500/> </br>\n",
    "\n",
    "MLT'nin geçerli olduğu bir diğer özet istatistik proportion'dır (orantı). </br>\n",
    "\n",
    "   <img src=\"pictures/clt_12.png\" height=500 width=500/> </br>\n",
    "\n",
    "Örneğin bir zar 5 defa atılsın ve kaç kez 4 atıldığına bakılsın. Bu 1000 kez tekrarlanıp dağılıma baklırsa:</br>\n",
    "\n",
    "   <img src=\"pictures/clt_13.png\" height=500 width=500/> </br>\n",
    "\n",
    "Bu örnekleme dağılımları normal olduğundan, bir dağılımın ortalaması, standart sapması veya oranı hakkında bir tahmin elde edilebilir.</br>\n",
    "\n",
    "   <img src=\"pictures/clt_14.png\" height=500 width=500/> </br>\n",
    "\n",
    "Bu büyük sayılar yasasının uygulamasına bir örnektir. </br>\n",
    "\n",
    "   <img src=\"pictures/clt_15.png\" height=500 width=500/> </br>\n"
   ]
  },
  {
   "cell_type": "code",
   "execution_count": 7,
   "id": "80beb598-0774-40bc-9e77-a650f2843f3e",
   "metadata": {},
   "outputs": [
    {
     "data": {
      "text/plain": [
       "2    3\n",
       "0    1\n",
       "0    1\n",
       "0    1\n",
       "3    4\n",
       "dtype: int64"
      ]
     },
     "execution_count": 7,
     "metadata": {},
     "output_type": "execute_result"
    }
   ],
   "source": [
    "import pandas as pd\n",
    "import numpy as np\n",
    "\n",
    "die = pd.Series([1, 2, 3, 4, 5, 6])\n",
    "samp_5 = die.sample(5, replace=True)\n",
    "samp_5"
   ]
  },
  {
   "cell_type": "code",
   "execution_count": 8,
   "id": "fa1db96f-0e39-42ec-bd0b-3c961e604ede",
   "metadata": {},
   "outputs": [
    {
     "data": {
      "text/plain": [
       "4.0"
      ]
     },
     "execution_count": 8,
     "metadata": {},
     "output_type": "execute_result"
    }
   ],
   "source": [
    "samp_5.mean()"
   ]
  },
  {
   "cell_type": "code",
   "execution_count": 9,
   "id": "bd52fa03-4b15-423c-8d20-9295107dabe5",
   "metadata": {},
   "outputs": [
    {
     "data": {
      "text/plain": [
       "2    3\n",
       "0    1\n",
       "3    4\n",
       "3    4\n",
       "0    1\n",
       "dtype: int64"
      ]
     },
     "execution_count": 9,
     "metadata": {},
     "output_type": "execute_result"
    }
   ],
   "source": [
    "samp_5_2 = die.sample(5, replace=True)\n",
    "samp_5_2"
   ]
  },
  {
   "cell_type": "code",
   "execution_count": 10,
   "id": "c765f423-827c-4e8c-b05a-e083c878fe29",
   "metadata": {},
   "outputs": [
    {
     "data": {
      "text/plain": [
       "2.6"
      ]
     },
     "execution_count": 10,
     "metadata": {},
     "output_type": "execute_result"
    }
   ],
   "source": [
    "samp_5_2.mean()"
   ]
  },
  {
   "cell_type": "code",
   "execution_count": 11,
   "id": "d62a594c-0618-4f64-9eec-9735ca2677c0",
   "metadata": {},
   "outputs": [
    {
     "data": {
      "text/plain": [
       "3.8"
      ]
     },
     "execution_count": 11,
     "metadata": {},
     "output_type": "execute_result"
    }
   ],
   "source": [
    "samp_5_3 = die.sample(5, replace=True)\n",
    "samp_5_3.mean()"
   ]
  },
  {
   "cell_type": "code",
   "execution_count": 9,
   "id": "44ceb9ac-870a-4490-bb6c-ca2684620b53",
   "metadata": {},
   "outputs": [
    {
     "data": {
      "text/plain": [
       "(array([1., 1., 0., 0., 1., 0., 4., 1., 0., 2.]),\n",
       " array([2.  , 2.26, 2.52, 2.78, 3.04, 3.3 , 3.56, 3.82, 4.08, 4.34, 4.6 ]),\n",
       " <BarContainer object of 10 artists>)"
      ]
     },
     "execution_count": 9,
     "metadata": {},
     "output_type": "execute_result"
    },
    {
     "data": {
      "image/png": "[encoded data removed]",
      "text/plain": [
       "<Figure size 640x480 with 1 Axes>"
      ]
     },
     "metadata": {},
     "output_type": "display_data"
    }
   ],
   "source": [
    "# Yukarıdaki işlem 10 defa yapılıp ortalama alınırsa\n",
    "import matplotlib.pyplot as plt\n",
    "\n",
    "sample_means = []\n",
    "for i in range(10):\n",
    "    samp_5 = die.sample(5, replace=True)\n",
    "    sample_means.append(samp_5.mean())\n",
    "plt.title(\"Örneklem Ortalamasının Örneklem Dağılımı\")\n",
    "plt.hist(sample_means)\n",
    "# Böyle bir özet istatistiğinin dağılımına örneklem dağılımı denir"
   ]
  },
  {
   "cell_type": "code",
   "execution_count": 13,
   "id": "6452bda2-190b-403f-a26e-316e5703b926",
   "metadata": {},
   "outputs": [
    {
     "data": {
      "text/plain": [
       "(array([ 1.,  2.,  9., 17., 13., 17., 23., 12.,  5.,  1.]),\n",
       " array([1.6 , 1.96, 2.32, 2.68, 3.04, 3.4 , 3.76, 4.12, 4.48, 4.84, 5.2 ]),\n",
       " <BarContainer object of 10 artists>)"
      ]
     },
     "execution_count": 13,
     "metadata": {},
     "output_type": "execute_result"
    },
    {
     "data": {
      "image/png": "[encoded data removed]",
      "text/plain": [
       "<Figure size 640x480 with 1 Axes>"
      ]
     },
     "metadata": {},
     "output_type": "display_data"
    }
   ],
   "source": [
    "\n",
    "sample_means = []\n",
    "for i in range(100):\n",
    "    samp_5 = die.sample(5, replace=True)\n",
    "    sample_means.append(samp_5.mean())\n",
    "plt.title(\"Örneklem Ortalamasının Örneklem Dağılımı\")\n",
    "plt.hist(sample_means)"
   ]
  },
  {
   "cell_type": "code",
   "execution_count": 14,
   "id": "ad340d45-a6ff-4dad-bbf0-42f10b9340bd",
   "metadata": {},
   "outputs": [
    {
     "data": {
      "text/plain": [
       "(array([  9.,  30.,  68., 200., 184., 175., 226.,  70.,  28.,  10.]),\n",
       " array([1.2 , 1.66, 2.12, 2.58, 3.04, 3.5 , 3.96, 4.42, 4.88, 5.34, 5.8 ]),\n",
       " <BarContainer object of 10 artists>)"
      ]
     },
     "execution_count": 14,
     "metadata": {},
     "output_type": "execute_result"
    },
    {
     "data": {
      "image/png": "[encoded data removed]",
      "text/plain": [
       "<Figure size 640x480 with 1 Axes>"
      ]
     },
     "metadata": {},
     "output_type": "display_data"
    }
   ],
   "source": [
    "\n",
    "sample_means = []\n",
    "for i in range(1000):\n",
    "    samp_5 = die.sample(5, replace=True)\n",
    "    sample_means.append(samp_5.mean())\n",
    "plt.title(\"Örneklem Ortalamasının Örneklem Dağılımı\")\n",
    "plt.hist(sample_means)"
   ]
  },
  {
   "cell_type": "code",
   "execution_count": 10,
   "id": "84923e61-3a8e-435f-b068-8c8edf14d928",
   "metadata": {},
   "outputs": [
    {
     "data": {
      "text/plain": [
       "(array([  1.,   8.,  24.,  73., 175., 158., 238., 226.,  71.,  26.]),\n",
       " array([0.        , 0.24494897, 0.48989795, 0.73484692, 0.9797959 ,\n",
       "        1.22474487, 1.46969385, 1.71464282, 1.95959179, 2.20454077,\n",
       "        2.44948974]),\n",
       " <BarContainer object of 10 artists>)"
      ]
     },
     "execution_count": 10,
     "metadata": {},
     "output_type": "execute_result"
    },
    {
     "data": {
      "image/png": "[encoded data removed]",
      "text/plain": [
       "<Figure size 640x480 with 1 Axes>"
      ]
     },
     "metadata": {},
     "output_type": "display_data"
    }
   ],
   "source": [
    "sample_sts = []\n",
    "for i in range(1000):\n",
    "    samp_5 = die.sample(5, replace=True)\n",
    "    sample_sts.append(np.std(samp_5))\n",
    "plt.title(\"Örneklem Standart Sapmasının Örneklem Dağılımı\")\n",
    "plt.hist(sample_sts)"
   ]
  },
  {
   "cell_type": "code",
   "execution_count": 16,
   "id": "1b38b541-d2bb-4ef5-95ef-bf996ff1d1b1",
   "metadata": {},
   "outputs": [
    {
     "data": {
      "text/plain": [
       "3    Damian\n",
       "3    Damian\n",
       "1     Brian\n",
       "0      Amir\n",
       "3    Damian\n",
       "3    Damian\n",
       "3    Damian\n",
       "3    Damian\n",
       "1     Brian\n",
       "0      Amir\n",
       "dtype: object"
      ]
     },
     "execution_count": 16,
     "metadata": {},
     "output_type": "execute_result"
    }
   ],
   "source": [
    "import pandas as pd\n",
    "sales_team = pd.Series(['Amir', 'Brian', 'Claire', 'Damian'])\n",
    "sales_team.sample(10, replace=True)\n",
    "# %20 Cllire"
   ]
  },
  {
   "cell_type": "code",
   "execution_count": 17,
   "id": "41ec583c-62a8-4d38-96c9-026966dc1dcd",
   "metadata": {},
   "outputs": [
    {
     "data": {
      "text/plain": [
       "2    Claire\n",
       "1     Brian\n",
       "0      Amir\n",
       "0      Amir\n",
       "1     Brian\n",
       "2    Claire\n",
       "2    Claire\n",
       "2    Claire\n",
       "2    Claire\n",
       "1     Brian\n",
       "dtype: object"
      ]
     },
     "execution_count": 17,
     "metadata": {},
     "output_type": "execute_result"
    }
   ],
   "source": [
    "sales_team.sample(10, replace=True)\n",
    "# %30 Claire"
   ]
  },
  {
   "cell_type": "code",
   "execution_count": 18,
   "id": "0f1a8d87-59e2-4e60-ac71-05b5a8f5ae0b",
   "metadata": {},
   "outputs": [
    {
     "data": {
      "text/plain": [
       "(array([ 49., 199., 269.,   0., 258., 151.,   0.,  58.,  13.,   3.]),\n",
       " array([0.  , 0.07, 0.14, 0.21, 0.28, 0.35, 0.42, 0.49, 0.56, 0.63, 0.7 ]),\n",
       " <BarContainer object of 10 artists>)"
      ]
     },
     "execution_count": 18,
     "metadata": {},
     "output_type": "execute_result"
    },
    {
     "data": {
      "image/png": "[encoded data removed]",
      "text/plain": [
       "<Figure size 640x480 with 1 Axes>"
      ]
     },
     "metadata": {},
     "output_type": "display_data"
    }
   ],
   "source": [
    "sample_prp = []\n",
    "for i in range(1000):\n",
    "    samp_5 = sales_team.sample(10, replace=True)\n",
    "    try: \n",
    "        sample_prp.append(samp_5.value_counts()['Claire'] / 10)\n",
    "    except:\n",
    "        sample_prp.append(0)\n",
    "plt.title(\"Örneklem Oran Örneklem Dağılımı\")\n",
    "plt.hist(sample_prp)"
   ]
  },
  {
   "cell_type": "markdown",
   "id": "059e77df-8f63-4a68-89ca-bc9607159a29",
   "metadata": {},
   "source": [
    "## Poisson Distribution"
   ]
  },
  {
   "cell_type": "markdown",
   "id": "5e5c2756-c12e-4c56-9957-86b17025774a",
   "metadata": {},
   "source": [
    "**Poisson Süreci**</br>\n",
    "\n",
    "Poisson süreci, belirli bir zaman dilimindeki ortalama olay sayısının bilindiği, ancak olaylar arasındaki zaman veya boşluğun rastgele olduğu bir süreçtir.</br>\n",
    "\n",
    "Poisson süreçleri günlük hayatta çok yaygındır.</br>\n",
    "<ul>\n",
    "    <li>Bir hayvan barınağından her hafta sahiplenilen hayvan sayısı poisson sürecidir.</li>\n",
    "    <li>Saat başına bir restorana gelen kişi sayısı.</li>\n",
    "    <li>Günlük web sitesi ziyaret sayısı.</li>\n",
    "</ul>\n",
    "\n",
    "Poisson dağılımı, belirli bir zaman diliminde bazı olayların meydaha gelme olasılığını açıklar.</br>\n",
    "\n",
    "<ul>\n",
    "    <li>Haftada en az beş hayvanın bir hayvan barınağından sahiplenilme olasılığı.</li>\n",
    "    <li>Bir restorana saatte 12 kişinin gelme olasılığı.</li>\n",
    "    <li>Bir web sitesinin bir günde 200'den az ziyaret edilme olasılığı.</li>\n",
    "</ul>\n",
    "\n",
    "Poisson dağılım Lambda(λ) ile tanımlanır. </br>\n",
    "\n",
    "λ = zaman periyodu başına ortalama olay sayısı </br>\n",
    "\n",
    "<ul>\n",
    "    <li>Restoran örneğinde bu değer, saat başına ortalama müşteri sayısı olan 20'dir.</li>\n",
    "    <li>Bu değer aynı zamanda dağılımın beklenen değeridir.</li>\n",
    "</ul>\n",
    " \n",
    "Örneklem büyüklüğü 200 ve beklenen değeri 20 olan bir poisson dağılımı şuna benzer.</br>\n",
    "\n",
    "   <img src=\"pictures/poisson.png\" height=500 width=500/> </br>\n",
    "\n",
    "Olaylar sayıldığı için kesikli bir dağılımdır ve 20 bir saat içinde ziyaret etmesi en muhtemel müşteri sayısıdır.</br>\n",
    "\n",
    "Lambda dağılımın şeklini değiştirir.</br>\n",
    "\n",
    "Saat başına müşteri örneği kullanılarak bir poisson dağılımı görülebilir.</br>\n",
    "\n",
    "   <img src=\"pictures/poisson_2.png\" height=500 width=500/> </br>\n",
    "\n",
    "Lambda değeri ne olursa olsun dağılımın zirvesi her zaman lambda değerindedir.</br>\n",
    "\n",
    "   <img src=\"pictures/poisson_3.png\" height=500 width=500/> </br>\n",
    "\n",
    "Tıpkı diğer dağılımlarda olduğu gibi, çok sayıda örnek varsa ve her birinin ortalaması hesaplanırsa, Poisson Dağılımı olarak örnek ortalamalarının dağılımı normal dağılıma benzer.</br>\n",
    "\n",
    "Bir restoranı ziyaret eden belirli sayıda müşterinin olasılığı, bu değeri temsil eden çubuğun yüksekliği ölçülerek hesaplanabilir.</br>\n",
    "\n",
    "   <img src=\"pictures/poisson_4.png\" height=500 width=500/> </br>\n",
    "\n",
    "   <img src=\"pictures/poisson_5.png\" height=500 width=500/> </br>\n"
   ]
  },
  {
   "cell_type": "code",
   "execution_count": 20,
   "id": "288eca2b-1c42-4b26-a789-a0b7b326e8cd",
   "metadata": {},
   "outputs": [
    {
     "data": {
      "text/plain": [
       "0.8087639379203747"
      ]
     },
     "execution_count": 20,
     "metadata": {},
     "output_type": "execute_result"
    }
   ],
   "source": [
    "# Haftada ortalama 8 sahiplenmenin gerçekleştiği bir sığınakta \n",
    "# bir haftada 5 sahiplenme gerçekleşme olasılığı nedir?\n",
    "\n",
    "from scipy.stats import poisson\n",
    "\n",
    "poisson.pmf(5, 8)\n",
    "\n",
    "\n",
    "# 5 veya daha az sahiplenme olasılığı\n",
    "\n",
    "poisson.cdf(5, 8)\n",
    "\n",
    "#5'den fazla sahiplenme olasılığı\n",
    "\n",
    "1 - poisson.cdf(5, 8)"
   ]
  },
  {
   "cell_type": "code",
   "execution_count": 21,
   "id": "0681e17b-115b-4db3-baec-e489c92d0150",
   "metadata": {},
   "outputs": [
    {
     "data": {
      "text/plain": [
       "array([ 9,  8,  5,  8,  8,  8, 10, 10,  6,  5])"
      ]
     },
     "execution_count": 21,
     "metadata": {},
     "output_type": "execute_result"
    }
   ],
   "source": [
    "poisson.rvs(8, size=10)"
   ]
  },
  {
   "cell_type": "markdown",
   "id": "f07f5857-d6fe-4603-96f3-aa542f3dbe65",
   "metadata": {},
   "source": [
    "## Diğer Olasılık Dağılımları"
   ]
  },
  {
   "cell_type": "markdown",
   "id": "51431e51-4455-460f-8d39-b6908f170899",
   "metadata": {},
   "source": [
    "**Exponential Distribution (Üstel Dağılım)**</br>\n",
    "Poisson olayları arasında belirli bir zaman geçme olasılığını temsil eden dağılımdır.\n",
    "<ul>\n",
    "    <li>Evlat edinmeler arasında 1 günden fazla zaman geçme olasılığı</li>\n",
    "    <li>Restorana gelişler arasında 10 dakikadan az zaman geçme olasılığı</li>\n",
    "    <li>Depremler arasında 6-8 ay geçme olasılığı</li>\n",
    "</ul>\n",
    "\n",
    "Üstel dağılım, Poisson dağılımında olduğu gibi oranı temsil eden aynı lambda değerini kullanır. Bu bağlamda lambda ve oranın aynı değer anlamına gelir.</br>\n",
    "Ayrıca Poisson dağılımının aksine, zamanı temsil ettiği için süreklidir.</br>\n",
    "\n",
    "**Müşteri hizmetleri talepleri** </br>\n",
    "\n",
    "Örneğin, her 2 dakikada bir müşteri hizmetleri bileti oluşturulsun. Bu bir dakikalık bir zaman aralığı cinsinden yeniden ifade edilebilir, böylece her dakika bir biletin yarısı oluşturulur. Lambda değeri olarak 0.5 kullanılır. Yarım oranlı üstel dağılım şu şekilde görünür.\n",
    "\n",
    "<img src=\"pictures/expon_1.png\"/> </br>\n",
    "\n",
    "Rate(λ), dağılımın şeklini ve ne kadar dik bir şekilde azaldığını etkiler. </br>\n",
    "\n",
    "<img src=\"pictures/expon_2.png\"/> </br>\n",
    "\n",
    "**Üstel Dağılımın Beklenen Değeri**</br>\n",
    "\n",
    "<ul>\n",
    "    <li>Lambda, sıklığı oran veya olay sayısı cinsinden ölçen Poisson dağılımının beklenen değeridir. λ = 0.5 dakika başına istek sayısı</li>\n",
    "    <li>Üstel dağılım, sıklığı olaylar arasındaki süre açısından ölçer. Üstel dağılımın beklenen değeri, 1 / λ ile hesaplanabilir. 1 / λ = 1 / 0.5 = 2 Her iki dakikada bir istek</li>\n",
    "</ul>"
   ]
  },
  {
   "cell_type": "code",
   "execution_count": 11,
   "id": "904f862a-0a15-4645-bc24-2fa6f89de797",
   "metadata": {},
   "outputs": [
    {
     "data": {
      "image/png": "[encoded data removed]",
      "text/plain": [
       "<Figure size 800x500 with 1 Axes>"
      ]
     },
     "metadata": {},
     "output_type": "display_data"
    }
   ],
   "source": [
    "from scipy.stats import expon\n",
    "import matplotlib.pyplot as plt\n",
    "import numpy as np\n",
    "\n",
    "ortalama = 2\n",
    "lmb = 1 / 2\n",
    "\n",
    "x = np.linspace(0, 12, 400)\n",
    "\n",
    "orneklem = expon.rvs(scale=ortalama, size=10000, random_state=42)\n",
    "\n",
    "pdf = expon.pdf(x, scale=ortalama)\n",
    "cdf = expon.cdf(x, scale=ortalama)\n",
    "\n",
    "plt.figure(figsize=(8, 5))\n",
    "plt.hist(orneklem, bins=40, range=(0, 12), density=True, alpha=0.6, label=\"Simülasyon (histogram)\")\n",
    "plt.plot(x, pdf, 'r-', lw=2, label=f\"Teorik PDF (λ={lmb:.2f} / dk)\")\n",
    "\n",
    "plt.title(\"Üssel Dağılım\")\n",
    "plt.xlabel(\"Bekleme Süresi t (dakika)\")\n",
    "plt.ylabel(\"Yoğunluk\")\n",
    "plt.legend()\n",
    "plt.grid(True, linestyle=\"--\", alpha=0.5)\n",
    "\n"
   ]
  },
  {
   "cell_type": "code",
   "execution_count": null,
   "id": "97ba342c-0317-48cd-9518-5d17b2a17a3b",
   "metadata": {},
   "outputs": [],
   "source": [
    "# Yeni bir talep oluşturulana kadar ne kadar süre geçecek?\n",
    "from scipy.stats import expon\n",
    "\n",
    "# yeni bir istek için 1 dakikadan az bekleme olasılığı\n",
    "\n",
    "expon.cdf(1, scale=2)\n",
    "\n",
    "# 4 dakikadan fazla bekleme olasılığı\n",
    "\n",
    "1 - expon.cdf(4, scale=2)\n",
    "\n",
    "# 1 ile 4 dakika arasında bekleme olasılığı\n",
    "\n",
    "expon.cdf(4, scale=2) - expon.cdf(1, scale=2)"
   ]
  },
  {
   "cell_type": "code",
   "execution_count": 1,
   "id": "a4989b53-e3c1-4765-88cb-e6fc1dd5bcb8",
   "metadata": {},
   "outputs": [
    {
     "data": {
      "image/png": "[encoded data removed]",
      "text/plain": [
       "<Figure size 800x500 with 1 Axes>"
      ]
     },
     "metadata": {},
     "output_type": "display_data"
    }
   ],
   "source": [
    "import numpy as np\n",
    "import matplotlib.pyplot as plt\n",
    "from scipy.stats import t, norm\n",
    "\n",
    "# Parametreler\n",
    "df = 5  # t dağılımı serbestlik derecesi\n",
    "x = np.linspace(-5, 5, 400)\n",
    "\n",
    "# PDF'ler\n",
    "t_pdf = t.pdf(x, df)\n",
    "norm_pdf = norm.pdf(x, 0, 1)  # Ortalama 0, std 1\n",
    "\n",
    "# Grafik\n",
    "plt.figure(figsize=(8, 5))\n",
    "plt.plot(x, t_pdf, 'r-', lw=2, label=f\"t Dağılımı (df={df})\")\n",
    "plt.plot(x, norm_pdf, 'b--', lw=2, label=\"Normal Dağılım (μ=0, σ=1)\")\n",
    "\n",
    "plt.title(\"t Dağılımı ve Normal Dağılım Karşılaştırması\")\n",
    "plt.xlabel(\"x\")\n",
    "plt.ylabel(\"Yoğunluk\")\n",
    "plt.legend()\n",
    "plt.grid(True, linestyle=\"--\", alpha=0.5)\n"
   ]
  },
  {
   "cell_type": "markdown",
   "id": "23de9fa2-9063-46fc-a258-f0d05e015c7c",
   "metadata": {},
   "source": [
    "**(Student's) t-distribution**</br>\n",
    "t-dağılım, küçük örneklem büyüklükleriyle uğraşırken veya popülasyon standart sapması bilinmediğinde istatistikte yaygın olarak kullanılır. </br>\n",
    "<img src=\"pictures/tdist_1.png\"/>\n",
    "\n",
    "<ul>\n",
    "    <li>Şekli normal dağılıma benzer, ancak tam olarak aynı değildir.</li>\n",
    "    <li>Mavi ile gösterilen normal dağılım ile turuncu ile gösterilen bir serbestlik dereceli t-dağılımını karşılaştırırsak, t-dağılımının kuyruklarının daha kalın olduğunu görürüz. </li>\n",
    "    <li>Bu, t-dağılımında gözlemlerin ortalamadan daha uzak düşme olasılığının daha yüksek olduğu anlamına gelir.</li>\n",
    "</ul>\n",
    "\n",
    "***Degrees of freedom (Serbestlik Derecesi)** </br>\n",
    "Serbestlik derecesi (df), istatistikte temel bir kavramdır ve istatistiksel bir parametreyi tahmin etmek için kullanılabilen bağımsız değer veya bilgi parçalarının sayısını ifade eder. Daha basit bir ifadeyle, bir hesaplamada veriler tarafından empoze edilen herhangi bir kısıtlamayı ihlal etmeden serbestçe değişebilen değer sayısını temsil eder.</br>\n",
    "\n",
    "Serbestlik dereceleri t-dağılımının kuyruklarının ne kadar geniş ve düz olacağını etkiler.</br>\n",
    "**Daha düşük serbestlik dereceleri (küçük df):** Dağılımın daha ağır (daha geniş) kuyrukları vardır ve daha yayılmıştır. Bu, normal dağılıma kıyasla daha yüksek uç değerler (aykırı değerler) olasılığı olduğu anlamına gelir. Örneklem boyutları küçük olduğunda daha fazla belirsizliğe neden olur. </br>\n",
    "**Daha yüksek serbestlik dereceleri (büyük df):** Serbestlik dereceleri arttıkça t-dağılım normal dağılıma (çan eğrisi) yaklaşır. Serbestlik dereceleri yaklaşık 30 veya daha fazlasına ulaştığında, t-dağılım normal dağılımdan neredeyse ayırt edilemez hale gelir.</br>\n",
    "\n",
    "\n",
    "Çoğu istatistiksel testte, t-dağılımındaki serbestlik dereceleri genellikle örneklem büyüklüğüne bağlıdır. Örneğin, tek örneklemli bir t-testinde, serbestlik dereceleri n−1'dir, burada n örneklem büyüklüğüdür.</br>\n",
    "**Küçük örneklem büyüklükleri (küçük df):** Küçük bir örneklem büyüklüğünüz olduğunda, t-dağılımının kuyrukları daha ağırdır çünkü popülasyon ortalamasını tahmin etmede daha fazla belirsizlik vardır.</br>\n",
    "**Büyük örneklem büyüklükleri (büyük df):** Daha büyük örneklerde, t-dağılımının normal dağılıma yaklaşması, popülasyon ortalamasının tahmininin daha kesin hale gelmesidir.</br>\n",
    "\n",
    "Serbestlik dereceleri hipotez testindeki kritik değerleri de etkiler.</br>\n",
    "**Daha düşük df (daha küçük örneklem boyutu):** Güven aralıkları veya önem testleri (t-testleri gibi) için kritik değerler daha büyük olacaktır. Bunun nedeni, daha az veri noktasıyla, ek belirsizliği hesaba katmak için daha geniş bir hata payına ihtiyaç duymanızdır.</br>\n",
    "**Daha yüksek df (daha büyük örneklem boyutu):** Örneklem boyutu arttıkça kritik değerler küçülür, bu da güven aralıklarının daha dar hale geldiği ve hipotez testlerinin sıfır hipotezini reddetmek için daha az uç değer gerektirdiği anlamına gelir. Bu, daha büyük örneklerin daha büyük kesinliğini yansıtır.</br>\n",
    "\n",
    "\n",
    "<img src=\"pictures/tdist_2.png\"/>"
   ]
  },
  {
   "cell_type": "code",
   "execution_count": 2,
   "id": "f2ac305d-14eb-4d41-ac0c-b02e1c2bc14a",
   "metadata": {},
   "outputs": [
    {
     "data": {
      "image/png": "[encoded data removed]",
      "text/plain": [
       "<Figure size 640x480 with 1 Axes>"
      ]
     },
     "metadata": {},
     "output_type": "display_data"
    }
   ],
   "source": [
    "import numpy as np\n",
    "import matplotlib.pyplot as plt\n",
    "import scipy.stats as stats\n",
    "\n",
    "x = np.linspace(-5, 5, 100)\n",
    "\n",
    "# Plot for different degrees of freedom\n",
    "for df in [1, 5, 10, 30]:\n",
    "    plt.plot(x, stats.t.pdf(x, df), label=f'df={df}')\n",
    "\n",
    "plt.plot(x, stats.norm.pdf(x), label='Normal distribution', \n",
    "         linestyle='--')\n",
    "plt.legend()\n",
    "plt.title('t-distribution with different degrees of freedom')\n",
    "plt.xlabel('x')\n",
    "plt.ylabel('Density')\n",
    "plt.show()"
   ]
  },
  {
   "cell_type": "markdown",
   "id": "d6446a4b-20dc-4d87-b389-e1d3e46198f8",
   "metadata": {},
   "source": [
    "**Log-normal distribution** </br>\n",
    "\n",
    "<ul>\n",
    "    <li>Log-normal dağılımı izleyen değişkenlerin logaritması normal dağılım gösterir. </li>\n",
    "    <li>Bu da normal dağılımdan farklı olarak çarpık dağılımlara neden olur.</li>\n",
    "    <li>Satranç oyunlarının uzunluğu, yetişkinlerde kan basıncı ve 2003 SARS salgınında hastaneye yatış sayısı gibi bu dağılımı izleyen çok sayıda gerçek dünya örneği vardır.</li>\n",
    "</ul>\n",
    "\n",
    "<img src=\"pictures/lognormal_1.png\"/>\n"
   ]
  },
  {
   "cell_type": "code",
   "execution_count": 3,
   "id": "c6bf75e8-64e8-4c0b-9e34-f9ffc09e2f08",
   "metadata": {},
   "outputs": [
    {
     "data": {
      "image/png": "[encoded data removed]",
      "text/plain": [
       "<Figure size 640x480 with 1 Axes>"
      ]
     },
     "metadata": {},
     "output_type": "display_data"
    }
   ],
   "source": [
    "import numpy as np\n",
    "import matplotlib.pyplot as plt\n",
    "from scipy.stats import lognorm\n",
    "\n",
    "# X ekseni için değerler\n",
    "x = np.linspace(0.1, 10, 100)\n",
    "\"\"\"\n",
    "s=Standard sapma (log) -> logaritması alınırsa normal dağılım standart sapması olur\n",
    "mean=Ortalama (log)\n",
    "scale= Ölçek parametresi (e^mean) büyük olduğunda sağa doğru genişler (dağılımın genişliğini belirler)\n",
    "\n",
    "Log-normal dağılım, bir değişkenin logaritması normal dağılım gösteriyorsa ortaya çıkar. \n",
    "Yani, eğer X log-normal dağılıma sahipse, log(X) normal bir dağılıma uyar.\n",
    "\"\"\"\n",
    "\n",
    "# Farklı log-normal dağılımlar için parametreler\n",
    "params = [\n",
    "    {'s': 0.5, 'scale': np.exp(0)},  # dar\n",
    "    {'s': 1, 'scale': np.exp(0)},  # Orta \n",
    "    {'s': 1.5, 'scale': np.exp(0)},  # geniş \n",
    "]\n",
    "\n",
    "for param in params:\n",
    "    pdf = lognorm.pdf(x, param['s'], loc=0, scale=param['scale'])\n",
    "    plt.plot(x, pdf, label=f\" {param['s']}\")\n",
    "\n",
    "# Grafik ayarları\n",
    "plt.title('Log-normal Distributions')\n",
    "plt.xlabel('x')\n",
    "plt.ylabel('Probability Density')\n",
    "plt.legend(title=\"sd\")\n",
    "plt.grid(True)\n",
    "plt.show()"
   ]
  },
  {
   "cell_type": "code",
   "execution_count": 4,
   "id": "bcc10471-c090-42c7-a505-a221e3ad1a8f",
   "metadata": {},
   "outputs": [
    {
     "data": {
      "image/png": "[encoded data removed]",
      "text/plain": [
       "<Figure size 640x480 with 1 Axes>"
      ]
     },
     "metadata": {},
     "output_type": "display_data"
    }
   ],
   "source": [
    "import numpy as np\n",
    "import matplotlib.pyplot as plt\n",
    "from scipy.stats import lognorm\n",
    "\n",
    "sd_values = [0.5, 1, 1.5]\n",
    "\n",
    "\n",
    "x = np.linspace(0.01, 10, 1000)\n",
    "\n",
    "\n",
    "for sd in sd_values:\n",
    "    pdf = lognorm.pdf(x, sd)\n",
    "    plt.plot(x, pdf, label=f'sd = {sd}')\n",
    "\n",
    "\n",
    "plt.legend()\n",
    "plt.show()"
   ]
  },
  {
   "cell_type": "markdown",
   "id": "636429af-4519-42d7-9227-47e7ea1ab0a7",
   "metadata": {},
   "source": [
    "##  Hypothesis Testing"
   ]
  },
  {
   "cell_type": "markdown",
   "id": "fd48f591-6829-4454-8e3f-50d8d7693c87",
   "metadata": {},
   "source": [
    "Hipotez testi, popülasyonları karşılaştırmak için kullanılan bir grup teori, yöntem ve tekniktir. </br>\n",
    "\n",
    "Neden hipotez testleri hakkında bilgi sahibi olmak gerekir?</br>\n",
    "<ul>\n",
    "    <li> İlk olarak, birçok sektörde rutin olarak kullanılmaktadır. Örneğin, bir şirketin ürün fiyatını artırmanın geliri artıracağı veya bir web sitesinin adını değiştirmenin trafiği artırabileceği yönünde bir teorisi olabilir. Bir ilacın belirli sağlık koşullarının tedavisinde etkili olup olmadığını analiz etmek için hipotez testi kullanılabilir.</li>\n",
    "</ul>\n",
    "\n",
    "<ul>\n",
    "    <li>Hipotez testlerinde, her zaman popülasyonlar arasında hiçbir fark olmadığı varsayımıyla başlanır. Bu, teste herhangi bir önyargı ekleme riskini azaltmak için yapılır.</li>\n",
    "    <li> Buna sıfır(null) hipotezi denir.</li>\n",
    "</ul>\n",
    "\n",
    "Bir örnek vermek gerekirse; </br>\n",
    "\n",
    "Sıfır hipotezi, C vitamini takviyesi alan ve almayan kadınlar arasında cinsiyete göre doğum oranında bir fark olmadığı şeklindedir. </br>\n",
    "\n",
    "Daha sonra alternatif bir hipotez oluşturulur ve bu hipotez tipik olarak iki şekilde olabilir. C vitamini takviyesi alan ve almayan kadınlar arasında erkek ve kadın doğumları arasında bir fark olduğu söylenebilir. Ya da farkın yönü, örneğin C vitamini takviyesi alan nüfusun takviye almayanlara göre daha fazla kadın doğumuna sahip olduğunu belirtilebilir.</br>\n",
    "\n",
    "**Hipotez Testi İş Akışı**</br>\n",
    "\n",
    "<ul>\n",
    "    <li>Popülasyon tanımlanmalıdır.</br> \n",
    "        Aralarındaki farkı analiz etmek istediğimiz popülasyona karar verirlir. Bu durumda C vitamini takviyesi kullanan veya kullanmayan yetişkin kadınlar popülasyondur. \n",
    "    </li>\n",
    "    <li>Null ve Alternatif hipotez belirlenir.</br>\n",
    "        Ardından, her iki popülasyonda da doğumların erkek veya kız olma olasılığının eşit olduğu veya C vitamini takviyesi alan kadınlarda bebeklerin kız olma olasılığının daha yüksek olduğu şeklinde boş ve alternatif hipotezler geliştirilir.\n",
    "    </li>\n",
    "    <li>Örnek veriler toplanır veya bunlara erişim sağlanır.</li>\n",
    "    <li>Veriler üzerinde istatistiksel testler gerçekleştirilir</li>\n",
    "    <li>Sonuçlar örneklemin temsil ettiği nüfus hakkında sonuçlar çıkarmak için kullanılır.</li>\n",
    "</ul>\n",
    "\n",
    "**Ne kadar veriye ihtiyaç var?**</br>\n",
    "\n",
    "Peki kaç doğumun cinsiyeti kaydedilmelidir?</br>\n",
    "Merkezi limit teoremi uygulanırsa, örneklem büyüklüğü arttıkça erkek ve kadın doğumlarının ortalama sayısı popülasyon ortalamalarına yaklaşır. Ancak, büyük örnekler toplamak çok fazla zaman ve kaynak gerektirebilir!</br>\n",
    "Yaygın bir yaklaşım, örneklemlerin ne kadar büyük olduğunu bulmak için benzer hipotez testleri üzerine hakemli araştırmalara bakmaktır. Bu daha sonra bir ölçüt olarak kullanılabilir. </br>\n",
    "\n",
    "**Independent and dependent variables**</br>\n",
    "\n",
    "<ul>\n",
    "    <li>Bağımsız değişken, diğer verilerden etkilenmesi beklenen veriyi tanımlar. C Vitamini Takviyesi</li>\n",
    "    <li>Bağımlı Değişken, Bağımsız değişken veya değişkenler tarafından etkilenen değişken. Doğum cinsiyet oranı</li>\n",
    "</ul>\n",
    "\n",
    "   <img src=\"pictures/hypothesis.png\" height=500 width=500/> </br>\n"
   ]
  },
  {
   "cell_type": "markdown",
   "id": "04efcd4f-d49f-4aa5-821b-e39196cb55fd",
   "metadata": {},
   "source": [
    "## Design of Experiments\n",
    "\n",
    "<ul>\n",
    "    <li>Veriler genellikle belirli bir soruyu yanıtlamayı amaçlayan bir çalışmanın sonucu olarak oluşturulur. Ancak, verilerin nasıl oluşturulduğuna ve çalışmanın nasıl tasarlandığına bağlı olarak verilerin farklı şekilde analiz edilmesi ve yorumlanması gerekir.</li>\n",
    "    <li>Deneyler genellikle \"Tedavinin tepki üzerindeki etkisi nedir?\" biçimindeki bir soruyu yanıtlamayı amaçlar. Bu ortamda, tedavi açıklayıcı veya bağımsız değişkeni ifade eder ve tepki tepkiyi veya bağımlı değişkeni ifade eder. Örneğin, bir reklamın satın alınan ürün sayısı üzerindeki etkisi nedir? Bu durumda, tedavi bir reklamdır ve tepki satın alınan ürün sayısıdır.</li>\n",
    "</ul>\n",
    "\n",
    "**Controlled experiments**</br>\n",
    "<ul>\n",
    "    <li>Kontrollü bir deneyde, katılımcılar rastgele tedavi grubuna veya kontrol grubuna atanır. Tedavi grubu tedaviyi alır ve kontrol grubu almaz. </li>\n",
    "    <li>Bununen iyi örneklerinden biri A/B testidir. Örneğin, tedavi grubu bir reklam görecek, kontrol grubu ise görmeyecektir. Bu farkın dışında, grupların karşılaştırılabilir olması gerekir; böylece bir reklam görmenin insanların daha fazla satın almasına neden olup olmadığını belirlenebilir.</li>\n",
    "    <li>Gruplar karşılaştırılabilir değilse, bu durum kafa karıştırıcılığa veya önyargıya yol açabilir. Tedavi grubundaki katılımcıların ortalama yaşı 25 ve kontrol grubundaki katılımcıların ortalama yaşı 50 ise, daha genç kişilerin daha fazla satın alma olasılığı daha yüksekse yaş potansiyel bir karıştırıcı olabilir ve bu da deneyi tedaviye doğru önyargılı hale getirecektir.</li>\n",
    "</ul>\n",
    "\n",
    "**Deneylerin Altın Standardı** </br>\n",
    "<ul>\n",
    "    <li>Altın standart veya ideal deney, belirli araçları kullanarak mümkün olduğunca fazla önyargıyı ortadan kaldıracaktır.</li>\n",
    "    <li>Kontrollü deneylerde önyargıyı ortadan kaldırmaya yardımcı olan ilk araç, randomize kontrollü bir deneme kullanmaktır. Randomize kontrollü bir denemede, katılımcılar tedavi veya kontrol grubuna rastgele atanır ve atamaları şanstan başka bir şeye dayanmaz. Bu tür rastgele atama, grupların karşılaştırılabilir olduğundan emin olmaya yardımcı olur.</li>\n",
    "    <li> İkinci yol, tedaviye benzeyen ancak hiçbir etkisi olmayan bir şey olan plasebo kullanmaktır. Bu şekilde, katılımcılar tedavi veya kontrol grubunda olup olmadıklarını bilmezler. Bu, tedavinin etkisinin tedavinin kendisinden kaynaklandığını, tedaviyi alma fikrinden kaynaklanmadığını garanti eder. Bu, bir ilacın etkinliğini test eden klinik çalışmalarda yaygındır. Kontrol grubuna yine bir hap verilir, ancak bu, yanıt üzerinde minimum etkisi olan bir şeker hapıdır.</li>\n",
    "    <li>Çift kör bir deneyde, tedaviyi uygulayan veya deneyi yürüten kişi, gerçek tedaviyi mi yoksa plaseboyu mu uyguladığını bilmez. Bu, yanıttaki önyargıya ve sonuçların analizine karşı koruma sağlar. Bu farklı araçların hepsi aynı prensibe dayanır: deneyinize önyargının sızması için daha az fırsat varsa, tedavinin yanıtı etkileyip etkilemediğine dair daha güvenilir bir sonuca varabilirsiniz.</li>\n",
    "</ul>\n",
    "\n",
    "**Observational studies**</br>\n",
    "<ul>\n",
    "    <li>Gözlemsel bir çalışmada, katılımcılar gruplara rastgele atanmazlar. Bunun yerine, katılımcılar genellikle önceden var olan özelliklere göre kendilerini atarlar. Bu, kontrollü bir deney için elverişli olmayan soruları yanıtlamak için yararlıdır.</li>\n",
    "    <li>Sigara içmenin kanser üzerindeki etkisini incelemek istiyorsanız, insanları sigara içmeye zorlayamazsınız. Benzer şekilde, geçmiş satın alma davranışının birinin bir ürünü satın alıp almayacağını nasıl etkilediğini incelemek istiyorsanız, insanları belirli geçmiş satın alma davranışlarına sahip olmaya zorlayamazsınız.</li>\n",
    "    <li> Atama rastgele olmadığından, grupların her açıdan karşılaştırılabilir olacağını garantilemenin bir yolu yoktur, bu nedenle gözlemsel çalışmalar nedensellik kuramaz, yalnızca ilişki kurabilir. Tedavinin etkileri, belirli kişileri kontrol grubuna ve belirli kişileri tedavi grubuna sokan faktörler tarafından karıştırılabilir. Ancak, ilişki hakkındaki sonuçların güvenilirliğini güçlendirmeye yardımcı olabilecek karıştırıcıları kontrol etmenin yolları vardır.</li>\n",
    "</ul>\n",
    "\n",
    "**Longitudinal vs. cross-sectional studies (Uzunlamasına ve kesitsel çalışmalar)**</br>\n",
    "\n",
    "<ul>\n",
    "    <li>Uzunlamasına bir çalışmada, aynı katılımcılar, tedavinin yanıt üzerindeki etkisini incelemek için bir süre boyunca takip edilir. </li>\n",
    "    <li>Kesitsel bir çalışmada, veriler zaman içinde tek bir anlık görüntüden toplanır. </li>\n",
    "    <li>Yaşın boy üzerindeki etkisini araştırmak isterseniz, kesitsel bir çalışma farklı yaşlardaki insanların boylarını ölçer ve bunları karşılaştırır. Ancak, sonuçlar doğum yılı ve yaşam tarzı tarafından karıştırılacaktır çünkü her neslin daha uzun olması mümkündür. </li>\n",
    "    <li>Uzunlamasına bir çalışmada, aynı kişilerin boyları hayatlarının farklı noktalarında kaydedilir, böylece karıştırıcı faktör ortadan kalkar. </li>\n",
    "    <li>Uzunlamasına çalışmaların daha pahalı olduğunu ve gerçekleştirilmesinin daha uzun sürdüğünü, kesitsel çalışmaların ise daha ucuz, daha hızlı ve daha rahat olduğunu belirtmek önemlidir.</li>\n",
    "</ul>\n"
   ]
  },
  {
   "cell_type": "markdown",
   "id": "05e0d0ca-104a-4f59-8838-2161743444ad",
   "metadata": {},
   "source": [
    "## Experiments\n",
    "\n",
    "Deneyler, bir popülasyon hakkında sonuçlar çıkarmak için örnek veriler üzerinde istatistiksel testler yapmayı içeren hipotez testinin bir alt kümesidir. </br>\n",
    "\n",
    "Bu sadece akademi ve araştırma için geçerli değildir; deneyler, özellikle ürün içgörüleri elde etmek ve ticari performansta iyileştirmeler sağlamak için endüstride de gerçekleştirilir.</br>\n",
    "\n",
    "Deneyler genellikle “Uygulamanın yanıt üzerindeki etkisi nedir?” şeklinde bir soruyu yanıtlamayı amaçlar; burada uygulama bağımsız değişkeni, yanıt ise bağımlı değişkeni ifade eder. </br>\n",
    "\n",
    "**Advertising as a treatment**</br>\n",
    "\n",
    "Bir deney örneği olarak, bir reklamın satın alınan ürün sayısı üzerinde ne gibi bir etkisi olduğu bilinmek istenebilir.</br>\n",
    "\n",
    "Bu durumda, uygulama bir reklam, yanıt ise satın alınan ürün sayısıdır.</br>\n",
    "\n",
    "   <img src=\"pictures/experiment.png\" height=500 width=500/> </br>\n",
    "\n",
    "Sonuçların bir çubuk grafiği kullanılarak görselleştirilmesi, uygulamanın satın alınan ürün sayısını artırmada etkili olabileceğini göstermektedir. </br>\n",
    "\n",
    "**Controlled experiments**</br>\n",
    "\n",
    "Yaygın bir deney türü, katılımcıların rastgele bir şekilde uygulama grubuna ya da kontrol grubuna atandığı kontrollü bir deneydir. </br>\n",
    "\n",
    "Örnekte, uygulama grubu bir reklam görecek, kontrol grubu ise görmeyecektir. Bu fark dışında, gruplar karşılaştırılabilir olmalıdır, böylece bir reklam görmenin insanların daha fazla satın almasına neden olup olmadığı belirlenebilir.</br>\n",
    "\n",
    "Gruplar karşılaştırılabilir değilse, sonuçlara dayanarak yanlış sonuçlar çıkarılabilir. Uygulama grubundaki katılımcıların yaş ortalaması 25 ve kontrol grubundaki katılımcıların yaş ortalaması 50 ise, yaş potansiyel olarak sonuçları etkileyebilir; genç insanların daha fazla satın alma olasılığı daha yüksektir ve bu da deneyi uygulama lehine taraflı hale getirir. </br>\n",
    "\n",
    "   <img src=\"pictures/experiment_2.png\" height=500 width=500/> </br>\n",
    "\n",
    "**The gold standard of experiments**</br>\n",
    "\n",
    "Kontrollü deneylerde önyargıyı ortadan kaldırmaya yardımcı olan ilk yöntem rastgeleleştirmedir (Randomization).</br>\n",
    "<ul>\n",
    "    <li>Katılımcılar Uygulama/Kontrol grubuna belirli özelliklerine göre değil rastgele atanır.</li>\n",
    "    <li>Rastgeleleştirme grupların karşılaştırılabilir olmasını sağlamaya yardımcı olur.</li>\n",
    "    <li> Buna randomize kontrollü çalışma adı verilir.</li>\n",
    "</ul>\n",
    "\n",
    "İkinci yöntem körleme(Blinding) kullanmaktır.</br>\n",
    "<ul>\n",
    "    <li>Katılımcılar hangi grupta olduklarını bilmezler. Bu tedavinin etkisinin tedavi olam fikriden değil, tedavinin kendisinden kaynaklanmasını sağlar.</li>\n",
    "    <li>Bu tedaviye benzeyen fakat hiçbir etkisi olmayan bir plasebo kullanımını içerebilir.</li>\n",
    "    <li> Bu bir ilacın etkinliğini test eden klinik deneylerde yaygındır.</li>\n",
    "</ul>\n",
    "\n",
    "Üçüncü yöntem Çift kör randomize kontrollü bir çalışma (double-blind randomized controlled trial) kullanmaktır.\n",
    "<ul>\n",
    "    <li>Tedaviyi uygulayan veya deneyi yürüten kişi gerçek tedaviyi mi yoksa plaseboyu mu uyguladığını da bilmez.</li>\n",
    "    <li> Bu, sonuçların analizinin yanı sıra yanıtta da önyargıya karşı koruma sağlar.</li>\n",
    "    <li> Bu farklı araçların hepsi aynı ilkeye dayanır: Deneye önyargı girmesi için ne kadar az fırsat olursa, tedavinin yanıtı etkileyip etkilemediği sonucuna o kadar güvenilir bir şekilde varılabilir.</li>\n",
    "</ul>\n",
    "\n",
    "**Randomized Controlled Trials vs. A/B testing**</br>\n",
    "\n",
    "Amaç, bir ilacın farklı dozajları gibi birden fazla tedavi arasındaki farkı test etmekse, randomize kontrollü çalışmalar birden fazla tedavi grubuna sahip olabilir. Bunlar akademide, özellikle de bilimsel ve klinik araştırmalarda popülerdir.</br>\n",
    "\n",
    "Randomize kontrollü denemeler, genellikle pazarlama ve mühendislik gibi sektörlerde kullanıldığında A/B testi olarak da adlandırılır. Aradaki fark, A/B testinin katılımcıları yalnızca uygulama ve kontrol olmak üzere iki gruba ayırmasıdır. \n",
    "\n"
   ]
  },
  {
   "cell_type": "markdown",
   "id": "4eb568a5-3049-40eb-b252-161afdacd01f",
   "metadata": {},
   "source": [
    "## Correlation\n",
    "\n",
    "Değişkenler arası ilişkiler daha önceki konularda anlatıldı. Şimdi bu ilişkiyi ölçmenin bir yolu olan Korelasyon konusundan bahsedilecektir.</br>\n",
    "\n",
    "**Relationships between two variables**</br>\n",
    "\n",
    "İki değişken arasındaki ilişkiyi görselleştirebilmek için dağılım grafiği kullanılır. </br>   \n",
    "\n",
    "<img src=\"pictures/correlation_1.png\" height=500 width=500/> </br>\n",
    "\n",
    "Burada, farklı şehirlerdeki spor salonu üyelik maliyetleri ile su maliyetlerini çiziyoruz. Bu iki değişken arasında net bir ilişki olup olmadığını belirlemek zordur.</br>\n",
    "\n",
    "**Pearson correlation coefficient**</br>\n",
    "\n",
    "İşte bu noktada, genellikle korelasyon katsayısı olarak adlandırılan Pearson korelasyon katsayısı işe yarar.</br>\n",
    "\n",
    "Karl Pearson tarafından geliştirilmiş ve 1896 yılında yayınlanmıştır.</br>\n",
    "\n",
    "İki değişken arasındaki ilişkinin gücünü ölçer ve eksi bir ile bir arasında bir değer üretir. Bu sayı, değişkenler arasındaki ilişkinin gücüne karşılık gelir ve pozitif veya negatif işaret, ilişkinin yönüne karşılık gelir.</br>\n",
    "\n",
    "**Linear relationships**</br>\n",
    "\n",
    "Pearson korelasyon katsayısı yalnızca doğrusal ilişkiler için kullanılabilir, yani değişkenler arasındaki değişiklikler orantılıdır.</br>\n",
    "\n",
    "<img src=\"pictures/correlation_1.png\" height=500 width=500/> </br>\n",
    "\n",
    "Örneğin, Londra'da bir şişe suyun bir dolar ve spor salonu üyeliğinin aylık fiyatının yirmi dolar olduğunu varsayalım. Eğer su Paris'te iki kat daha pahalıysa, o zaman spor salonu üyeliği 40 dolar olmalıdır.</br>\n",
    "\n",
    "<img src=\"pictures/correlation_3.png\" height=500 width=500/> </br>\n",
    "\n",
    "<img src=\"pictures/correlation_4.png\" height=500 width=500/> </br>\n",
    "\n",
    "<img src=\"pictures/correlation_5.png\" height=500 width=500/> </br>\n",
    "\n",
    "<img src=\"pictures/correlation_6.png\" height=500 width=500/> </br>\n",
    "\n",
    "<img src=\"pictures/correlation_7.png\" height=500 width=500/> </br>\n",
    "\n",
    "<img src=\"pictures/correlation_8.png\" height=500 width=500/> </br>\n",
    "\n",
    "<img src=\"pictures/correlation_1.png\" height=500 width=500/> </br>\n",
    "\n",
    "Net bir çizgi yok, bu da çok güçlü bir ilişki olmadığını gösteriyor, ancak her iki değer de birlikte artma eğiliminde. Yani, belki de zayıf-orta düzeyde pozitif bir korelasyon vardır. </br>\n",
    "\n",
    "<img src=\"pictures/correlation_9.png\" height=500 width=500/> </br>\n",
    "\n",
    "Eğilim çizgisi ilişkiyi görselleştirmeyi kolaylaştırır. Pearson korelasyon katsayısı 0,35 olup, spor salonu üyeliğinin maliyeti ile bir şişe suyun maliyeti arasında zayıf ila orta düzeyde pozitif bir ilişki olduğunu teyit etmektedir. </br>\n",
    "\n",
    "<img src=\"pictures/correlation_10.png\" height=500 width=500/> </br>\n",
    "\n",
    "Korelasyon katsayısını kullanarak değişkenler arasındaki ilişkiyi yorumlarken dikkatli olunmalıdır. Burada yaşam beklentisi ve bir şişe suyun maliyetini gösteren bir grafik yer almaktadır. Korelasyon katsayısı 0,61'dir ve orta düzeyde pozitif bir ilişki olduğunu göstermektedir. </br>\n",
    "\n",
    "Korelasyon nedenselliğe eşit değildir. Bu, su maliyetinin artmasının ortalama yaşam süresini artıracağı anlamına mı geliyor? Bir ilişkinin var olmasının, su maliyetlerindeki değişikliklerin yaşam beklentisinde bir değişikliğe yol açacağı anlamına gelmediğini ayırt etmek önemlidir.</br>\n",
    "\n",
    "**Confounding variables**</br>\n",
    "\n",
    "Veriler arasındaki ilişkilere bakarken, değerleri başka nelerin etkiliyor olabileceğini sormak önemlidir. Bir şişe suyun maliyeti, daha güçlü ekonomilere sahip yerlerde genellikle daha yüksektir ve bu yerler yüksek kaliteli sağlık hizmetlerine daha iyi erişim sunabilir. Dolayısıyla, belki de yaşam beklentisi bir şişe suyun maliyetinden etkilenmiyor, aslında ekonominin gücünden etkileniyordur. Bu, analiz ettiğimiz verileri etkileyen ancak değişkenler arasındaki ilişkiyi değerlendirirken hesaba katılmayan bir şey olan karıştırıcı değişken olarak bilinir. </br>\n"
   ]
  },
  {
   "cell_type": "code",
   "execution_count": 1,
   "id": "4272c182-8e14-4ed5-ad54-3209cfc0a86b",
   "metadata": {},
   "outputs": [
    {
     "data": {
      "image/png": "[encoded data removed]",
      "text/plain": [
       "<Figure size 640x480 with 1 Axes>"
      ]
     },
     "metadata": {},
     "output_type": "display_data"
    }
   ],
   "source": [
    "import seaborn as sns\n",
    "import pandas as pd\n",
    "import matplotlib.pyplot as plt\n",
    "\n",
    "df_sleep = pd.read_csv(\"data/msleep.csv\")\n",
    "\n",
    "sns.scatterplot(x=\"sleep_total\", y=\"sleep_rem\", data=df_sleep)\n",
    "plt.show()"
   ]
  },
  {
   "cell_type": "code",
   "execution_count": 3,
   "id": "c83ec3e6-5358-44dd-8752-98a686dc8fa5",
   "metadata": {},
   "outputs": [
    {
     "data": {
      "image/png": "[encoded data removed]",
      "text/plain": [
       "<Figure size 500x500 with 1 Axes>"
      ]
     },
     "metadata": {},
     "output_type": "display_data"
    },
    {
     "data": {
      "text/plain": [
       "'\\nci parametresi, çizilen regresyon doğrusunun güven aralığını kontrol etmek için kullanılır. \\nci, regresyon çizgisi etrafındaki gölgeli alanı ifade eder ve bu gölgeli alan, regresyon çizgisinin belirli bir güven aralığına \\nsahip olduğunu gösterir.\\nci Parametresi:\\n\\n    Açıklama: ci, regresyon çizgisi etrafındaki güven aralığını belirler. Güven aralığı, verinin değişkenliğini ve \\n    regresyon çizgisinin doğruluğunu görsel olarak temsil eder. Varsayılan olarak, bu değer 95 (yani %95 güven aralığı) olarak ayarlanmıştır.\\n    Kullanım: Eğer ci=95 olarak ayarlanırsa, grafikte regresyon doğrusunun etrafında %95 güven aralığı çizilir. \\n    Bu, regresyon çizgisinin %95 güvenle bulunduğu aralığı ifade eder.\\n    Değerler:\\n        Bir sayı olarak (örneğin, ci=95), bu güven aralığı yüzdesini belirtir.\\n        ci=None olarak ayarlanırsa, güven aralığı çizilmez ve sadece regresyon çizgisi gösterilir.\\n\\nGüven Aralığı Nedir?\\n\\nGüven aralığı, tahmin edilen regresyon çizgisinin hangi aralıkta bulunabileceğine dair bir belirsizlik ölçüsüdür. \\n\\nNe Zaman ci=None Kullanılabilir?\\n\\nEğer yalnızca regresyon çizgisi ile ilgileniyorsanız ve güven aralığına gerek yoksa, grafiği sadeleştirmek için ci=None ayarlaması yapılabilir. Bu, grafik üzerinde daha net bir görsellik sunar, özellikle çok fazla veri noktası olduğunda güven aralığı dikkati dağıtabilir.\\nÖzet:\\n\\n    ci parametresi, regresyon çizgisi etrafında çizilen güven aralığını kontrol eder.\\n    ci=95: %95 güven aralığı çizilir (varsayılan).\\n    ci=None: Güven aralığı çizilmez, sadece regresyon çizgisi gösterilir.\\n'"
      ]
     },
     "execution_count": 3,
     "metadata": {},
     "output_type": "execute_result"
    }
   ],
   "source": [
    "import seaborn as sns\n",
    "sns.lmplot(x=\"sleep_total\", y=\"sleep_rem\", data=df_sleep, ci=95)\n",
    "plt.show()\n",
    "\n",
    "'''\n",
    "ci parametresi, çizilen regresyon doğrusunun güven aralığını kontrol etmek için kullanılır. \n",
    "ci, regresyon çizgisi etrafındaki gölgeli alanı ifade eder ve bu gölgeli alan, regresyon çizgisinin belirli bir güven aralığına \n",
    "sahip olduğunu gösterir.\n",
    "ci Parametresi:\n",
    "\n",
    "    Açıklama: ci, regresyon çizgisi etrafındaki güven aralığını belirler. Güven aralığı, verinin değişkenliğini ve \n",
    "    regresyon çizgisinin doğruluğunu görsel olarak temsil eder. Varsayılan olarak, bu değer 95 (yani %95 güven aralığı) olarak ayarlanmıştır.\n",
    "    Kullanım: Eğer ci=95 olarak ayarlanırsa, grafikte regresyon doğrusunun etrafında %95 güven aralığı çizilir. \n",
    "    Bu, regresyon çizgisinin %95 güvenle bulunduğu aralığı ifade eder.\n",
    "    Değerler:\n",
    "        Bir sayı olarak (örneğin, ci=95), bu güven aralığı yüzdesini belirtir.\n",
    "        ci=None olarak ayarlanırsa, güven aralığı çizilmez ve sadece regresyon çizgisi gösterilir.\n",
    "\n",
    "Güven Aralığı Nedir?\n",
    "\n",
    "Güven aralığı, tahmin edilen regresyon çizgisinin hangi aralıkta bulunabileceğine dair bir belirsizlik ölçüsüdür. \n",
    "\n",
    "Ne Zaman ci=None Kullanılabilir?\n",
    "\n",
    "Eğer yalnızca regresyon çizgisi ile ilgileniyorsanız ve güven aralığına gerek yoksa, grafiği sadeleştirmek için ci=None ayarlaması yapılabilir. Bu, grafik üzerinde daha net bir görsellik sunar, özellikle çok fazla veri noktası olduğunda güven aralığı dikkati dağıtabilir.\n",
    "Özet:\n",
    "\n",
    "    ci parametresi, regresyon çizgisi etrafında çizilen güven aralığını kontrol eder.\n",
    "    ci=95: %95 güven aralığı çizilir (varsayılan).\n",
    "    ci=None: Güven aralığı çizilmez, sadece regresyon çizgisi gösterilir.\n",
    "'''"
   ]
  },
  {
   "cell_type": "code",
   "execution_count": 4,
   "id": "554b7c08-c6a9-41c8-88aa-7c01a5a97635",
   "metadata": {},
   "outputs": [
    {
     "data": {
      "text/plain": [
       "0.7517549992287144"
      ]
     },
     "execution_count": 4,
     "metadata": {},
     "output_type": "execute_result"
    }
   ],
   "source": [
    "df_sleep[\"sleep_total\"].corr(df_sleep[\"sleep_rem\"])"
   ]
  },
  {
   "cell_type": "code",
   "execution_count": 7,
   "id": "ea91bd26-dee0-4d22-8f5d-caeb3e6b4a29",
   "metadata": {},
   "outputs": [
    {
     "data": {
      "text/plain": [
       "<Axes: >"
      ]
     },
     "execution_count": 7,
     "metadata": {},
     "output_type": "execute_result"
    },
    {
     "data": {
      "image/png": "[encoded data removed]",
      "text/plain": [
       "<Figure size 640x480 with 2 Axes>"
      ]
     },
     "metadata": {},
     "output_type": "display_data"
    }
   ],
   "source": [
    "sns.heatmap(df_sleep.corr(numeric_only=True), annot=True,\n",
    "           cmap='crest')"
   ]
  },
  {
   "cell_type": "markdown",
   "id": "2fe7dbbf-ada2-4e5c-bd4a-bd889ff1b4ea",
   "metadata": {},
   "source": [
    "## Korelasyon Uyarıları (Correlation caveats) </br>\n",
    "\n",
    "Korelasyon, ilişkileri ölçmek için yararlı bir yol olsa da, bazı uyarıları dikkate almak gereklidir.</br>\n",
    "\n",
    "**Non-linear relationships**</br>\n",
    "<ul>\n",
    "    <li><img src=\"pictures/correlation_11.png\"/></li>\n",
    "    <li>Yukarıdaki grafiği gözönünde bulunduralım. X ve Y arasında açıkça bir ilişki var, ancak korelasyonu hesapladığında 0.18 elde edilir. Bunun nedeni, iki değişken arasındaki ilişkinin doğrusal bir ilişki değil, ikinci dereceden bir ilişki olmasıdır. Korelasyon katsayısı sadece doğrusal ilişkilerin gücünü ölçer.</li>\n",
    "    <li>Tüm özet istatistiklerde olduğu gibi korelasyon da körü körüne kullanılmamalı ve mümkün olduğunca veriler görselleştirilmelidir.</li>\n",
    "</ul>"
   ]
  },
  {
   "cell_type": "code",
   "execution_count": 6,
   "id": "fac85f03-3f40-4dac-aa63-d059fc6e257b",
   "metadata": {},
   "outputs": [
    {
     "data": {
      "text/html": [
       "<div>\n",
       "<style scoped>\n",
       "    .dataframe tbody tr th:only-of-type {\n",
       "        vertical-align: middle;\n",
       "    }\n",
       "\n",
       "    .dataframe tbody tr th {\n",
       "        vertical-align: top;\n",
       "    }\n",
       "\n",
       "    .dataframe thead th {\n",
       "        text-align: right;\n",
       "    }\n",
       "</style>\n",
       "<table border=\"1\" class=\"dataframe\">\n",
       "  <thead>\n",
       "    <tr style=\"text-align: right;\">\n",
       "      <th></th>\n",
       "      <th>name</th>\n",
       "      <th>genus</th>\n",
       "      <th>vore</th>\n",
       "      <th>order</th>\n",
       "      <th>conservation</th>\n",
       "      <th>sleep_total</th>\n",
       "      <th>sleep_rem</th>\n",
       "      <th>sleep_cycle</th>\n",
       "      <th>awake</th>\n",
       "      <th>brainwt</th>\n",
       "      <th>bodywt</th>\n",
       "    </tr>\n",
       "  </thead>\n",
       "  <tbody>\n",
       "    <tr>\n",
       "      <th>0</th>\n",
       "      <td>Cheetah</td>\n",
       "      <td>Acinonyx</td>\n",
       "      <td>carni</td>\n",
       "      <td>Carnivora</td>\n",
       "      <td>lc</td>\n",
       "      <td>12.1</td>\n",
       "      <td>NaN</td>\n",
       "      <td>NaN</td>\n",
       "      <td>11.9</td>\n",
       "      <td>NaN</td>\n",
       "      <td>50.000</td>\n",
       "    </tr>\n",
       "    <tr>\n",
       "      <th>1</th>\n",
       "      <td>Owl monkey</td>\n",
       "      <td>Aotus</td>\n",
       "      <td>omni</td>\n",
       "      <td>Primates</td>\n",
       "      <td>NaN</td>\n",
       "      <td>17.0</td>\n",
       "      <td>1.8</td>\n",
       "      <td>NaN</td>\n",
       "      <td>7.0</td>\n",
       "      <td>0.01550</td>\n",
       "      <td>0.480</td>\n",
       "    </tr>\n",
       "    <tr>\n",
       "      <th>2</th>\n",
       "      <td>Mountain beaver</td>\n",
       "      <td>Aplodontia</td>\n",
       "      <td>herbi</td>\n",
       "      <td>Rodentia</td>\n",
       "      <td>nt</td>\n",
       "      <td>14.4</td>\n",
       "      <td>2.4</td>\n",
       "      <td>NaN</td>\n",
       "      <td>9.6</td>\n",
       "      <td>NaN</td>\n",
       "      <td>1.350</td>\n",
       "    </tr>\n",
       "    <tr>\n",
       "      <th>3</th>\n",
       "      <td>Greater short-tailed shrew</td>\n",
       "      <td>Blarina</td>\n",
       "      <td>omni</td>\n",
       "      <td>Soricomorpha</td>\n",
       "      <td>lc</td>\n",
       "      <td>14.9</td>\n",
       "      <td>2.3</td>\n",
       "      <td>0.133333</td>\n",
       "      <td>9.1</td>\n",
       "      <td>0.00029</td>\n",
       "      <td>0.019</td>\n",
       "    </tr>\n",
       "    <tr>\n",
       "      <th>4</th>\n",
       "      <td>Cow</td>\n",
       "      <td>Bos</td>\n",
       "      <td>herbi</td>\n",
       "      <td>Artiodactyla</td>\n",
       "      <td>domesticated</td>\n",
       "      <td>4.0</td>\n",
       "      <td>0.7</td>\n",
       "      <td>0.666667</td>\n",
       "      <td>20.0</td>\n",
       "      <td>0.42300</td>\n",
       "      <td>600.000</td>\n",
       "    </tr>\n",
       "    <tr>\n",
       "      <th>...</th>\n",
       "      <td>...</td>\n",
       "      <td>...</td>\n",
       "      <td>...</td>\n",
       "      <td>...</td>\n",
       "      <td>...</td>\n",
       "      <td>...</td>\n",
       "      <td>...</td>\n",
       "      <td>...</td>\n",
       "      <td>...</td>\n",
       "      <td>...</td>\n",
       "      <td>...</td>\n",
       "    </tr>\n",
       "    <tr>\n",
       "      <th>78</th>\n",
       "      <td>Tree shrew</td>\n",
       "      <td>Tupaia</td>\n",
       "      <td>omni</td>\n",
       "      <td>Scandentia</td>\n",
       "      <td>NaN</td>\n",
       "      <td>8.9</td>\n",
       "      <td>2.6</td>\n",
       "      <td>0.233333</td>\n",
       "      <td>15.1</td>\n",
       "      <td>0.00250</td>\n",
       "      <td>0.104</td>\n",
       "    </tr>\n",
       "    <tr>\n",
       "      <th>79</th>\n",
       "      <td>Bottle-nosed dolphin</td>\n",
       "      <td>Tursiops</td>\n",
       "      <td>carni</td>\n",
       "      <td>Cetacea</td>\n",
       "      <td>NaN</td>\n",
       "      <td>5.2</td>\n",
       "      <td>NaN</td>\n",
       "      <td>NaN</td>\n",
       "      <td>18.8</td>\n",
       "      <td>NaN</td>\n",
       "      <td>173.330</td>\n",
       "    </tr>\n",
       "    <tr>\n",
       "      <th>80</th>\n",
       "      <td>Genet</td>\n",
       "      <td>Genetta</td>\n",
       "      <td>carni</td>\n",
       "      <td>Carnivora</td>\n",
       "      <td>NaN</td>\n",
       "      <td>6.3</td>\n",
       "      <td>1.3</td>\n",
       "      <td>NaN</td>\n",
       "      <td>17.7</td>\n",
       "      <td>0.01750</td>\n",
       "      <td>2.000</td>\n",
       "    </tr>\n",
       "    <tr>\n",
       "      <th>81</th>\n",
       "      <td>Arctic fox</td>\n",
       "      <td>Vulpes</td>\n",
       "      <td>carni</td>\n",
       "      <td>Carnivora</td>\n",
       "      <td>NaN</td>\n",
       "      <td>12.5</td>\n",
       "      <td>NaN</td>\n",
       "      <td>NaN</td>\n",
       "      <td>11.5</td>\n",
       "      <td>0.04450</td>\n",
       "      <td>3.380</td>\n",
       "    </tr>\n",
       "    <tr>\n",
       "      <th>82</th>\n",
       "      <td>Red fox</td>\n",
       "      <td>Vulpes</td>\n",
       "      <td>carni</td>\n",
       "      <td>Carnivora</td>\n",
       "      <td>NaN</td>\n",
       "      <td>9.8</td>\n",
       "      <td>2.4</td>\n",
       "      <td>0.350000</td>\n",
       "      <td>14.2</td>\n",
       "      <td>0.05040</td>\n",
       "      <td>4.230</td>\n",
       "    </tr>\n",
       "  </tbody>\n",
       "</table>\n",
       "<p>83 rows × 11 columns</p>\n",
       "</div>"
      ],
      "text/plain": [
       "                          name       genus   vore         order  conservation  \\\n",
       "0                      Cheetah    Acinonyx  carni     Carnivora            lc   \n",
       "1                   Owl monkey       Aotus   omni      Primates           NaN   \n",
       "2              Mountain beaver  Aplodontia  herbi      Rodentia            nt   \n",
       "3   Greater short-tailed shrew     Blarina   omni  Soricomorpha            lc   \n",
       "4                          Cow         Bos  herbi  Artiodactyla  domesticated   \n",
       "..                         ...         ...    ...           ...           ...   \n",
       "78                  Tree shrew      Tupaia   omni    Scandentia           NaN   \n",
       "79        Bottle-nosed dolphin    Tursiops  carni       Cetacea           NaN   \n",
       "80                       Genet     Genetta  carni     Carnivora           NaN   \n",
       "81                  Arctic fox      Vulpes  carni     Carnivora           NaN   \n",
       "82                     Red fox      Vulpes  carni     Carnivora           NaN   \n",
       "\n",
       "    sleep_total  sleep_rem  sleep_cycle  awake  brainwt   bodywt  \n",
       "0          12.1        NaN          NaN   11.9      NaN   50.000  \n",
       "1          17.0        1.8          NaN    7.0  0.01550    0.480  \n",
       "2          14.4        2.4          NaN    9.6      NaN    1.350  \n",
       "3          14.9        2.3     0.133333    9.1  0.00029    0.019  \n",
       "4           4.0        0.7     0.666667   20.0  0.42300  600.000  \n",
       "..          ...        ...          ...    ...      ...      ...  \n",
       "78          8.9        2.6     0.233333   15.1  0.00250    0.104  \n",
       "79          5.2        NaN          NaN   18.8      NaN  173.330  \n",
       "80          6.3        1.3          NaN   17.7  0.01750    2.000  \n",
       "81         12.5        NaN          NaN   11.5  0.04450    3.380  \n",
       "82          9.8        2.4     0.350000   14.2  0.05040    4.230  \n",
       "\n",
       "[83 rows x 11 columns]"
      ]
     },
     "execution_count": 6,
     "metadata": {},
     "output_type": "execute_result"
    }
   ],
   "source": [
    "import pandas as pd\n",
    "\n",
    "df_sleep = pd.read_csv(\"data/msleep.csv\")\n",
    "df_sleep"
   ]
  },
  {
   "cell_type": "code",
   "execution_count": 7,
   "id": "d8f9a5c5-74f9-42c5-900b-e99e632deca5",
   "metadata": {},
   "outputs": [
    {
     "name": "stdout",
     "output_type": "stream",
     "text": [
      "0.31198014973502586\n"
     ]
    },
    {
     "data": {
      "image/png": "[encoded data removed]",
      "text/plain": [
       "<Figure size 640x480 with 1 Axes>"
      ]
     },
     "metadata": {},
     "output_type": "display_data"
    }
   ],
   "source": [
    "import seaborn as sns\n",
    "sns.scatterplot(x=\"bodywt\", y=\"awake\", data=df_sleep)\n",
    "print(df_sleep[\"bodywt\"].corr(df_sleep[\"awake\"]))\n",
    "\n",
    "# Burada her bir memelinin vücut ağırlığı ile her gün uyanık \n",
    "# geçirdikleri sürenin dağılım grafiği yer almaktadır. \n",
    "# Bu değişkenler arasındaki ilişki kesinlikle doğrusal bir ilişki \n",
    "# değildir. Vücut ağırlığı ve uyanık kalma süresi arasındaki \n",
    "# korelasyon \n",
    "# sadece 0.3 civarındadır, bu da zayıf bir doğrusal ilişkidir. "
   ]
  },
  {
   "cell_type": "code",
   "execution_count": 8,
   "id": "2adeee18-78d2-4a78-86f5-3dc269beb57c",
   "metadata": {},
   "outputs": [
    {
     "data": {
      "image/png": "[encoded data removed]",
      "text/plain": [
       "<Figure size 640x480 with 1 Axes>"
      ]
     },
     "metadata": {},
     "output_type": "display_data"
    }
   ],
   "source": [
    "plt.hist(df_sleep[\"bodywt\"])\n",
    "plt.title(\"Body Weight Distribution\")\n",
    "plt.show()\n",
    "\n",
    "# Vücut ağırlığı dağılımına daha yakından bakılırsa, \n",
    "# oldukça çarpık olduğunu görülür. Çok sayıda düşük ağırlık ve \n",
    "# diğerlerinden çok daha \n",
    "# yüksek olan birkaç ağırlık vardır. "
   ]
  },
  {
   "cell_type": "code",
   "execution_count": 9,
   "id": "1409064f-33b3-4906-bf94-45501e74d523",
   "metadata": {},
   "outputs": [
    {
     "data": {
      "text/plain": [
       "<Axes: xlabel='bodywt', ylabel='Count'>"
      ]
     },
     "execution_count": 9,
     "metadata": {},
     "output_type": "execute_result"
    },
    {
     "data": {
      "image/png": "[encoded data removed]",
      "text/plain": [
       "<Figure size 640x480 with 1 Axes>"
      ]
     },
     "metadata": {},
     "output_type": "display_data"
    }
   ],
   "source": [
    "sns.histplot(data=df_sleep, x='bodywt', kde=True, bins=10)"
   ]
  },
  {
   "cell_type": "code",
   "execution_count": 8,
   "id": "cb87d296-2862-40dd-900d-b4b97bb90b82",
   "metadata": {},
   "outputs": [
    {
     "name": "stdout",
     "output_type": "stream",
     "text": [
      "0.5687943427609856\n"
     ]
    },
    {
     "data": {
      "image/png": "[encoded data removed]",
      "text/plain": [
       "<Figure size 500x500 with 1 Axes>"
      ]
     },
     "metadata": {},
     "output_type": "display_data"
    },
    {
     "name": "stdout",
     "output_type": "stream",
     "text": [
      "\n"
     ]
    }
   ],
   "source": [
    "# Log Transformation\n",
    "\n",
    "# Veriler bu şekilde yüksek oranda çarpık olduğunda, \n",
    "# bir log dönüşümü uygulanabilir. \n",
    "# Her bir vücut ağırlığının logunu tutan log_bodywt adında\n",
    "# yeni bir sütun oluşturulr. Bu np.log() kullanılarak yapılabilir. Vücut ağırlığının logaritması uyanık kalma süresine karşı çizilirse, \n",
    "# ilişki normal vücut ağırlığı ile uyanık kalma süresi arasındaki \n",
    "# ilişkiden çok daha doğrusal görünür. Vücut ağırlığının logaritması ile \n",
    "# uyanık kalma süresi arasındaki korelasyon yaklaşık 0.57'dir, \n",
    "# bu da daha önce sahip olunan 0.31'den çok daha yüksektir. \n",
    "\n",
    "import numpy as np\n",
    "\n",
    "df_sleep[\"log_bodywt\"] = np.log(df_sleep[\"bodywt\"])\n",
    "\n",
    "print(df_sleep[\"log_bodywt\"].corr(df_sleep[\"awake\"]))\n",
    "\n",
    "\n",
    "sns.lmplot(x=\"log_bodywt\", y=\"awake\", data=df_sleep, ci=None)\n",
    "plt.show()\n",
    "print()\n"
   ]
  },
  {
   "cell_type": "markdown",
   "id": "0d8faa22-33c4-41ba-ab28-9ae9383d9b48",
   "metadata": {},
   "source": [
    "## Other Transformations\n",
    "\n",
    "Log dönüşümüne ek olarak, bir ilişkiyi daha doğrusal hale getirmek için bir değişkenin karekökünü veya tersini almak gibi kullanılabilecek birçok başka dönüşüm vardır. </br>\n",
    "\n",
    "<ul>\n",
    "    <li>Log Transformation (log(x))</li>\n",
    "    <li>Square Root Transformation (sqrt(x))</li>\n",
    "    <li>Reciprocal Transformation (1 / x)</li>\n",
    "    <li>Bunların Kombinasyonları</br>\n",
    "        log(x) ve log(y) </br>\n",
    "        sqrt(x) ve 1 / y </br>\n",
    "    </li>\n",
    "</ul>\n",
    "\n",
    "Dönüşümün seçimi veriye ve ne kadar çarpık olduğuna bağlı olacaktır.</br>\n",
    "\n",
    "**Transformation Neden Kullanılır?** </br>\n",
    "\n",
    "Bazı istatistiksel yöntemler, korelasyon katsayısının hesaplanması gibi değişkenlerin doğrusal bir ilişkiye sahip olmasına dayanır.</br>\n",
    "\n",
    "Doğrusal regresyon, değişkenlerin doğrusal bir şekilde ilişkili olmasını gerektiren başka bir istatistiksel tekniktir.</br>\n",
    "\n",
    "**Korelasyon nedensellik anlamına gelmez**</br>\n",
    "\n",
    "Korelasyon nedensellik anlamına gelmez. Örneğin, burada ABD'de her yıl kişi başına düşen margarin tüketimi ile Maine eyaletindeki boşanma oranını gösteren bir dağılım grafiği yer almaktadır. Bu iki değişken arasındaki korelasyon 0.99'dur, yani neredeyse mükemmeldir. Ancak bu, daha fazla margarin tüketmenin daha fazla boşanmaya neden olacağı anlamına gelmez. **Bu tür bir korelasyon genellikle sahte korelasyon olarak adlandırılır.** </br>\n",
    "\n",
    "<img src=\"pictures/correlation_12.png\"/></br>\n",
    "\n",
    "**Confounding (Karıştırma)** </br>\n",
    "\n",
    "Karıştırma adı verilen bir olgu sahte korelasyonlara yol açabilir. Diyelim ki kahve içmenin akciğer kanserine neden olup olmadığını bilmek istiyoruz. Verilere baktığımızda, kahve içme ve akciğer kanseri arasında korelasyon olduğunu görürüz; bu da bizi daha fazla kahve içmenin akciğer kanserine yol açacağını düşünmeye sevk edebilir.</br>\n",
    "\n",
    "Ancak, üçüncü ve gizli bir değişken daha vardır ki o da sigaradır. </br>\n",
    "\n",
    "Sigara içmenin kahve tüketimi ile ilişkili olduğu bilinmektedir. </br>\n",
    "\n",
    "Sigaranın akciğer kanserine neden olduğu da bilinmektedir. </br>\n",
    "\n",
    "Gerçekte, kahvenin akciğer kanserine neden olmadığı ve sadece onunla ilişkili olduğu, ancak üçüncü değişken olan sigara nedeniyle nedensel göründüğü ortaya çıkmıştır. Bu üçüncü değişkene karıştırıcı ya da gizlenen değişken denir. Bu da kahve ve akciğer kanseri arasındaki ilişkinin sahte bir korelasyon olduğu anlamına gelmektedir. </br>\n",
    "\n",
    "Bunun bir başka örneği de tatiller ve perakende satışlar arasındaki ilişkidir. Her ne kadar insanlar bayramlarda kutlama amacıyla daha fazla alışveriş yapıyor olsa da, satışlardaki artışın ne kadarının bayramlardan, ne kadarının ise bayramlarda yapılan özel fırsat ve promosyonlardan kaynaklandığını söylemek zordur. Burada, özel fırsatlar tatil ve satışlar arasındaki ilişkiyi karıştırmaktadır. </br>\n",
    "\n",
    "<img src=\"pictures/correlation_13.png\"/></br>\n",
    "\n",
    "\n",
    "\n",
    "\n"
   ]
  },
  {
   "cell_type": "markdown",
   "id": "02778599-2322-4f07-9f82-dc7061c58307",
   "metadata": {},
   "source": [
    "## Interpreting Hypothesis Test Results\n",
    "\n",
    "**Chicago ve Bangkok'da Yaşam Süreleri**</br>\n",
    "\n",
    "Chicago ve Bangkok'ta ortalama yaşam süreleri arasında bir fark olup olmadığının test edilmek istendiğini varsayalım.</br>\n",
    "<ul>\n",
    "    <li>H0 = Chicago ve Bangkok'ta ortalama yaşam süreleri arasında bir fark yoktur.</li>\n",
    "    <li>H1 = Chicago'da yaşayanlar Bangkok'ta yaşayanlardan daha uzun bir yaşam süresine sahiptir.</li>\n",
    "</ul>\n",
    "\n",
    "**Örneklem Dağılımı**</br>\n",
    "\n",
    "<ul>\n",
    "    <li>Chicago ve Bangkok'ta yaşayan 100'er kişiden ölüm yaşına ilişkin veri toplansın.</li>\n",
    "    <li>Bu histogram ile her bir şehir için yaşam beklentisi örnek dağılımlarını gösterilsin.</br>\n",
    "        <img src=\"pictures/hist_exp_1.png\" height=500 width=500/> </br>\n",
    "    </li>\n",
    "    <li>Chicago örnekleminin ortalama yaşam beklentisi 79.3, Bangkok için ise 73.9'dur.</li>\n",
    "    <li>Ancak bunların her bir nüfus için gerçek ortalama değerler olduğunu nasıl bilinebilir?</li>\n",
    "</ul>\n",
    "\n",
    "**Farklı Örneklemler**</br>\n",
    "\n",
    "<ul>\n",
    "    <li>Her iki şehirde yaşayan 100 kişiden daha ölüm yaşı verisi toplanabilir. </li>\n",
    "    <li>Bu sefer farklı sonuçlar elde edilebilir.</br>\n",
    "        <img src=\"pictures/hist_exp_2.png\" height=500 width=500/> \n",
    "    </li>\n",
    "    <li>Peki, yaşam beklentisinde gerçekten bir fark olduğundan emin miyiz, yoksa sonuçlar şansa mı bağlı? </li>\n",
    "    <li>Başka bir deyişle, örnekler bu nüfusları gerçekten temsil ediyor mu?</li>\n",
    "</ul>\n",
    "\n",
    "**Ortalama yaşam beklentisinin örnekleme dağılımı**</br>\n",
    "\n",
    "<ul>\n",
    "    <li>Tüm nüfus verilerini topanamaz, bu nedenle bir yaklaşım, her şehirden orijinal veriler üzerinde değiştirme ile örnekleme yapmak ve her örnek için ortalama yaşam beklentisini hesaplamaktır.</li>\n",
    "    <li>Bu 10000 kez tekrarlanarak ve sonuçları görselleştirilerek, Bangkok ve Chicago'daki ortalama yaşam beklentisi için normal dağılımlar görülebilir ve Chicago daha büyük bir beklenen değere sahiptir!</br>\n",
    "                <img src=\"pictures/hist_exp_3.png\" height=500 width=500/> \n",
    "    </li>\n",
    "    <li>Öyleyse, artık yaşam beklentisinde gerçekten bir fark olduğu sonucuna varilabilir mi?</li>\n",
    "</ul>\n",
    "\n",
    "**p-value**</br>\n",
    "<ul>\n",
    "    <li>Hipotez testlerinde sonuç çıkarırken p-değeri adı verilen bir ölçüt kullanılır. </li>\n",
    "    <li>Bu, sıfır hipotezinin doğru olduğunu varsayarak en az gözlemlediğimiz kadar uç bir sonuç elde etme olasılığıdır.</li>\n",
    "    <li>p-değeri = gözlediğiniz sonucun sadece şansla açıklanabilme ihtimali</li>\n",
    "    <li>Diyelim ki, 79,3'lük bir popülasyon ortalaması göz önüne alındığında, Chicago yaşam beklentisi için örnek ortalamasının 82'ye eşit veya daha fazla olma olasılığını bilmek istiyoruz. Örneklem ortalamaları dağılımını görselleştirebilir ve 82'den itibaren toplam alana bakarak p-değerinin 0,037 olduğunu, yani ortalama yaşam beklentisinin 82 veya daha fazla olduğunu gözlemleme şansımızın yüzde 3,7 olduğunu belirleyebiliriz.</li>\n",
    "</ul>\n",
    "\n",
    "<img src=\"pictures/hist_exp_4.png\" height=500 width=500/> </br>\n",
    "\n",
    "<img src=\"pictures/hist_exp_5.png\" height=500 width=500/> </br>\n",
    "\n",
    "İki örnek ortalama dağılımı için p-değeri, aralarında örtüşen toplam alan olarak görselleştirilebili. Peki, sonuçtan emin olmak için ne kadar küçük bir örtüşme gerekir?</br>\n",
    "\n",
    "**Significance level (α)** </br>\n",
    "\n",
    "<ul>\n",
    "    <li>Yanlış bir sonuca varma riskini azaltmak için, sıfır hipotezini yanlışlıkla reddetmek için bir olasılık eşiği belirlenir. Bu olasılık eşiği alfa veya anlamlılık düzeyi olarak bilinir. </li>\n",
    "    <li>Önyargıyı en aza indirmek için veri toplanmadan önce karar verilir, çünkü bir araştırmacı verileri gördükten sonra kendi çıkarlarına hizmet eden bir sonuç çıkarmak için farklı bir eşik seçebilir.</li>\n",
    "    <li>Bunun için tipik bir değer 0,05'tir, yani Chicago sakinlerinin Bangkok sakinlerinden daha uzun yaşadığı sonucuna yanlış bir şekilde varmak için yüzde beş şans vardır. </li>\n",
    "    <li>Veri toplandıktan sonra, p-değerinin alfa değerinden küçük ya da eşit olup olmadığına bakılır. Eğer p-değeri bu kriteri karşılıyorsa, sıfır hipotezini reddetme konusunda  güvenilebilir. Bu gerçekleşirse sonuçlar istatistiksel olarak anlamlı olarak tanımlanır.</li>\n",
    "</ul>\n",
    "\n",
    "**Type I/II Error** </br>\n",
    "\n",
    "<ul>\n",
    "    <li>Yanlış olduğu halde sıfır hipotezi yanlışlıkla kabul edilebilir. Bu, ikinci tip hata olarak bilinir.</li>\n",
    "    <li>Doğru olduğunda boş hipotezi yanlış bir şekilde reddedilebilir. Bu birinci tip hata olarak kabul edilir. </li>\n",
    "</ul>\n",
    "\n",
    "<img src=\"pictures/hist_exp_6.png\" height=500 width=500/> </br>\n",
    "\n",
    "\n",
    "**Result** </br>\n",
    "\n",
    "<ul>\n",
    "    <li>Alfa değerini belirledikten sonra, artık örneklem ortalama dağılımlarına dayanarak bir sonuç çıkarılabilir.</li>\n",
    "    <li>Dağılımların örtüşmesi, alfa eşiği olan 0.05'ten daha düşük bir değere karşılık gelmektedir; Bu da iki şehir arasındaki ortalama yaşam beklentisi farkının tesadüfen ortaya çıkma olasılığının %5'ten daha az olduğu anlamına gelmektedir. </li>\n",
    "    <li>Dolayısıyla, sıfır hipotezini reddedebilir ve Chicago'daki ortalama yaşam süresinin Bangkok'tan daha yüksek olduğu sonucuna varılabilir! </li>\n",
    "</ul>\n"
   ]
  },
  {
   "cell_type": "code",
   "execution_count": null,
   "id": "9bae5a43-5fc3-464d-abe0-8f738ff34f10",
   "metadata": {},
   "outputs": [],
   "source": []
  }
 ],
 "metadata": {
  "kernelspec": {
   "display_name": "Python 3 (ipykernel)",
   "language": "python",
   "name": "python3"
  },
  "language_info": {
   "codemirror_mode": {
    "name": "ipython",
    "version": 3
   },
   "file_extension": ".py",
   "mimetype": "text/x-python",
   "name": "python",
   "nbconvert_exporter": "python",
   "pygments_lexer": "ipython3",
   "version": "3.12.2"
  }
 },
 "nbformat": 4,
 "nbformat_minor": 5
}
